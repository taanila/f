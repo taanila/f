{
 "cells": [
  {
   "cell_type": "markdown",
   "metadata": {},
   "source": [
    "### Analyysejä analysointiosaamisen tehtävään 2"
   ]
  },
  {
   "cell_type": "code",
   "execution_count": 3,
   "metadata": {
    "scrolled": true
   },
   "outputs": [
    {
     "data": {
      "text/html": [
       "<div>\n",
       "<style scoped>\n",
       "    .dataframe tbody tr th:only-of-type {\n",
       "        vertical-align: middle;\n",
       "    }\n",
       "\n",
       "    .dataframe tbody tr th {\n",
       "        vertical-align: top;\n",
       "    }\n",
       "\n",
       "    .dataframe thead th {\n",
       "        text-align: right;\n",
       "    }\n",
       "</style>\n",
       "<table border=\"1\" class=\"dataframe\">\n",
       "  <thead>\n",
       "    <tr style=\"text-align: right;\">\n",
       "      <th></th>\n",
       "      <th>Rahaston nimi</th>\n",
       "      <th>5 vuoden tuotto (% vuodessa)</th>\n",
       "      <th>3 vuoden tuotto (% vuodessa)</th>\n",
       "      <th>1 vuoden tuotto</th>\n",
       "      <th>6 kuukauden tuotto</th>\n",
       "      <th>Hallinn. ja säilytyspalkkio (% vuodessa)</th>\n",
       "      <th>Rahastoluokka</th>\n",
       "    </tr>\n",
       "  </thead>\n",
       "  <tbody>\n",
       "    <tr>\n",
       "      <th>0</th>\n",
       "      <td>Aktia Capital</td>\n",
       "      <td>0.002047</td>\n",
       "      <td>-0.026440</td>\n",
       "      <td>-0.103994</td>\n",
       "      <td>-0.131157</td>\n",
       "      <td>0.0183</td>\n",
       "      <td>EQ_FINLAND</td>\n",
       "    </tr>\n",
       "    <tr>\n",
       "      <th>1</th>\n",
       "      <td>Danske Invest Suomen Pienyhtiöt K</td>\n",
       "      <td>0.020737</td>\n",
       "      <td>-0.024796</td>\n",
       "      <td>-0.047353</td>\n",
       "      <td>-0.099681</td>\n",
       "      <td>0.0130</td>\n",
       "      <td>EQ_FINLAND</td>\n",
       "    </tr>\n",
       "    <tr>\n",
       "      <th>2</th>\n",
       "      <td>Danske Invest Suomi Osake</td>\n",
       "      <td>-0.011636</td>\n",
       "      <td>-0.037180</td>\n",
       "      <td>-0.174224</td>\n",
       "      <td>-0.182178</td>\n",
       "      <td>0.0140</td>\n",
       "      <td>EQ_FINLAND</td>\n",
       "    </tr>\n",
       "    <tr>\n",
       "      <th>3</th>\n",
       "      <td>Danske Invest Suomi Osake I K</td>\n",
       "      <td>-0.002571</td>\n",
       "      <td>-0.032041</td>\n",
       "      <td>-0.172588</td>\n",
       "      <td>-0.181713</td>\n",
       "      <td>0.0095</td>\n",
       "      <td>EQ_FINLAND</td>\n",
       "    </tr>\n",
       "    <tr>\n",
       "      <th>4</th>\n",
       "      <td>Danske Invest Suomi Osake I T</td>\n",
       "      <td>NaN</td>\n",
       "      <td>NaN</td>\n",
       "      <td>NaN</td>\n",
       "      <td>NaN</td>\n",
       "      <td>0.0095</td>\n",
       "      <td>EQ_FINLAND</td>\n",
       "    </tr>\n",
       "  </tbody>\n",
       "</table>\n",
       "</div>"
      ],
      "text/plain": [
       "                       Rahaston nimi  5 vuoden tuotto (% vuodessa)  \\\n",
       "0                      Aktia Capital                      0.002047   \n",
       "1  Danske Invest Suomen Pienyhtiöt K                      0.020737   \n",
       "2          Danske Invest Suomi Osake                     -0.011636   \n",
       "3      Danske Invest Suomi Osake I K                     -0.002571   \n",
       "4      Danske Invest Suomi Osake I T                           NaN   \n",
       "\n",
       "   3 vuoden tuotto (% vuodessa)  1 vuoden tuotto  6 kuukauden tuotto  \\\n",
       "0                     -0.026440        -0.103994           -0.131157   \n",
       "1                     -0.024796        -0.047353           -0.099681   \n",
       "2                     -0.037180        -0.174224           -0.182178   \n",
       "3                     -0.032041        -0.172588           -0.181713   \n",
       "4                           NaN              NaN                 NaN   \n",
       "\n",
       "   Hallinn. ja säilytyspalkkio (% vuodessa) Rahastoluokka  \n",
       "0                                    0.0183    EQ_FINLAND  \n",
       "1                                    0.0130    EQ_FINLAND  \n",
       "2                                    0.0140    EQ_FINLAND  \n",
       "3                                    0.0095    EQ_FINLAND  \n",
       "4                                    0.0095    EQ_FINLAND  "
      ]
     },
     "execution_count": 3,
     "metadata": {},
     "output_type": "execute_result"
    }
   ],
   "source": [
    "# Kirjastojen tuonti\n",
    "import pandas as pd\n",
    "import matplotlib.pyplot as plt\n",
    "import seaborn as sns\n",
    "%matplotlib inline\n",
    "\n",
    "# Kaavioiden tyylimäärittely\n",
    "plt.style.use('seaborn-whitegrid')\n",
    "\n",
    "# Datan avaaminen\n",
    "df=pd.read_excel('http://myy.haaga-helia.fi/~taaak/a/t2aineisto.xlsx')\n",
    "df.head()"
   ]
  },
  {
   "cell_type": "code",
   "execution_count": 4,
   "metadata": {},
   "outputs": [],
   "source": [
    "# Lyhyemmät nimet muuttujille\n",
    "df.columns=['nimi', 'tuotto 5v', 'tuotto 3v', 'tuotto 1v', 'tuotto 6kk', 'palkkio', 'rahastoluokka']"
   ]
  },
  {
   "cell_type": "code",
   "execution_count": 5,
   "metadata": {},
   "outputs": [
    {
     "data": {
      "text/html": [
       "<div>\n",
       "<style scoped>\n",
       "    .dataframe tbody tr th:only-of-type {\n",
       "        vertical-align: middle;\n",
       "    }\n",
       "\n",
       "    .dataframe tbody tr th {\n",
       "        vertical-align: top;\n",
       "    }\n",
       "\n",
       "    .dataframe thead th {\n",
       "        text-align: right;\n",
       "    }\n",
       "</style>\n",
       "<table border=\"1\" class=\"dataframe\">\n",
       "  <thead>\n",
       "    <tr style=\"text-align: right;\">\n",
       "      <th></th>\n",
       "      <th>rahastoluokka</th>\n",
       "      <th>EQ_EMER_GLOBAL</th>\n",
       "      <th>EQ_EUROPE</th>\n",
       "      <th>EQ_FINLAND</th>\n",
       "      <th>EQ_NORAM</th>\n",
       "    </tr>\n",
       "  </thead>\n",
       "  <tbody>\n",
       "    <tr>\n",
       "      <th rowspan=\"8\" valign=\"top\">tuotto 5v</th>\n",
       "      <th>count</th>\n",
       "      <td>54.000000</td>\n",
       "      <td>104.000000</td>\n",
       "      <td>33.000000</td>\n",
       "      <td>56.000000</td>\n",
       "    </tr>\n",
       "    <tr>\n",
       "      <th>mean</th>\n",
       "      <td>-0.022450</td>\n",
       "      <td>-0.019864</td>\n",
       "      <td>0.016451</td>\n",
       "      <td>0.028780</td>\n",
       "    </tr>\n",
       "    <tr>\n",
       "      <th>std</th>\n",
       "      <td>0.028719</td>\n",
       "      <td>0.027466</td>\n",
       "      <td>0.023072</td>\n",
       "      <td>0.035590</td>\n",
       "    </tr>\n",
       "    <tr>\n",
       "      <th>min</th>\n",
       "      <td>-0.086432</td>\n",
       "      <td>-0.101999</td>\n",
       "      <td>-0.011636</td>\n",
       "      <td>-0.068993</td>\n",
       "    </tr>\n",
       "    <tr>\n",
       "      <th>25%</th>\n",
       "      <td>-0.041455</td>\n",
       "      <td>-0.035130</td>\n",
       "      <td>0.000594</td>\n",
       "      <td>-0.001991</td>\n",
       "    </tr>\n",
       "    <tr>\n",
       "      <th>50%</th>\n",
       "      <td>-0.019079</td>\n",
       "      <td>-0.020144</td>\n",
       "      <td>0.015170</td>\n",
       "      <td>0.035689</td>\n",
       "    </tr>\n",
       "    <tr>\n",
       "      <th>75%</th>\n",
       "      <td>0.000158</td>\n",
       "      <td>-0.006882</td>\n",
       "      <td>0.022508</td>\n",
       "      <td>0.050302</td>\n",
       "    </tr>\n",
       "    <tr>\n",
       "      <th>max</th>\n",
       "      <td>0.043421</td>\n",
       "      <td>0.071154</td>\n",
       "      <td>0.088826</td>\n",
       "      <td>0.124953</td>\n",
       "    </tr>\n",
       "    <tr>\n",
       "      <th rowspan=\"8\" valign=\"top\">tuotto 3v</th>\n",
       "      <th>count</th>\n",
       "      <td>57.000000</td>\n",
       "      <td>114.000000</td>\n",
       "      <td>33.000000</td>\n",
       "      <td>65.000000</td>\n",
       "    </tr>\n",
       "    <tr>\n",
       "      <th>mean</th>\n",
       "      <td>-0.048802</td>\n",
       "      <td>-0.045963</td>\n",
       "      <td>-0.020560</td>\n",
       "      <td>0.008633</td>\n",
       "    </tr>\n",
       "    <tr>\n",
       "      <th>std</th>\n",
       "      <td>0.043194</td>\n",
       "      <td>0.041680</td>\n",
       "      <td>0.024051</td>\n",
       "      <td>0.054322</td>\n",
       "    </tr>\n",
       "    <tr>\n",
       "      <th>min</th>\n",
       "      <td>-0.148597</td>\n",
       "      <td>-0.186813</td>\n",
       "      <td>-0.059025</td>\n",
       "      <td>-0.147673</td>\n",
       "    </tr>\n",
       "    <tr>\n",
       "      <th>25%</th>\n",
       "      <td>-0.072636</td>\n",
       "      <td>-0.068426</td>\n",
       "      <td>-0.034291</td>\n",
       "      <td>-0.025605</td>\n",
       "    </tr>\n",
       "    <tr>\n",
       "      <th>50%</th>\n",
       "      <td>-0.041056</td>\n",
       "      <td>-0.044595</td>\n",
       "      <td>-0.024796</td>\n",
       "      <td>0.023221</td>\n",
       "    </tr>\n",
       "    <tr>\n",
       "      <th>75%</th>\n",
       "      <td>-0.014003</td>\n",
       "      <td>-0.028815</td>\n",
       "      <td>-0.012755</td>\n",
       "      <td>0.032245</td>\n",
       "    </tr>\n",
       "    <tr>\n",
       "      <th>max</th>\n",
       "      <td>0.018467</td>\n",
       "      <td>0.088596</td>\n",
       "      <td>0.070108</td>\n",
       "      <td>0.136278</td>\n",
       "    </tr>\n",
       "    <tr>\n",
       "      <th rowspan=\"8\" valign=\"top\">tuotto 1v</th>\n",
       "      <th>count</th>\n",
       "      <td>67.000000</td>\n",
       "      <td>127.000000</td>\n",
       "      <td>40.000000</td>\n",
       "      <td>68.000000</td>\n",
       "    </tr>\n",
       "    <tr>\n",
       "      <th>mean</th>\n",
       "      <td>-0.190147</td>\n",
       "      <td>-0.152228</td>\n",
       "      <td>-0.112126</td>\n",
       "      <td>-0.090031</td>\n",
       "    </tr>\n",
       "    <tr>\n",
       "      <th>std</th>\n",
       "      <td>0.071433</td>\n",
       "      <td>0.079656</td>\n",
       "      <td>0.074414</td>\n",
       "      <td>0.080377</td>\n",
       "    </tr>\n",
       "    <tr>\n",
       "      <th>min</th>\n",
       "      <td>-0.349791</td>\n",
       "      <td>-0.371107</td>\n",
       "      <td>-0.187938</td>\n",
       "      <td>-0.325370</td>\n",
       "    </tr>\n",
       "    <tr>\n",
       "      <th>25%</th>\n",
       "      <td>-0.233017</td>\n",
       "      <td>-0.191296</td>\n",
       "      <td>-0.155858</td>\n",
       "      <td>-0.137093</td>\n",
       "    </tr>\n",
       "    <tr>\n",
       "      <th>50%</th>\n",
       "      <td>-0.168377</td>\n",
       "      <td>-0.147266</td>\n",
       "      <td>-0.141167</td>\n",
       "      <td>-0.065193</td>\n",
       "    </tr>\n",
       "    <tr>\n",
       "      <th>75%</th>\n",
       "      <td>-0.139576</td>\n",
       "      <td>-0.110521</td>\n",
       "      <td>-0.102229</td>\n",
       "      <td>-0.039367</td>\n",
       "    </tr>\n",
       "    <tr>\n",
       "      <th>max</th>\n",
       "      <td>-0.051432</td>\n",
       "      <td>0.050671</td>\n",
       "      <td>0.101257</td>\n",
       "      <td>0.051386</td>\n",
       "    </tr>\n",
       "    <tr>\n",
       "      <th rowspan=\"8\" valign=\"top\">tuotto 6kk</th>\n",
       "      <th>count</th>\n",
       "      <td>67.000000</td>\n",
       "      <td>127.000000</td>\n",
       "      <td>40.000000</td>\n",
       "      <td>69.000000</td>\n",
       "    </tr>\n",
       "    <tr>\n",
       "      <th>mean</th>\n",
       "      <td>-0.196737</td>\n",
       "      <td>-0.189717</td>\n",
       "      <td>-0.147885</td>\n",
       "      <td>-0.152490</td>\n",
       "    </tr>\n",
       "    <tr>\n",
       "      <th>std</th>\n",
       "      <td>0.066759</td>\n",
       "      <td>0.065231</td>\n",
       "      <td>0.047742</td>\n",
       "      <td>0.065688</td>\n",
       "    </tr>\n",
       "    <tr>\n",
       "      <th>min</th>\n",
       "      <td>-0.365721</td>\n",
       "      <td>-0.380375</td>\n",
       "      <td>-0.203486</td>\n",
       "      <td>-0.278607</td>\n",
       "    </tr>\n",
       "    <tr>\n",
       "      <th>25%</th>\n",
       "      <td>-0.214153</td>\n",
       "      <td>-0.229929</td>\n",
       "      <td>-0.177757</td>\n",
       "      <td>-0.202897</td>\n",
       "    </tr>\n",
       "    <tr>\n",
       "      <th>50%</th>\n",
       "      <td>-0.181223</td>\n",
       "      <td>-0.185751</td>\n",
       "      <td>-0.163163</td>\n",
       "      <td>-0.137823</td>\n",
       "    </tr>\n",
       "    <tr>\n",
       "      <th>75%</th>\n",
       "      <td>-0.151334</td>\n",
       "      <td>-0.160616</td>\n",
       "      <td>-0.128455</td>\n",
       "      <td>-0.111822</td>\n",
       "    </tr>\n",
       "    <tr>\n",
       "      <th>max</th>\n",
       "      <td>-0.083832</td>\n",
       "      <td>0.023839</td>\n",
       "      <td>-0.006927</td>\n",
       "      <td>0.031167</td>\n",
       "    </tr>\n",
       "    <tr>\n",
       "      <th rowspan=\"8\" valign=\"top\">palkkio</th>\n",
       "      <th>count</th>\n",
       "      <td>68.000000</td>\n",
       "      <td>133.000000</td>\n",
       "      <td>46.000000</td>\n",
       "      <td>71.000000</td>\n",
       "    </tr>\n",
       "    <tr>\n",
       "      <th>mean</th>\n",
       "      <td>0.015090</td>\n",
       "      <td>0.012036</td>\n",
       "      <td>0.012085</td>\n",
       "      <td>0.012015</td>\n",
       "    </tr>\n",
       "    <tr>\n",
       "      <th>std</th>\n",
       "      <td>0.005920</td>\n",
       "      <td>0.005520</td>\n",
       "      <td>0.005854</td>\n",
       "      <td>0.006003</td>\n",
       "    </tr>\n",
       "    <tr>\n",
       "      <th>min</th>\n",
       "      <td>0.002000</td>\n",
       "      <td>0.000000</td>\n",
       "      <td>0.001590</td>\n",
       "      <td>0.000000</td>\n",
       "    </tr>\n",
       "    <tr>\n",
       "      <th>25%</th>\n",
       "      <td>0.010000</td>\n",
       "      <td>0.008000</td>\n",
       "      <td>0.006525</td>\n",
       "      <td>0.007000</td>\n",
       "    </tr>\n",
       "    <tr>\n",
       "      <th>50%</th>\n",
       "      <td>0.016000</td>\n",
       "      <td>0.012000</td>\n",
       "      <td>0.013000</td>\n",
       "      <td>0.015000</td>\n",
       "    </tr>\n",
       "    <tr>\n",
       "      <th>75%</th>\n",
       "      <td>0.019000</td>\n",
       "      <td>0.017500</td>\n",
       "      <td>0.017875</td>\n",
       "      <td>0.018000</td>\n",
       "    </tr>\n",
       "    <tr>\n",
       "      <th>max</th>\n",
       "      <td>0.025000</td>\n",
       "      <td>0.020000</td>\n",
       "      <td>0.020000</td>\n",
       "      <td>0.020000</td>\n",
       "    </tr>\n",
       "  </tbody>\n",
       "</table>\n",
       "</div>"
      ],
      "text/plain": [
       "rahastoluokka     EQ_EMER_GLOBAL   EQ_EUROPE  EQ_FINLAND   EQ_NORAM\n",
       "tuotto 5v  count       54.000000  104.000000   33.000000  56.000000\n",
       "           mean        -0.022450   -0.019864    0.016451   0.028780\n",
       "           std          0.028719    0.027466    0.023072   0.035590\n",
       "           min         -0.086432   -0.101999   -0.011636  -0.068993\n",
       "           25%         -0.041455   -0.035130    0.000594  -0.001991\n",
       "           50%         -0.019079   -0.020144    0.015170   0.035689\n",
       "           75%          0.000158   -0.006882    0.022508   0.050302\n",
       "           max          0.043421    0.071154    0.088826   0.124953\n",
       "tuotto 3v  count       57.000000  114.000000   33.000000  65.000000\n",
       "           mean        -0.048802   -0.045963   -0.020560   0.008633\n",
       "           std          0.043194    0.041680    0.024051   0.054322\n",
       "           min         -0.148597   -0.186813   -0.059025  -0.147673\n",
       "           25%         -0.072636   -0.068426   -0.034291  -0.025605\n",
       "           50%         -0.041056   -0.044595   -0.024796   0.023221\n",
       "           75%         -0.014003   -0.028815   -0.012755   0.032245\n",
       "           max          0.018467    0.088596    0.070108   0.136278\n",
       "tuotto 1v  count       67.000000  127.000000   40.000000  68.000000\n",
       "           mean        -0.190147   -0.152228   -0.112126  -0.090031\n",
       "           std          0.071433    0.079656    0.074414   0.080377\n",
       "           min         -0.349791   -0.371107   -0.187938  -0.325370\n",
       "           25%         -0.233017   -0.191296   -0.155858  -0.137093\n",
       "           50%         -0.168377   -0.147266   -0.141167  -0.065193\n",
       "           75%         -0.139576   -0.110521   -0.102229  -0.039367\n",
       "           max         -0.051432    0.050671    0.101257   0.051386\n",
       "tuotto 6kk count       67.000000  127.000000   40.000000  69.000000\n",
       "           mean        -0.196737   -0.189717   -0.147885  -0.152490\n",
       "           std          0.066759    0.065231    0.047742   0.065688\n",
       "           min         -0.365721   -0.380375   -0.203486  -0.278607\n",
       "           25%         -0.214153   -0.229929   -0.177757  -0.202897\n",
       "           50%         -0.181223   -0.185751   -0.163163  -0.137823\n",
       "           75%         -0.151334   -0.160616   -0.128455  -0.111822\n",
       "           max         -0.083832    0.023839   -0.006927   0.031167\n",
       "palkkio    count       68.000000  133.000000   46.000000  71.000000\n",
       "           mean         0.015090    0.012036    0.012085   0.012015\n",
       "           std          0.005920    0.005520    0.005854   0.006003\n",
       "           min          0.002000    0.000000    0.001590   0.000000\n",
       "           25%          0.010000    0.008000    0.006525   0.007000\n",
       "           50%          0.016000    0.012000    0.013000   0.015000\n",
       "           75%          0.019000    0.017500    0.017875   0.018000\n",
       "           max          0.025000    0.020000    0.020000   0.020000"
      ]
     },
     "execution_count": 5,
     "metadata": {},
     "output_type": "execute_result"
    }
   ],
   "source": [
    "#Tilastolliset tunnusluvut rahastoluokittain\n",
    "df.groupby('rahastoluokka').describe().T"
   ]
  },
  {
   "cell_type": "code",
   "execution_count": 6,
   "metadata": {},
   "outputs": [
    {
     "data": {
      "text/plain": [
       "<matplotlib.axes._subplots.AxesSubplot at 0x29aebfaf3c8>"
      ]
     },
     "execution_count": 6,
     "metadata": {},
     "output_type": "execute_result"
    },
    {
     "data": {
      "image/png": "[encoded data removed]",
      "text/plain": [
       "<Figure size 432x288 with 1 Axes>"
      ]
     },
     "metadata": {},
     "output_type": "display_data"
    }
   ],
   "source": [
    "sns.boxplot(x='rahastoluokka', y='tuotto 5v', data=df)"
   ]
  },
  {
   "cell_type": "code",
   "execution_count": 7,
   "metadata": {},
   "outputs": [
    {
     "data": {
      "text/plain": [
       "<matplotlib.axes._subplots.AxesSubplot at 0x29aed32dc50>"
      ]
     },
     "execution_count": 7,
     "metadata": {},
     "output_type": "execute_result"
    },
    {
     "data": {
      "image/png": "[encoded data removed]",
      "text/plain": [
       "<Figure size 432x288 with 1 Axes>"
      ]
     },
     "metadata": {},
     "output_type": "display_data"
    }
   ],
   "source": [
    "sns.boxplot(x='rahastoluokka', y='tuotto 3v', data=df)"
   ]
  },
  {
   "cell_type": "code",
   "execution_count": 8,
   "metadata": {},
   "outputs": [
    {
     "data": {
      "text/plain": [
       "<matplotlib.axes._subplots.AxesSubplot at 0x29aed3cfeb8>"
      ]
     },
     "execution_count": 8,
     "metadata": {},
     "output_type": "execute_result"
    },
    {
     "data": {
      "image/png": "[encoded data removed]",
      "text/plain": [
       "<Figure size 432x288 with 1 Axes>"
      ]
     },
     "metadata": {},
     "output_type": "display_data"
    }
   ],
   "source": [
    "sns.boxplot(x='rahastoluokka', y='tuotto 1v', data=df)"
   ]
  },
  {
   "cell_type": "code",
   "execution_count": 9,
   "metadata": {},
   "outputs": [
    {
     "data": {
      "text/plain": [
       "<matplotlib.axes._subplots.AxesSubplot at 0x29aed45fa90>"
      ]
     },
     "execution_count": 9,
     "metadata": {},
     "output_type": "execute_result"
    },
    {
     "data": {
      "image/png": "[encoded data removed]",
      "text/plain": [
       "<Figure size 432x288 with 1 Axes>"
      ]
     },
     "metadata": {},
     "output_type": "display_data"
    }
   ],
   "source": [
    "sns.boxplot(x='rahastoluokka', y='tuotto 6kk', data=df)"
   ]
  },
  {
   "cell_type": "code",
   "execution_count": 10,
   "metadata": {},
   "outputs": [
    {
     "data": {
      "text/plain": [
       "<matplotlib.axes._subplots.AxesSubplot at 0x29aed3b4d30>"
      ]
     },
     "execution_count": 10,
     "metadata": {},
     "output_type": "execute_result"
    },
    {
     "data": {
      "image/png": "[encoded data removed]",
      "text/plain": [
       "<Figure size 432x288 with 1 Axes>"
      ]
     },
     "metadata": {},
     "output_type": "display_data"
    }
   ],
   "source": [
    "sns.boxplot(x='rahastoluokka', y='palkkio', data=df)"
   ]
  },
  {
   "cell_type": "code",
   "execution_count": 11,
   "metadata": {},
   "outputs": [
    {
     "data": {
      "text/html": [
       "<div>\n",
       "<style scoped>\n",
       "    .dataframe tbody tr th:only-of-type {\n",
       "        vertical-align: middle;\n",
       "    }\n",
       "\n",
       "    .dataframe tbody tr th {\n",
       "        vertical-align: top;\n",
       "    }\n",
       "\n",
       "    .dataframe thead th {\n",
       "        text-align: right;\n",
       "    }\n",
       "</style>\n",
       "<table border=\"1\" class=\"dataframe\">\n",
       "  <thead>\n",
       "    <tr style=\"text-align: right;\">\n",
       "      <th></th>\n",
       "      <th></th>\n",
       "      <th>tuotto 1v</th>\n",
       "      <th>palkkio</th>\n",
       "    </tr>\n",
       "    <tr>\n",
       "      <th>rahastoluokka</th>\n",
       "      <th></th>\n",
       "      <th></th>\n",
       "      <th></th>\n",
       "    </tr>\n",
       "  </thead>\n",
       "  <tbody>\n",
       "    <tr>\n",
       "      <th rowspan=\"2\" valign=\"top\">EQ_EMER_GLOBAL</th>\n",
       "      <th>tuotto 1v</th>\n",
       "      <td>1.000000</td>\n",
       "      <td>-0.126660</td>\n",
       "    </tr>\n",
       "    <tr>\n",
       "      <th>palkkio</th>\n",
       "      <td>-0.126660</td>\n",
       "      <td>1.000000</td>\n",
       "    </tr>\n",
       "    <tr>\n",
       "      <th rowspan=\"2\" valign=\"top\">EQ_EUROPE</th>\n",
       "      <th>tuotto 1v</th>\n",
       "      <td>1.000000</td>\n",
       "      <td>-0.183645</td>\n",
       "    </tr>\n",
       "    <tr>\n",
       "      <th>palkkio</th>\n",
       "      <td>-0.183645</td>\n",
       "      <td>1.000000</td>\n",
       "    </tr>\n",
       "    <tr>\n",
       "      <th rowspan=\"2\" valign=\"top\">EQ_FINLAND</th>\n",
       "      <th>tuotto 1v</th>\n",
       "      <td>1.000000</td>\n",
       "      <td>0.277580</td>\n",
       "    </tr>\n",
       "    <tr>\n",
       "      <th>palkkio</th>\n",
       "      <td>0.277580</td>\n",
       "      <td>1.000000</td>\n",
       "    </tr>\n",
       "    <tr>\n",
       "      <th rowspan=\"2\" valign=\"top\">EQ_NORAM</th>\n",
       "      <th>tuotto 1v</th>\n",
       "      <td>1.000000</td>\n",
       "      <td>-0.168757</td>\n",
       "    </tr>\n",
       "    <tr>\n",
       "      <th>palkkio</th>\n",
       "      <td>-0.168757</td>\n",
       "      <td>1.000000</td>\n",
       "    </tr>\n",
       "  </tbody>\n",
       "</table>\n",
       "</div>"
      ],
      "text/plain": [
       "                          tuotto 1v   palkkio\n",
       "rahastoluokka                                \n",
       "EQ_EMER_GLOBAL tuotto 1v   1.000000 -0.126660\n",
       "               palkkio    -0.126660  1.000000\n",
       "EQ_EUROPE      tuotto 1v   1.000000 -0.183645\n",
       "               palkkio    -0.183645  1.000000\n",
       "EQ_FINLAND     tuotto 1v   1.000000  0.277580\n",
       "               palkkio     0.277580  1.000000\n",
       "EQ_NORAM       tuotto 1v   1.000000 -0.168757\n",
       "               palkkio    -0.168757  1.000000"
      ]
     },
     "execution_count": 11,
     "metadata": {},
     "output_type": "execute_result"
    }
   ],
   "source": [
    "# Korrelaatiokertoimen 1v tuoton ja palkkion välille rahastoluokittain\n",
    "df.groupby('rahastoluokka')[['tuotto 1v','palkkio']].corr()"
   ]
  },
  {
   "cell_type": "code",
   "execution_count": 12,
   "metadata": {},
   "outputs": [
    {
     "name": "stdout",
     "output_type": "stream",
     "text": [
      "EQ_FINLAND korrelaatio 0.278, p-arvo 0.083\n",
      "EQ_EUROPE korrelaatio -0.184, p-arvo 0.039\n",
      "EQ_NORAM korrelaatio -0.169, p-arvo 0.169\n",
      "EQ_EMER_GLOBAL korrelaatio -0.127, p-arvo 0.307\n"
     ]
    }
   ],
   "source": [
    "# pearsonr-funktion tuonti scipy.stats-kirjastosta\n",
    "from scipy.stats import pearsonr\n",
    "\n",
    "# Korrelaatiokertoimet ja p-arvot 1v tuoton ja palkkion välille rahastoluokittain\n",
    "for luokka in pd.unique(df['rahastoluokka']):\n",
    "    df_dropna = df[df['rahastoluokka']==luokka].dropna(subset=['tuotto 1v', 'palkkio'])\n",
    "    corr, p = pearsonr(df_dropna['tuotto 1v'], df_dropna['palkkio'])\n",
    "    print(luokka, 'korrelaatio %.3f,' %corr, 'p-arvo %.3f' %p)"
   ]
  },
  {
   "cell_type": "code",
   "execution_count": 13,
   "metadata": {},
   "outputs": [
    {
     "data": {
      "image/png": "[encoded data removed]",
      "text/plain": [
       "<Figure size 864x216 with 4 Axes>"
      ]
     },
     "metadata": {},
     "output_type": "display_data"
    }
   ],
   "source": [
    "# 1v tuotot ja palkkiot pistekaavioina rahastoluokittain\n",
    "g = sns.FacetGrid(data=df, col='rahastoluokka')\n",
    "g = g.map(plt.scatter, 'palkkio', 'tuotto 1v')"
   ]
  }
 ],
 "metadata": {
  "kernelspec": {
   "display_name": "Python 3",
   "language": "python",
   "name": "python3"
  },
  "language_info": {
   "codemirror_mode": {
    "name": "ipython",
    "version": 3
   },
   "file_extension": ".py",
   "mimetype": "text/x-python",
   "name": "python",
   "nbconvert_exporter": "python",
   "pygments_lexer": "ipython3",
   "version": "3.7.3"
  }
 },
 "nbformat": 4,
 "nbformat_minor": 2
}
