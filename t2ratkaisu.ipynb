{
 "cells": [
  {
   "cell_type": "markdown",
   "metadata": {},
   "source": [
    "### Analyysejä analysointiosaamisen tehtävään 2"
   ]
  },
  {
   "cell_type": "code",
   "execution_count": 1,
   "metadata": {
    "scrolled": true
   },
   "outputs": [
    {
     "data": {
      "text/html": [
       "<div>\n",
       "<style scoped>\n",
       "    .dataframe tbody tr th:only-of-type {\n",
       "        vertical-align: middle;\n",
       "    }\n",
       "\n",
       "    .dataframe tbody tr th {\n",
       "        vertical-align: top;\n",
       "    }\n",
       "\n",
       "    .dataframe thead th {\n",
       "        text-align: right;\n",
       "    }\n",
       "</style>\n",
       "<table border=\"1\" class=\"dataframe\">\n",
       "  <thead>\n",
       "    <tr style=\"text-align: right;\">\n",
       "      <th></th>\n",
       "      <th>nro</th>\n",
       "      <th>Rahaston nimi</th>\n",
       "      <th>5 vuoden tuotto (% vuodessa)</th>\n",
       "      <th>3 vuoden tuotto (% vuodessa)</th>\n",
       "      <th>1 vuoden tuotto</th>\n",
       "      <th>6 kuukauden tuotto</th>\n",
       "      <th>Hallinn. ja säilytyspalkkio (% vuodessa)</th>\n",
       "      <th>Rahastoluokka</th>\n",
       "    </tr>\n",
       "  </thead>\n",
       "  <tbody>\n",
       "    <tr>\n",
       "      <th>0</th>\n",
       "      <td>0</td>\n",
       "      <td>Aktia Capital</td>\n",
       "      <td>0.158705</td>\n",
       "      <td>0.208467</td>\n",
       "      <td>0.613970</td>\n",
       "      <td>0.252193</td>\n",
       "      <td>0.0183</td>\n",
       "      <td>EQ_FINLAND</td>\n",
       "    </tr>\n",
       "    <tr>\n",
       "      <th>1</th>\n",
       "      <td>1</td>\n",
       "      <td>Danske Invest Suomi Osake</td>\n",
       "      <td>0.126252</td>\n",
       "      <td>0.137717</td>\n",
       "      <td>0.444420</td>\n",
       "      <td>0.207609</td>\n",
       "      <td>0.0140</td>\n",
       "      <td>EQ_FINLAND</td>\n",
       "    </tr>\n",
       "    <tr>\n",
       "      <th>2</th>\n",
       "      <td>2</td>\n",
       "      <td>Danske Invest Suomi Osake I K</td>\n",
       "      <td>0.131878</td>\n",
       "      <td>0.140050</td>\n",
       "      <td>0.450873</td>\n",
       "      <td>0.210297</td>\n",
       "      <td>0.0095</td>\n",
       "      <td>EQ_FINLAND</td>\n",
       "    </tr>\n",
       "    <tr>\n",
       "      <th>3</th>\n",
       "      <td>3</td>\n",
       "      <td>Danske Invest Suomi Osake I T</td>\n",
       "      <td>NaN</td>\n",
       "      <td>NaN</td>\n",
       "      <td>0.397628</td>\n",
       "      <td>0.165880</td>\n",
       "      <td>0.0095</td>\n",
       "      <td>EQ_FINLAND</td>\n",
       "    </tr>\n",
       "    <tr>\n",
       "      <th>4</th>\n",
       "      <td>4</td>\n",
       "      <td>Danske Invest Suomi Osake IW K</td>\n",
       "      <td>NaN</td>\n",
       "      <td>0.143800</td>\n",
       "      <td>0.455620</td>\n",
       "      <td>0.212268</td>\n",
       "      <td>0.0062</td>\n",
       "      <td>EQ_FINLAND</td>\n",
       "    </tr>\n",
       "  </tbody>\n",
       "</table>\n",
       "</div>"
      ],
      "text/plain": [
       "   nro                   Rahaston nimi  5 vuoden tuotto (% vuodessa)  \\\n",
       "0    0                   Aktia Capital                      0.158705   \n",
       "1    1       Danske Invest Suomi Osake                      0.126252   \n",
       "2    2   Danske Invest Suomi Osake I K                      0.131878   \n",
       "3    3   Danske Invest Suomi Osake I T                           NaN   \n",
       "4    4  Danske Invest Suomi Osake IW K                           NaN   \n",
       "\n",
       "   3 vuoden tuotto (% vuodessa)  1 vuoden tuotto  6 kuukauden tuotto  \\\n",
       "0                      0.208467         0.613970            0.252193   \n",
       "1                      0.137717         0.444420            0.207609   \n",
       "2                      0.140050         0.450873            0.210297   \n",
       "3                           NaN         0.397628            0.165880   \n",
       "4                      0.143800         0.455620            0.212268   \n",
       "\n",
       "   Hallinn. ja säilytyspalkkio (% vuodessa) Rahastoluokka  \n",
       "0                                    0.0183    EQ_FINLAND  \n",
       "1                                    0.0140    EQ_FINLAND  \n",
       "2                                    0.0095    EQ_FINLAND  \n",
       "3                                    0.0095    EQ_FINLAND  \n",
       "4                                    0.0062    EQ_FINLAND  "
      ]
     },
     "execution_count": 1,
     "metadata": {},
     "output_type": "execute_result"
    }
   ],
   "source": [
    "# Kirjastojen tuonti\n",
    "import pandas as pd\n",
    "import matplotlib.pyplot as plt\n",
    "import seaborn as sns\n",
    "%matplotlib inline\n",
    "\n",
    "# Kaavioiden tyylimäärittely\n",
    "plt.style.use('seaborn-whitegrid')\n",
    "\n",
    "# Datan avaaminen\n",
    "df=pd.read_excel('https://taanila.fi/t2aineisto.xlsx')\n",
    "df.head()"
   ]
  },
  {
   "cell_type": "code",
   "execution_count": 3,
   "metadata": {},
   "outputs": [],
   "source": [
    "# Lyhyemmät nimet muuttujille\n",
    "df = df.drop(['nro'], axis = 1)\n",
    "df.columns=['nimi', 'tuotto 5v', 'tuotto 3v', 'tuotto 1v', 'tuotto 6kk', 'palkkio', 'rahastoluokka']"
   ]
  },
  {
   "cell_type": "code",
   "execution_count": 4,
   "metadata": {},
   "outputs": [
    {
     "data": {
      "text/plain": [
       "EQ_EUROPE         130\n",
       "EQ_NORAM           75\n",
       "EQ_EMER_GLOBAL     62\n",
       "EQ_FINLAND         41\n",
       "Name: rahastoluokka, dtype: int64"
      ]
     },
     "execution_count": 4,
     "metadata": {},
     "output_type": "execute_result"
    }
   ],
   "source": [
    "df['rahastoluokka'].value_counts()"
   ]
  },
  {
   "cell_type": "code",
   "execution_count": 5,
   "metadata": {},
   "outputs": [
    {
     "data": {
      "text/html": [
       "<div>\n",
       "<style scoped>\n",
       "    .dataframe tbody tr th:only-of-type {\n",
       "        vertical-align: middle;\n",
       "    }\n",
       "\n",
       "    .dataframe tbody tr th {\n",
       "        vertical-align: top;\n",
       "    }\n",
       "\n",
       "    .dataframe thead th {\n",
       "        text-align: right;\n",
       "    }\n",
       "</style>\n",
       "<table border=\"1\" class=\"dataframe\">\n",
       "  <thead>\n",
       "    <tr style=\"text-align: right;\">\n",
       "      <th></th>\n",
       "      <th>rahastoluokka</th>\n",
       "      <th>EQ_EMER_GLOBAL</th>\n",
       "      <th>EQ_EUROPE</th>\n",
       "      <th>EQ_FINLAND</th>\n",
       "      <th>EQ_NORAM</th>\n",
       "    </tr>\n",
       "  </thead>\n",
       "  <tbody>\n",
       "    <tr>\n",
       "      <th rowspan=\"8\" valign=\"top\">tuotto 5v</th>\n",
       "      <th>count</th>\n",
       "      <td>49.000000</td>\n",
       "      <td>95.000000</td>\n",
       "      <td>31.000000</td>\n",
       "      <td>56.000000</td>\n",
       "    </tr>\n",
       "    <tr>\n",
       "      <th>mean</th>\n",
       "      <td>0.084933</td>\n",
       "      <td>0.091022</td>\n",
       "      <td>0.154373</td>\n",
       "      <td>0.140084</td>\n",
       "    </tr>\n",
       "    <tr>\n",
       "      <th>std</th>\n",
       "      <td>0.031673</td>\n",
       "      <td>0.033963</td>\n",
       "      <td>0.029656</td>\n",
       "      <td>0.044094</td>\n",
       "    </tr>\n",
       "    <tr>\n",
       "      <th>min</th>\n",
       "      <td>-0.006594</td>\n",
       "      <td>-0.018979</td>\n",
       "      <td>0.122440</td>\n",
       "      <td>0.047257</td>\n",
       "    </tr>\n",
       "    <tr>\n",
       "      <th>25%</th>\n",
       "      <td>0.070203</td>\n",
       "      <td>0.073707</td>\n",
       "      <td>0.134746</td>\n",
       "      <td>0.105943</td>\n",
       "    </tr>\n",
       "    <tr>\n",
       "      <th>50%</th>\n",
       "      <td>0.088270</td>\n",
       "      <td>0.088441</td>\n",
       "      <td>0.142104</td>\n",
       "      <td>0.149715</td>\n",
       "    </tr>\n",
       "    <tr>\n",
       "      <th>75%</th>\n",
       "      <td>0.109562</td>\n",
       "      <td>0.108775</td>\n",
       "      <td>0.160958</td>\n",
       "      <td>0.158390</td>\n",
       "    </tr>\n",
       "    <tr>\n",
       "      <th>max</th>\n",
       "      <td>0.139739</td>\n",
       "      <td>0.176038</td>\n",
       "      <td>0.240005</td>\n",
       "      <td>0.245334</td>\n",
       "    </tr>\n",
       "    <tr>\n",
       "      <th rowspan=\"8\" valign=\"top\">tuotto 3v</th>\n",
       "      <th>count</th>\n",
       "      <td>54.000000</td>\n",
       "      <td>105.000000</td>\n",
       "      <td>38.000000</td>\n",
       "      <td>64.000000</td>\n",
       "    </tr>\n",
       "    <tr>\n",
       "      <th>mean</th>\n",
       "      <td>0.087105</td>\n",
       "      <td>0.084712</td>\n",
       "      <td>0.178443</td>\n",
       "      <td>0.153677</td>\n",
       "    </tr>\n",
       "    <tr>\n",
       "      <th>std</th>\n",
       "      <td>0.042124</td>\n",
       "      <td>0.049486</td>\n",
       "      <td>0.057465</td>\n",
       "      <td>0.053089</td>\n",
       "    </tr>\n",
       "    <tr>\n",
       "      <th>min</th>\n",
       "      <td>-0.024136</td>\n",
       "      <td>-0.099823</td>\n",
       "      <td>0.130860</td>\n",
       "      <td>0.008903</td>\n",
       "    </tr>\n",
       "    <tr>\n",
       "      <th>25%</th>\n",
       "      <td>0.062759</td>\n",
       "      <td>0.061549</td>\n",
       "      <td>0.135574</td>\n",
       "      <td>0.115153</td>\n",
       "    </tr>\n",
       "    <tr>\n",
       "      <th>50%</th>\n",
       "      <td>0.086466</td>\n",
       "      <td>0.080147</td>\n",
       "      <td>0.148711</td>\n",
       "      <td>0.169467</td>\n",
       "    </tr>\n",
       "    <tr>\n",
       "      <th>75%</th>\n",
       "      <td>0.117876</td>\n",
       "      <td>0.112702</td>\n",
       "      <td>0.200685</td>\n",
       "      <td>0.178303</td>\n",
       "    </tr>\n",
       "    <tr>\n",
       "      <th>max</th>\n",
       "      <td>0.177875</td>\n",
       "      <td>0.209487</td>\n",
       "      <td>0.305460</td>\n",
       "      <td>0.276681</td>\n",
       "    </tr>\n",
       "    <tr>\n",
       "      <th rowspan=\"8\" valign=\"top\">tuotto 1v</th>\n",
       "      <th>count</th>\n",
       "      <td>57.000000</td>\n",
       "      <td>116.000000</td>\n",
       "      <td>41.000000</td>\n",
       "      <td>73.000000</td>\n",
       "    </tr>\n",
       "    <tr>\n",
       "      <th>mean</th>\n",
       "      <td>0.266854</td>\n",
       "      <td>0.352933</td>\n",
       "      <td>0.520921</td>\n",
       "      <td>0.368949</td>\n",
       "    </tr>\n",
       "    <tr>\n",
       "      <th>std</th>\n",
       "      <td>0.118584</td>\n",
       "      <td>0.124087</td>\n",
       "      <td>0.131052</td>\n",
       "      <td>0.058259</td>\n",
       "    </tr>\n",
       "    <tr>\n",
       "      <th>min</th>\n",
       "      <td>0.116341</td>\n",
       "      <td>-0.014161</td>\n",
       "      <td>0.324779</td>\n",
       "      <td>0.146871</td>\n",
       "    </tr>\n",
       "    <tr>\n",
       "      <th>25%</th>\n",
       "      <td>0.191352</td>\n",
       "      <td>0.292346</td>\n",
       "      <td>0.418983</td>\n",
       "      <td>0.349265</td>\n",
       "    </tr>\n",
       "    <tr>\n",
       "      <th>50%</th>\n",
       "      <td>0.234373</td>\n",
       "      <td>0.319597</td>\n",
       "      <td>0.474577</td>\n",
       "      <td>0.364346</td>\n",
       "    </tr>\n",
       "    <tr>\n",
       "      <th>75%</th>\n",
       "      <td>0.294134</td>\n",
       "      <td>0.410674</td>\n",
       "      <td>0.586276</td>\n",
       "      <td>0.399092</td>\n",
       "    </tr>\n",
       "    <tr>\n",
       "      <th>max</th>\n",
       "      <td>0.652290</td>\n",
       "      <td>0.837191</td>\n",
       "      <td>0.817576</td>\n",
       "      <td>0.559510</td>\n",
       "    </tr>\n",
       "    <tr>\n",
       "      <th rowspan=\"8\" valign=\"top\">tuotto 6kk</th>\n",
       "      <th>count</th>\n",
       "      <td>59.000000</td>\n",
       "      <td>124.000000</td>\n",
       "      <td>41.000000</td>\n",
       "      <td>75.000000</td>\n",
       "    </tr>\n",
       "    <tr>\n",
       "      <th>mean</th>\n",
       "      <td>0.030295</td>\n",
       "      <td>0.181480</td>\n",
       "      <td>0.233550</td>\n",
       "      <td>0.192803</td>\n",
       "    </tr>\n",
       "    <tr>\n",
       "      <th>std</th>\n",
       "      <td>0.081213</td>\n",
       "      <td>0.042417</td>\n",
       "      <td>0.032018</td>\n",
       "      <td>0.040491</td>\n",
       "    </tr>\n",
       "    <tr>\n",
       "      <th>min</th>\n",
       "      <td>-0.077947</td>\n",
       "      <td>0.025137</td>\n",
       "      <td>0.138613</td>\n",
       "      <td>-0.033619</td>\n",
       "    </tr>\n",
       "    <tr>\n",
       "      <th>25%</th>\n",
       "      <td>-0.027200</td>\n",
       "      <td>0.166594</td>\n",
       "      <td>0.222794</td>\n",
       "      <td>0.177099</td>\n",
       "    </tr>\n",
       "    <tr>\n",
       "      <th>50%</th>\n",
       "      <td>0.009253</td>\n",
       "      <td>0.185786</td>\n",
       "      <td>0.232722</td>\n",
       "      <td>0.203849</td>\n",
       "    </tr>\n",
       "    <tr>\n",
       "      <th>75%</th>\n",
       "      <td>0.047358</td>\n",
       "      <td>0.200714</td>\n",
       "      <td>0.245610</td>\n",
       "      <td>0.216432</td>\n",
       "    </tr>\n",
       "    <tr>\n",
       "      <th>max</th>\n",
       "      <td>0.281254</td>\n",
       "      <td>0.274927</td>\n",
       "      <td>0.310694</td>\n",
       "      <td>0.257184</td>\n",
       "    </tr>\n",
       "    <tr>\n",
       "      <th rowspan=\"8\" valign=\"top\">palkkio</th>\n",
       "      <th>count</th>\n",
       "      <td>62.000000</td>\n",
       "      <td>130.000000</td>\n",
       "      <td>41.000000</td>\n",
       "      <td>75.000000</td>\n",
       "    </tr>\n",
       "    <tr>\n",
       "      <th>mean</th>\n",
       "      <td>0.014582</td>\n",
       "      <td>0.011559</td>\n",
       "      <td>0.011728</td>\n",
       "      <td>0.011381</td>\n",
       "    </tr>\n",
       "    <tr>\n",
       "      <th>std</th>\n",
       "      <td>0.006524</td>\n",
       "      <td>0.005766</td>\n",
       "      <td>0.006011</td>\n",
       "      <td>0.006237</td>\n",
       "    </tr>\n",
       "    <tr>\n",
       "      <th>min</th>\n",
       "      <td>0.002000</td>\n",
       "      <td>0.000000</td>\n",
       "      <td>0.001590</td>\n",
       "      <td>0.000000</td>\n",
       "    </tr>\n",
       "    <tr>\n",
       "      <th>25%</th>\n",
       "      <td>0.008625</td>\n",
       "      <td>0.007500</td>\n",
       "      <td>0.006200</td>\n",
       "      <td>0.005500</td>\n",
       "    </tr>\n",
       "    <tr>\n",
       "      <th>50%</th>\n",
       "      <td>0.015000</td>\n",
       "      <td>0.011600</td>\n",
       "      <td>0.012000</td>\n",
       "      <td>0.012000</td>\n",
       "    </tr>\n",
       "    <tr>\n",
       "      <th>75%</th>\n",
       "      <td>0.019000</td>\n",
       "      <td>0.017450</td>\n",
       "      <td>0.017000</td>\n",
       "      <td>0.018000</td>\n",
       "    </tr>\n",
       "    <tr>\n",
       "      <th>max</th>\n",
       "      <td>0.025000</td>\n",
       "      <td>0.020000</td>\n",
       "      <td>0.020000</td>\n",
       "      <td>0.020000</td>\n",
       "    </tr>\n",
       "  </tbody>\n",
       "</table>\n",
       "</div>"
      ],
      "text/plain": [
       "rahastoluokka     EQ_EMER_GLOBAL   EQ_EUROPE  EQ_FINLAND   EQ_NORAM\n",
       "tuotto 5v  count       49.000000   95.000000   31.000000  56.000000\n",
       "           mean         0.084933    0.091022    0.154373   0.140084\n",
       "           std          0.031673    0.033963    0.029656   0.044094\n",
       "           min         -0.006594   -0.018979    0.122440   0.047257\n",
       "           25%          0.070203    0.073707    0.134746   0.105943\n",
       "           50%          0.088270    0.088441    0.142104   0.149715\n",
       "           75%          0.109562    0.108775    0.160958   0.158390\n",
       "           max          0.139739    0.176038    0.240005   0.245334\n",
       "tuotto 3v  count       54.000000  105.000000   38.000000  64.000000\n",
       "           mean         0.087105    0.084712    0.178443   0.153677\n",
       "           std          0.042124    0.049486    0.057465   0.053089\n",
       "           min         -0.024136   -0.099823    0.130860   0.008903\n",
       "           25%          0.062759    0.061549    0.135574   0.115153\n",
       "           50%          0.086466    0.080147    0.148711   0.169467\n",
       "           75%          0.117876    0.112702    0.200685   0.178303\n",
       "           max          0.177875    0.209487    0.305460   0.276681\n",
       "tuotto 1v  count       57.000000  116.000000   41.000000  73.000000\n",
       "           mean         0.266854    0.352933    0.520921   0.368949\n",
       "           std          0.118584    0.124087    0.131052   0.058259\n",
       "           min          0.116341   -0.014161    0.324779   0.146871\n",
       "           25%          0.191352    0.292346    0.418983   0.349265\n",
       "           50%          0.234373    0.319597    0.474577   0.364346\n",
       "           75%          0.294134    0.410674    0.586276   0.399092\n",
       "           max          0.652290    0.837191    0.817576   0.559510\n",
       "tuotto 6kk count       59.000000  124.000000   41.000000  75.000000\n",
       "           mean         0.030295    0.181480    0.233550   0.192803\n",
       "           std          0.081213    0.042417    0.032018   0.040491\n",
       "           min         -0.077947    0.025137    0.138613  -0.033619\n",
       "           25%         -0.027200    0.166594    0.222794   0.177099\n",
       "           50%          0.009253    0.185786    0.232722   0.203849\n",
       "           75%          0.047358    0.200714    0.245610   0.216432\n",
       "           max          0.281254    0.274927    0.310694   0.257184\n",
       "palkkio    count       62.000000  130.000000   41.000000  75.000000\n",
       "           mean         0.014582    0.011559    0.011728   0.011381\n",
       "           std          0.006524    0.005766    0.006011   0.006237\n",
       "           min          0.002000    0.000000    0.001590   0.000000\n",
       "           25%          0.008625    0.007500    0.006200   0.005500\n",
       "           50%          0.015000    0.011600    0.012000   0.012000\n",
       "           75%          0.019000    0.017450    0.017000   0.018000\n",
       "           max          0.025000    0.020000    0.020000   0.020000"
      ]
     },
     "execution_count": 5,
     "metadata": {},
     "output_type": "execute_result"
    }
   ],
   "source": [
    "#Tilastolliset tunnusluvut rahastoluokittain\n",
    "df.groupby('rahastoluokka').describe().T"
   ]
  },
  {
   "cell_type": "code",
   "execution_count": 6,
   "metadata": {},
   "outputs": [
    {
     "data": {
      "text/plain": [
       "<AxesSubplot:xlabel='rahastoluokka', ylabel='tuotto 5v'>"
      ]
     },
     "execution_count": 6,
     "metadata": {},
     "output_type": "execute_result"
    },
    {
     "data": {
      "image/png": "[encoded data removed]",
      "text/plain": [
       "<Figure size 432x288 with 1 Axes>"
      ]
     },
     "metadata": {},
     "output_type": "display_data"
    }
   ],
   "source": [
    "sns.boxplot(x='rahastoluokka', y='tuotto 5v', data=df)"
   ]
  },
  {
   "cell_type": "code",
   "execution_count": 7,
   "metadata": {},
   "outputs": [
    {
     "data": {
      "text/plain": [
       "<AxesSubplot:xlabel='rahastoluokka', ylabel='tuotto 3v'>"
      ]
     },
     "execution_count": 7,
     "metadata": {},
     "output_type": "execute_result"
    },
    {
     "data": {
      "image/png": "[encoded data removed]",
      "text/plain": [
       "<Figure size 432x288 with 1 Axes>"
      ]
     },
     "metadata": {},
     "output_type": "display_data"
    }
   ],
   "source": [
    "sns.boxplot(x='rahastoluokka', y='tuotto 3v', data=df)"
   ]
  },
  {
   "cell_type": "code",
   "execution_count": 8,
   "metadata": {},
   "outputs": [
    {
     "data": {
      "text/plain": [
       "<AxesSubplot:xlabel='rahastoluokka', ylabel='tuotto 1v'>"
      ]
     },
     "execution_count": 8,
     "metadata": {},
     "output_type": "execute_result"
    },
    {
     "data": {
      "image/png": "[encoded data removed]",
      "text/plain": [
       "<Figure size 432x288 with 1 Axes>"
      ]
     },
     "metadata": {},
     "output_type": "display_data"
    }
   ],
   "source": [
    "sns.boxplot(x='rahastoluokka', y='tuotto 1v', data=df)"
   ]
  },
  {
   "cell_type": "code",
   "execution_count": 9,
   "metadata": {},
   "outputs": [
    {
     "data": {
      "text/plain": [
       "<AxesSubplot:xlabel='rahastoluokka', ylabel='tuotto 6kk'>"
      ]
     },
     "execution_count": 9,
     "metadata": {},
     "output_type": "execute_result"
    },
    {
     "data": {
      "image/png": "[encoded data removed]",
      "text/plain": [
       "<Figure size 432x288 with 1 Axes>"
      ]
     },
     "metadata": {},
     "output_type": "display_data"
    }
   ],
   "source": [
    "sns.boxplot(x='rahastoluokka', y='tuotto 6kk', data=df)"
   ]
  },
  {
   "cell_type": "code",
   "execution_count": 10,
   "metadata": {},
   "outputs": [
    {
     "data": {
      "text/plain": [
       "<AxesSubplot:xlabel='rahastoluokka', ylabel='palkkio'>"
      ]
     },
     "execution_count": 10,
     "metadata": {},
     "output_type": "execute_result"
    },
    {
     "data": {
      "image/png": "[encoded data removed]",
      "text/plain": [
       "<Figure size 432x288 with 1 Axes>"
      ]
     },
     "metadata": {},
     "output_type": "display_data"
    }
   ],
   "source": [
    "sns.boxplot(x='rahastoluokka', y='palkkio', data=df)"
   ]
  },
  {
   "cell_type": "code",
   "execution_count": 11,
   "metadata": {},
   "outputs": [
    {
     "data": {
      "text/html": [
       "<div>\n",
       "<style scoped>\n",
       "    .dataframe tbody tr th:only-of-type {\n",
       "        vertical-align: middle;\n",
       "    }\n",
       "\n",
       "    .dataframe tbody tr th {\n",
       "        vertical-align: top;\n",
       "    }\n",
       "\n",
       "    .dataframe thead th {\n",
       "        text-align: right;\n",
       "    }\n",
       "</style>\n",
       "<table border=\"1\" class=\"dataframe\">\n",
       "  <thead>\n",
       "    <tr style=\"text-align: right;\">\n",
       "      <th></th>\n",
       "      <th></th>\n",
       "      <th>tuotto 1v</th>\n",
       "      <th>palkkio</th>\n",
       "    </tr>\n",
       "    <tr>\n",
       "      <th>rahastoluokka</th>\n",
       "      <th></th>\n",
       "      <th></th>\n",
       "      <th></th>\n",
       "    </tr>\n",
       "  </thead>\n",
       "  <tbody>\n",
       "    <tr>\n",
       "      <th rowspan=\"2\" valign=\"top\">EQ_EMER_GLOBAL</th>\n",
       "      <th>tuotto 1v</th>\n",
       "      <td>1.000000</td>\n",
       "      <td>0.107635</td>\n",
       "    </tr>\n",
       "    <tr>\n",
       "      <th>palkkio</th>\n",
       "      <td>0.107635</td>\n",
       "      <td>1.000000</td>\n",
       "    </tr>\n",
       "    <tr>\n",
       "      <th rowspan=\"2\" valign=\"top\">EQ_EUROPE</th>\n",
       "      <th>tuotto 1v</th>\n",
       "      <td>1.000000</td>\n",
       "      <td>0.144214</td>\n",
       "    </tr>\n",
       "    <tr>\n",
       "      <th>palkkio</th>\n",
       "      <td>0.144214</td>\n",
       "      <td>1.000000</td>\n",
       "    </tr>\n",
       "    <tr>\n",
       "      <th rowspan=\"2\" valign=\"top\">EQ_FINLAND</th>\n",
       "      <th>tuotto 1v</th>\n",
       "      <td>1.000000</td>\n",
       "      <td>0.564705</td>\n",
       "    </tr>\n",
       "    <tr>\n",
       "      <th>palkkio</th>\n",
       "      <td>0.564705</td>\n",
       "      <td>1.000000</td>\n",
       "    </tr>\n",
       "    <tr>\n",
       "      <th rowspan=\"2\" valign=\"top\">EQ_NORAM</th>\n",
       "      <th>tuotto 1v</th>\n",
       "      <td>1.000000</td>\n",
       "      <td>0.224274</td>\n",
       "    </tr>\n",
       "    <tr>\n",
       "      <th>palkkio</th>\n",
       "      <td>0.224274</td>\n",
       "      <td>1.000000</td>\n",
       "    </tr>\n",
       "  </tbody>\n",
       "</table>\n",
       "</div>"
      ],
      "text/plain": [
       "                          tuotto 1v   palkkio\n",
       "rahastoluokka                                \n",
       "EQ_EMER_GLOBAL tuotto 1v   1.000000  0.107635\n",
       "               palkkio     0.107635  1.000000\n",
       "EQ_EUROPE      tuotto 1v   1.000000  0.144214\n",
       "               palkkio     0.144214  1.000000\n",
       "EQ_FINLAND     tuotto 1v   1.000000  0.564705\n",
       "               palkkio     0.564705  1.000000\n",
       "EQ_NORAM       tuotto 1v   1.000000  0.224274\n",
       "               palkkio     0.224274  1.000000"
      ]
     },
     "execution_count": 11,
     "metadata": {},
     "output_type": "execute_result"
    }
   ],
   "source": [
    "# Korrelaatiokertoimen 1v tuoton ja palkkion välille rahastoluokittain\n",
    "df.groupby('rahastoluokka')[['tuotto 1v','palkkio']].corr()"
   ]
  },
  {
   "cell_type": "code",
   "execution_count": 12,
   "metadata": {},
   "outputs": [
    {
     "name": "stdout",
     "output_type": "stream",
     "text": [
      "EQ_FINLAND korrelaatio 0.565, p-arvo 0.000\n",
      "EQ_EUROPE korrelaatio 0.144, p-arvo 0.122\n",
      "EQ_NORAM korrelaatio 0.224, p-arvo 0.056\n",
      "EQ_EMER_GLOBAL korrelaatio 0.108, p-arvo 0.425\n"
     ]
    }
   ],
   "source": [
    "# pearsonr-funktion tuonti scipy.stats-kirjastosta\n",
    "from scipy.stats import pearsonr\n",
    "\n",
    "# Korrelaatiokertoimet ja p-arvot 1v tuoton ja palkkion välille rahastoluokittain\n",
    "for luokka in pd.unique(df['rahastoluokka']):\n",
    "    df_dropna = df[df['rahastoluokka']==luokka].dropna(subset=['tuotto 1v', 'palkkio'])\n",
    "    corr, p = pearsonr(df_dropna['tuotto 1v'], df_dropna['palkkio'])\n",
    "    print(luokka, 'korrelaatio %.3f,' %corr, 'p-arvo %.3f' %p)"
   ]
  },
  {
   "cell_type": "code",
   "execution_count": 13,
   "metadata": {},
   "outputs": [
    {
     "data": {
      "image/png": "[encoded data removed]",
      "text/plain": [
       "<Figure size 864x216 with 4 Axes>"
      ]
     },
     "metadata": {},
     "output_type": "display_data"
    }
   ],
   "source": [
    "# 1v tuotot ja palkkiot pistekaavioina rahastoluokittain\n",
    "g = sns.FacetGrid(data=df, col='rahastoluokka')\n",
    "g = g.map(plt.scatter, 'palkkio', 'tuotto 1v')"
   ]
  },
  {
   "cell_type": "code",
   "execution_count": null,
   "metadata": {},
   "outputs": [],
   "source": []
  }
 ],
 "metadata": {
  "kernelspec": {
   "display_name": "Python 3",
   "language": "python",
   "name": "python3"
  },
  "language_info": {
   "codemirror_mode": {
    "name": "ipython",
    "version": 3
   },
   "file_extension": ".py",
   "mimetype": "text/x-python",
   "name": "python",
   "nbconvert_exporter": "python",
   "pygments_lexer": "ipython3",
   "version": "3.9.6"
  }
 },
 "nbformat": 4,
 "nbformat_minor": 2
}
