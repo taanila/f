{
 "cells": [
  {
   "cell_type": "markdown",
   "metadata": {},
   "source": [
    "### Analyysejä analysointiosaamisen tehtävään 2"
   ]
  },
  {
   "cell_type": "code",
   "execution_count": 1,
   "metadata": {
    "scrolled": true
   },
   "outputs": [
    {
     "data": {
      "text/html": [
       "<div>\n",
       "<style scoped>\n",
       "    .dataframe tbody tr th:only-of-type {\n",
       "        vertical-align: middle;\n",
       "    }\n",
       "\n",
       "    .dataframe tbody tr th {\n",
       "        vertical-align: top;\n",
       "    }\n",
       "\n",
       "    .dataframe thead th {\n",
       "        text-align: right;\n",
       "    }\n",
       "</style>\n",
       "<table border=\"1\" class=\"dataframe\">\n",
       "  <thead>\n",
       "    <tr style=\"text-align: right;\">\n",
       "      <th></th>\n",
       "      <th>Rahaston nimi</th>\n",
       "      <th>5 vuoden tuotto (% vuodessa)</th>\n",
       "      <th>3 vuoden tuotto (% vuodessa)</th>\n",
       "      <th>1 vuoden tuotto</th>\n",
       "      <th>6 kuukauden tuotto</th>\n",
       "      <th>Hallinn. ja säilytyspalkkio (% vuodessa)</th>\n",
       "      <th>Rahastoluokka</th>\n",
       "    </tr>\n",
       "  </thead>\n",
       "  <tbody>\n",
       "    <tr>\n",
       "      <th>0</th>\n",
       "      <td>Aktia Emerging Market Equity Select</td>\n",
       "      <td>NaN</td>\n",
       "      <td>0.102416</td>\n",
       "      <td>0.079477</td>\n",
       "      <td>0.009875</td>\n",
       "      <td>0.0130</td>\n",
       "      <td>EQ_EMER_GLOBAL</td>\n",
       "    </tr>\n",
       "    <tr>\n",
       "      <th>1</th>\n",
       "      <td>Alexandria Kehittyvät Markkinat Osinko</td>\n",
       "      <td>0.035605</td>\n",
       "      <td>0.046230</td>\n",
       "      <td>0.084172</td>\n",
       "      <td>0.017219</td>\n",
       "      <td>0.0100</td>\n",
       "      <td>EQ_EMER_GLOBAL</td>\n",
       "    </tr>\n",
       "    <tr>\n",
       "      <th>2</th>\n",
       "      <td>Danske Invest Global Emerging Markets, EUR</td>\n",
       "      <td>0.034610</td>\n",
       "      <td>0.031894</td>\n",
       "      <td>0.104008</td>\n",
       "      <td>0.023894</td>\n",
       "      <td>0.0192</td>\n",
       "      <td>EQ_EMER_GLOBAL</td>\n",
       "    </tr>\n",
       "    <tr>\n",
       "      <th>3</th>\n",
       "      <td>Danske Invest Kehitt. Osakemarkkinat</td>\n",
       "      <td>0.048483</td>\n",
       "      <td>0.050715</td>\n",
       "      <td>0.057189</td>\n",
       "      <td>-0.031143</td>\n",
       "      <td>0.0050</td>\n",
       "      <td>EQ_EMER_GLOBAL</td>\n",
       "    </tr>\n",
       "    <tr>\n",
       "      <th>4</th>\n",
       "      <td>Danske Invest SICAV Global Emerging Markets Cl...</td>\n",
       "      <td>0.038146</td>\n",
       "      <td>0.043175</td>\n",
       "      <td>0.119588</td>\n",
       "      <td>0.034600</td>\n",
       "      <td>0.0163</td>\n",
       "      <td>EQ_EMER_GLOBAL</td>\n",
       "    </tr>\n",
       "  </tbody>\n",
       "</table>\n",
       "</div>"
      ],
      "text/plain": [
       "                                       Rahaston nimi  \\\n",
       "0                Aktia Emerging Market Equity Select   \n",
       "1             Alexandria Kehittyvät Markkinat Osinko   \n",
       "2         Danske Invest Global Emerging Markets, EUR   \n",
       "3               Danske Invest Kehitt. Osakemarkkinat   \n",
       "4  Danske Invest SICAV Global Emerging Markets Cl...   \n",
       "\n",
       "   5 vuoden tuotto (% vuodessa)  3 vuoden tuotto (% vuodessa)  \\\n",
       "0                           NaN                      0.102416   \n",
       "1                      0.035605                      0.046230   \n",
       "2                      0.034610                      0.031894   \n",
       "3                      0.048483                      0.050715   \n",
       "4                      0.038146                      0.043175   \n",
       "\n",
       "   1 vuoden tuotto  6 kuukauden tuotto  \\\n",
       "0         0.079477            0.009875   \n",
       "1         0.084172            0.017219   \n",
       "2         0.104008            0.023894   \n",
       "3         0.057189           -0.031143   \n",
       "4         0.119588            0.034600   \n",
       "\n",
       "   Hallinn. ja säilytyspalkkio (% vuodessa)   Rahastoluokka  \n",
       "0                                    0.0130  EQ_EMER_GLOBAL  \n",
       "1                                    0.0100  EQ_EMER_GLOBAL  \n",
       "2                                    0.0192  EQ_EMER_GLOBAL  \n",
       "3                                    0.0050  EQ_EMER_GLOBAL  \n",
       "4                                    0.0163  EQ_EMER_GLOBAL  "
      ]
     },
     "execution_count": 1,
     "metadata": {},
     "output_type": "execute_result"
    }
   ],
   "source": [
    "# Kirjastojen tuonti\n",
    "import pandas as pd\n",
    "import matplotlib.pyplot as plt\n",
    "import seaborn as sns\n",
    "%matplotlib inline\n",
    "\n",
    "# Kaavioiden tyylimäärittely\n",
    "plt.style.use('seaborn-whitegrid')\n",
    "\n",
    "# Datan avaaminen\n",
    "df=pd.read_excel('http://myy.haaga-helia.fi/~taaak/a/t2aineisto.xlsx')\n",
    "df.head()"
   ]
  },
  {
   "cell_type": "code",
   "execution_count": 2,
   "metadata": {},
   "outputs": [],
   "source": [
    "# Lyhyemmät nimet muuttujille\n",
    "df.columns=['nimi', 'tuotto 5v', 'tuotto 3v', 'tuotto 1v', 'tuotto 6kk', 'palkkio', 'rahastoluokka']"
   ]
  },
  {
   "cell_type": "code",
   "execution_count": 3,
   "metadata": {},
   "outputs": [
    {
     "data": {
      "text/html": [
       "<div>\n",
       "<style scoped>\n",
       "    .dataframe tbody tr th:only-of-type {\n",
       "        vertical-align: middle;\n",
       "    }\n",
       "\n",
       "    .dataframe tbody tr th {\n",
       "        vertical-align: top;\n",
       "    }\n",
       "\n",
       "    .dataframe thead th {\n",
       "        text-align: right;\n",
       "    }\n",
       "</style>\n",
       "<table border=\"1\" class=\"dataframe\">\n",
       "  <thead>\n",
       "    <tr style=\"text-align: right;\">\n",
       "      <th></th>\n",
       "      <th>rahastoluokka</th>\n",
       "      <th>EQ_EMER_GLOBAL</th>\n",
       "      <th>EQ_EUROPE</th>\n",
       "      <th>EQ_FINLAND</th>\n",
       "      <th>EQ_NORAM</th>\n",
       "    </tr>\n",
       "  </thead>\n",
       "  <tbody>\n",
       "    <tr>\n",
       "      <th rowspan=\"8\" valign=\"top\">tuotto 5v</th>\n",
       "      <th>count</th>\n",
       "      <td>54.000000</td>\n",
       "      <td>102.000000</td>\n",
       "      <td>35.000000</td>\n",
       "      <td>59.000000</td>\n",
       "    </tr>\n",
       "    <tr>\n",
       "      <th>mean</th>\n",
       "      <td>0.045110</td>\n",
       "      <td>0.059901</td>\n",
       "      <td>0.093175</td>\n",
       "      <td>0.110687</td>\n",
       "    </tr>\n",
       "    <tr>\n",
       "      <th>std</th>\n",
       "      <td>0.022169</td>\n",
       "      <td>0.023900</td>\n",
       "      <td>0.019828</td>\n",
       "      <td>0.032052</td>\n",
       "    </tr>\n",
       "    <tr>\n",
       "      <th>min</th>\n",
       "      <td>-0.009174</td>\n",
       "      <td>0.007885</td>\n",
       "      <td>0.061971</td>\n",
       "      <td>0.015565</td>\n",
       "    </tr>\n",
       "    <tr>\n",
       "      <th>25%</th>\n",
       "      <td>0.032487</td>\n",
       "      <td>0.044581</td>\n",
       "      <td>0.079215</td>\n",
       "      <td>0.093254</td>\n",
       "    </tr>\n",
       "    <tr>\n",
       "      <th>50%</th>\n",
       "      <td>0.045375</td>\n",
       "      <td>0.054439</td>\n",
       "      <td>0.091678</td>\n",
       "      <td>0.111822</td>\n",
       "    </tr>\n",
       "    <tr>\n",
       "      <th>75%</th>\n",
       "      <td>0.061216</td>\n",
       "      <td>0.071991</td>\n",
       "      <td>0.101227</td>\n",
       "      <td>0.126099</td>\n",
       "    </tr>\n",
       "    <tr>\n",
       "      <th>max</th>\n",
       "      <td>0.095999</td>\n",
       "      <td>0.131825</td>\n",
       "      <td>0.157576</td>\n",
       "      <td>0.195402</td>\n",
       "    </tr>\n",
       "    <tr>\n",
       "      <th rowspan=\"8\" valign=\"top\">tuotto 3v</th>\n",
       "      <th>count</th>\n",
       "      <td>57.000000</td>\n",
       "      <td>116.000000</td>\n",
       "      <td>35.000000</td>\n",
       "      <td>64.000000</td>\n",
       "    </tr>\n",
       "    <tr>\n",
       "      <th>mean</th>\n",
       "      <td>0.054536</td>\n",
       "      <td>0.063025</td>\n",
       "      <td>0.062598</td>\n",
       "      <td>0.114901</td>\n",
       "    </tr>\n",
       "    <tr>\n",
       "      <th>std</th>\n",
       "      <td>0.030946</td>\n",
       "      <td>0.026940</td>\n",
       "      <td>0.023014</td>\n",
       "      <td>0.038945</td>\n",
       "    </tr>\n",
       "    <tr>\n",
       "      <th>min</th>\n",
       "      <td>0.000906</td>\n",
       "      <td>-0.002968</td>\n",
       "      <td>0.006389</td>\n",
       "      <td>-0.000862</td>\n",
       "    </tr>\n",
       "    <tr>\n",
       "      <th>25%</th>\n",
       "      <td>0.030122</td>\n",
       "      <td>0.045604</td>\n",
       "      <td>0.045293</td>\n",
       "      <td>0.092756</td>\n",
       "    </tr>\n",
       "    <tr>\n",
       "      <th>50%</th>\n",
       "      <td>0.056563</td>\n",
       "      <td>0.068232</td>\n",
       "      <td>0.066497</td>\n",
       "      <td>0.119272</td>\n",
       "    </tr>\n",
       "    <tr>\n",
       "      <th>75%</th>\n",
       "      <td>0.080886</td>\n",
       "      <td>0.078143</td>\n",
       "      <td>0.081353</td>\n",
       "      <td>0.133256</td>\n",
       "    </tr>\n",
       "    <tr>\n",
       "      <th>max</th>\n",
       "      <td>0.128653</td>\n",
       "      <td>0.143609</td>\n",
       "      <td>0.107648</td>\n",
       "      <td>0.199271</td>\n",
       "    </tr>\n",
       "    <tr>\n",
       "      <th rowspan=\"8\" valign=\"top\">tuotto 1v</th>\n",
       "      <th>count</th>\n",
       "      <td>66.000000</td>\n",
       "      <td>134.000000</td>\n",
       "      <td>45.000000</td>\n",
       "      <td>74.000000</td>\n",
       "    </tr>\n",
       "    <tr>\n",
       "      <th>mean</th>\n",
       "      <td>0.073970</td>\n",
       "      <td>0.012292</td>\n",
       "      <td>-0.006496</td>\n",
       "      <td>0.062817</td>\n",
       "    </tr>\n",
       "    <tr>\n",
       "      <th>std</th>\n",
       "      <td>0.048532</td>\n",
       "      <td>0.058860</td>\n",
       "      <td>0.036130</td>\n",
       "      <td>0.055659</td>\n",
       "    </tr>\n",
       "    <tr>\n",
       "      <th>min</th>\n",
       "      <td>-0.060423</td>\n",
       "      <td>-0.188885</td>\n",
       "      <td>-0.066157</td>\n",
       "      <td>-0.170126</td>\n",
       "    </tr>\n",
       "    <tr>\n",
       "      <th>25%</th>\n",
       "      <td>0.046904</td>\n",
       "      <td>-0.019759</td>\n",
       "      <td>-0.028656</td>\n",
       "      <td>0.037920</td>\n",
       "    </tr>\n",
       "    <tr>\n",
       "      <th>50%</th>\n",
       "      <td>0.077658</td>\n",
       "      <td>0.020088</td>\n",
       "      <td>-0.012414</td>\n",
       "      <td>0.069257</td>\n",
       "    </tr>\n",
       "    <tr>\n",
       "      <th>75%</th>\n",
       "      <td>0.103349</td>\n",
       "      <td>0.055760</td>\n",
       "      <td>0.011924</td>\n",
       "      <td>0.098443</td>\n",
       "    </tr>\n",
       "    <tr>\n",
       "      <th>max</th>\n",
       "      <td>0.202221</td>\n",
       "      <td>0.143716</td>\n",
       "      <td>0.134561</td>\n",
       "      <td>0.159728</td>\n",
       "    </tr>\n",
       "    <tr>\n",
       "      <th rowspan=\"8\" valign=\"top\">tuotto 6kk</th>\n",
       "      <th>count</th>\n",
       "      <td>69.000000</td>\n",
       "      <td>141.000000</td>\n",
       "      <td>45.000000</td>\n",
       "      <td>74.000000</td>\n",
       "    </tr>\n",
       "    <tr>\n",
       "      <th>mean</th>\n",
       "      <td>0.008902</td>\n",
       "      <td>0.045492</td>\n",
       "      <td>0.040583</td>\n",
       "      <td>0.072773</td>\n",
       "    </tr>\n",
       "    <tr>\n",
       "      <th>std</th>\n",
       "      <td>0.033214</td>\n",
       "      <td>0.029328</td>\n",
       "      <td>0.027900</td>\n",
       "      <td>0.031009</td>\n",
       "    </tr>\n",
       "    <tr>\n",
       "      <th>min</th>\n",
       "      <td>-0.081919</td>\n",
       "      <td>-0.064155</td>\n",
       "      <td>0.007083</td>\n",
       "      <td>-0.064823</td>\n",
       "    </tr>\n",
       "    <tr>\n",
       "      <th>25%</th>\n",
       "      <td>-0.010285</td>\n",
       "      <td>0.027603</td>\n",
       "      <td>0.023029</td>\n",
       "      <td>0.060269</td>\n",
       "    </tr>\n",
       "    <tr>\n",
       "      <th>50%</th>\n",
       "      <td>0.010210</td>\n",
       "      <td>0.049978</td>\n",
       "      <td>0.030791</td>\n",
       "      <td>0.077275</td>\n",
       "    </tr>\n",
       "    <tr>\n",
       "      <th>75%</th>\n",
       "      <td>0.028077</td>\n",
       "      <td>0.065366</td>\n",
       "      <td>0.050759</td>\n",
       "      <td>0.089122</td>\n",
       "    </tr>\n",
       "    <tr>\n",
       "      <th>max</th>\n",
       "      <td>0.157099</td>\n",
       "      <td>0.108983</td>\n",
       "      <td>0.115344</td>\n",
       "      <td>0.119308</td>\n",
       "    </tr>\n",
       "    <tr>\n",
       "      <th rowspan=\"8\" valign=\"top\">palkkio</th>\n",
       "      <th>count</th>\n",
       "      <td>69.000000</td>\n",
       "      <td>142.000000</td>\n",
       "      <td>45.000000</td>\n",
       "      <td>75.000000</td>\n",
       "    </tr>\n",
       "    <tr>\n",
       "      <th>mean</th>\n",
       "      <td>0.014977</td>\n",
       "      <td>0.012146</td>\n",
       "      <td>0.012755</td>\n",
       "      <td>0.012556</td>\n",
       "    </tr>\n",
       "    <tr>\n",
       "      <th>std</th>\n",
       "      <td>0.005870</td>\n",
       "      <td>0.005424</td>\n",
       "      <td>0.005957</td>\n",
       "      <td>0.005777</td>\n",
       "    </tr>\n",
       "    <tr>\n",
       "      <th>min</th>\n",
       "      <td>0.002000</td>\n",
       "      <td>0.000000</td>\n",
       "      <td>0.001590</td>\n",
       "      <td>0.000000</td>\n",
       "    </tr>\n",
       "    <tr>\n",
       "      <th>25%</th>\n",
       "      <td>0.010000</td>\n",
       "      <td>0.008000</td>\n",
       "      <td>0.007800</td>\n",
       "      <td>0.007500</td>\n",
       "    </tr>\n",
       "    <tr>\n",
       "      <th>50%</th>\n",
       "      <td>0.016000</td>\n",
       "      <td>0.012000</td>\n",
       "      <td>0.015000</td>\n",
       "      <td>0.015000</td>\n",
       "    </tr>\n",
       "    <tr>\n",
       "      <th>75%</th>\n",
       "      <td>0.019000</td>\n",
       "      <td>0.017500</td>\n",
       "      <td>0.018000</td>\n",
       "      <td>0.018000</td>\n",
       "    </tr>\n",
       "    <tr>\n",
       "      <th>max</th>\n",
       "      <td>0.025000</td>\n",
       "      <td>0.020000</td>\n",
       "      <td>0.020000</td>\n",
       "      <td>0.022000</td>\n",
       "    </tr>\n",
       "  </tbody>\n",
       "</table>\n",
       "</div>"
      ],
      "text/plain": [
       "rahastoluokka     EQ_EMER_GLOBAL   EQ_EUROPE  EQ_FINLAND   EQ_NORAM\n",
       "tuotto 5v  count       54.000000  102.000000   35.000000  59.000000\n",
       "           mean         0.045110    0.059901    0.093175   0.110687\n",
       "           std          0.022169    0.023900    0.019828   0.032052\n",
       "           min         -0.009174    0.007885    0.061971   0.015565\n",
       "           25%          0.032487    0.044581    0.079215   0.093254\n",
       "           50%          0.045375    0.054439    0.091678   0.111822\n",
       "           75%          0.061216    0.071991    0.101227   0.126099\n",
       "           max          0.095999    0.131825    0.157576   0.195402\n",
       "tuotto 3v  count       57.000000  116.000000   35.000000  64.000000\n",
       "           mean         0.054536    0.063025    0.062598   0.114901\n",
       "           std          0.030946    0.026940    0.023014   0.038945\n",
       "           min          0.000906   -0.002968    0.006389  -0.000862\n",
       "           25%          0.030122    0.045604    0.045293   0.092756\n",
       "           50%          0.056563    0.068232    0.066497   0.119272\n",
       "           75%          0.080886    0.078143    0.081353   0.133256\n",
       "           max          0.128653    0.143609    0.107648   0.199271\n",
       "tuotto 1v  count       66.000000  134.000000   45.000000  74.000000\n",
       "           mean         0.073970    0.012292   -0.006496   0.062817\n",
       "           std          0.048532    0.058860    0.036130   0.055659\n",
       "           min         -0.060423   -0.188885   -0.066157  -0.170126\n",
       "           25%          0.046904   -0.019759   -0.028656   0.037920\n",
       "           50%          0.077658    0.020088   -0.012414   0.069257\n",
       "           75%          0.103349    0.055760    0.011924   0.098443\n",
       "           max          0.202221    0.143716    0.134561   0.159728\n",
       "tuotto 6kk count       69.000000  141.000000   45.000000  74.000000\n",
       "           mean         0.008902    0.045492    0.040583   0.072773\n",
       "           std          0.033214    0.029328    0.027900   0.031009\n",
       "           min         -0.081919   -0.064155    0.007083  -0.064823\n",
       "           25%         -0.010285    0.027603    0.023029   0.060269\n",
       "           50%          0.010210    0.049978    0.030791   0.077275\n",
       "           75%          0.028077    0.065366    0.050759   0.089122\n",
       "           max          0.157099    0.108983    0.115344   0.119308\n",
       "palkkio    count       69.000000  142.000000   45.000000  75.000000\n",
       "           mean         0.014977    0.012146    0.012755   0.012556\n",
       "           std          0.005870    0.005424    0.005957   0.005777\n",
       "           min          0.002000    0.000000    0.001590   0.000000\n",
       "           25%          0.010000    0.008000    0.007800   0.007500\n",
       "           50%          0.016000    0.012000    0.015000   0.015000\n",
       "           75%          0.019000    0.017500    0.018000   0.018000\n",
       "           max          0.025000    0.020000    0.020000   0.022000"
      ]
     },
     "execution_count": 3,
     "metadata": {},
     "output_type": "execute_result"
    }
   ],
   "source": [
    "#Tilastolliset tunnusluvut rahastoluokittain\n",
    "df.groupby('rahastoluokka').describe().T"
   ]
  },
  {
   "cell_type": "code",
   "execution_count": 4,
   "metadata": {},
   "outputs": [
    {
     "data": {
      "text/plain": [
       "<matplotlib.axes._subplots.AxesSubplot at 0x2c1dae01400>"
      ]
     },
     "execution_count": 4,
     "metadata": {},
     "output_type": "execute_result"
    },
    {
     "data": {
      "image/png": "[encoded data removed]",
      "text/plain": [
       "<Figure size 432x288 with 1 Axes>"
      ]
     },
     "metadata": {
      "needs_background": "light"
     },
     "output_type": "display_data"
    }
   ],
   "source": [
    "sns.boxplot(x='rahastoluokka', y='tuotto 5v', data=df)"
   ]
  },
  {
   "cell_type": "code",
   "execution_count": 5,
   "metadata": {},
   "outputs": [
    {
     "data": {
      "text/plain": [
       "<matplotlib.axes._subplots.AxesSubplot at 0x2c1db1949b0>"
      ]
     },
     "execution_count": 5,
     "metadata": {},
     "output_type": "execute_result"
    },
    {
     "data": {
      "image/png": "[encoded data removed]",
      "text/plain": [
       "<Figure size 432x288 with 1 Axes>"
      ]
     },
     "metadata": {
      "needs_background": "light"
     },
     "output_type": "display_data"
    }
   ],
   "source": [
    "sns.boxplot(x='rahastoluokka', y='tuotto 3v', data=df)"
   ]
  },
  {
   "cell_type": "code",
   "execution_count": 6,
   "metadata": {},
   "outputs": [
    {
     "data": {
      "text/plain": [
       "<matplotlib.axes._subplots.AxesSubplot at 0x2c1dc259978>"
      ]
     },
     "execution_count": 6,
     "metadata": {},
     "output_type": "execute_result"
    },
    {
     "data": {
      "image/png": "[encoded data removed]",
      "text/plain": [
       "<Figure size 432x288 with 1 Axes>"
      ]
     },
     "metadata": {
      "needs_background": "light"
     },
     "output_type": "display_data"
    }
   ],
   "source": [
    "sns.boxplot(x='rahastoluokka', y='tuotto 1v', data=df)"
   ]
  },
  {
   "cell_type": "code",
   "execution_count": 7,
   "metadata": {},
   "outputs": [
    {
     "data": {
      "text/plain": [
       "<matplotlib.axes._subplots.AxesSubplot at 0x2c1dc30c390>"
      ]
     },
     "execution_count": 7,
     "metadata": {},
     "output_type": "execute_result"
    },
    {
     "data": {
      "image/png": "[encoded data removed]",
      "text/plain": [
       "<Figure size 432x288 with 1 Axes>"
      ]
     },
     "metadata": {
      "needs_background": "light"
     },
     "output_type": "display_data"
    }
   ],
   "source": [
    "sns.boxplot(x='rahastoluokka', y='tuotto 6kk', data=df)"
   ]
  },
  {
   "cell_type": "code",
   "execution_count": 8,
   "metadata": {},
   "outputs": [
    {
     "data": {
      "text/plain": [
       "<matplotlib.axes._subplots.AxesSubplot at 0x2c1dc390240>"
      ]
     },
     "execution_count": 8,
     "metadata": {},
     "output_type": "execute_result"
    },
    {
     "data": {
      "image/png": "[encoded data removed]",
      "text/plain": [
       "<Figure size 432x288 with 1 Axes>"
      ]
     },
     "metadata": {
      "needs_background": "light"
     },
     "output_type": "display_data"
    }
   ],
   "source": [
    "sns.boxplot(x='rahastoluokka', y='palkkio', data=df)"
   ]
  },
  {
   "cell_type": "code",
   "execution_count": 9,
   "metadata": {},
   "outputs": [
    {
     "data": {
      "text/html": [
       "<div>\n",
       "<style scoped>\n",
       "    .dataframe tbody tr th:only-of-type {\n",
       "        vertical-align: middle;\n",
       "    }\n",
       "\n",
       "    .dataframe tbody tr th {\n",
       "        vertical-align: top;\n",
       "    }\n",
       "\n",
       "    .dataframe thead th {\n",
       "        text-align: right;\n",
       "    }\n",
       "</style>\n",
       "<table border=\"1\" class=\"dataframe\">\n",
       "  <thead>\n",
       "    <tr style=\"text-align: right;\">\n",
       "      <th></th>\n",
       "      <th></th>\n",
       "      <th>tuotto 1v</th>\n",
       "      <th>palkkio</th>\n",
       "    </tr>\n",
       "    <tr>\n",
       "      <th>rahastoluokka</th>\n",
       "      <th></th>\n",
       "      <th></th>\n",
       "      <th></th>\n",
       "    </tr>\n",
       "  </thead>\n",
       "  <tbody>\n",
       "    <tr>\n",
       "      <th rowspan=\"2\" valign=\"top\">EQ_EMER_GLOBAL</th>\n",
       "      <th>tuotto 1v</th>\n",
       "      <td>1.000000</td>\n",
       "      <td>0.091730</td>\n",
       "    </tr>\n",
       "    <tr>\n",
       "      <th>palkkio</th>\n",
       "      <td>0.091730</td>\n",
       "      <td>1.000000</td>\n",
       "    </tr>\n",
       "    <tr>\n",
       "      <th rowspan=\"2\" valign=\"top\">EQ_EUROPE</th>\n",
       "      <th>tuotto 1v</th>\n",
       "      <td>1.000000</td>\n",
       "      <td>-0.258164</td>\n",
       "    </tr>\n",
       "    <tr>\n",
       "      <th>palkkio</th>\n",
       "      <td>-0.258164</td>\n",
       "      <td>1.000000</td>\n",
       "    </tr>\n",
       "    <tr>\n",
       "      <th rowspan=\"2\" valign=\"top\">EQ_FINLAND</th>\n",
       "      <th>tuotto 1v</th>\n",
       "      <td>1.000000</td>\n",
       "      <td>0.032692</td>\n",
       "    </tr>\n",
       "    <tr>\n",
       "      <th>palkkio</th>\n",
       "      <td>0.032692</td>\n",
       "      <td>1.000000</td>\n",
       "    </tr>\n",
       "    <tr>\n",
       "      <th rowspan=\"2\" valign=\"top\">EQ_NORAM</th>\n",
       "      <th>tuotto 1v</th>\n",
       "      <td>1.000000</td>\n",
       "      <td>-0.346212</td>\n",
       "    </tr>\n",
       "    <tr>\n",
       "      <th>palkkio</th>\n",
       "      <td>-0.346212</td>\n",
       "      <td>1.000000</td>\n",
       "    </tr>\n",
       "  </tbody>\n",
       "</table>\n",
       "</div>"
      ],
      "text/plain": [
       "                          tuotto 1v   palkkio\n",
       "rahastoluokka                                \n",
       "EQ_EMER_GLOBAL tuotto 1v   1.000000  0.091730\n",
       "               palkkio     0.091730  1.000000\n",
       "EQ_EUROPE      tuotto 1v   1.000000 -0.258164\n",
       "               palkkio    -0.258164  1.000000\n",
       "EQ_FINLAND     tuotto 1v   1.000000  0.032692\n",
       "               palkkio     0.032692  1.000000\n",
       "EQ_NORAM       tuotto 1v   1.000000 -0.346212\n",
       "               palkkio    -0.346212  1.000000"
      ]
     },
     "execution_count": 9,
     "metadata": {},
     "output_type": "execute_result"
    }
   ],
   "source": [
    "# Korrelaatiokertoimen 1v tuoton ja palkkion välille rahastoluokittain\n",
    "df.groupby('rahastoluokka')[['tuotto 1v','palkkio']].corr()"
   ]
  },
  {
   "cell_type": "code",
   "execution_count": 10,
   "metadata": {},
   "outputs": [
    {
     "name": "stdout",
     "output_type": "stream",
     "text": [
      "EQ_EMER_GLOBAL korrelaatio 0.092, p-arvo 0.464\n",
      "EQ_EUROPE korrelaatio -0.258, p-arvo 0.003\n",
      "EQ_FINLAND korrelaatio 0.033, p-arvo 0.831\n",
      "EQ_NORAM korrelaatio -0.346, p-arvo 0.003\n"
     ]
    }
   ],
   "source": [
    "# pearsonr-funktion tuonti scipy.stats-kirjastosta\n",
    "from scipy.stats import pearsonr\n",
    "\n",
    "# Korrelaatiokertoimet ja p-arvot 1v tuoton ja palkkion välille rahastoluokittain\n",
    "for luokka in pd.unique(df['rahastoluokka']):\n",
    "    df_dropna = df[df['rahastoluokka']==luokka].dropna(subset=['tuotto 1v', 'palkkio'])\n",
    "    corr, p = pearsonr(df_dropna['tuotto 1v'], df_dropna['palkkio'])\n",
    "    print(luokka, 'korrelaatio %.3f,' %corr, 'p-arvo %.3f' %p)"
   ]
  },
  {
   "cell_type": "code",
   "execution_count": 11,
   "metadata": {},
   "outputs": [
    {
     "data": {
      "image/png": "[encoded data removed]",
      "text/plain": [
       "<Figure size 864x216 with 4 Axes>"
      ]
     },
     "metadata": {
      "needs_background": "light"
     },
     "output_type": "display_data"
    }
   ],
   "source": [
    "# 1v tuotot ja palkkiot pistekaavioina rahastoluokittain\n",
    "g = sns.FacetGrid(data=df, col='rahastoluokka')\n",
    "g = g.map(plt.scatter, 'palkkio', 'tuotto 1v')"
   ]
  }
 ],
 "metadata": {
  "kernelspec": {
   "display_name": "Python 3",
   "language": "python",
   "name": "python3"
  },
  "language_info": {
   "codemirror_mode": {
    "name": "ipython",
    "version": 3
   },
   "file_extension": ".py",
   "mimetype": "text/x-python",
   "name": "python",
   "nbconvert_exporter": "python",
   "pygments_lexer": "ipython3",
   "version": "3.7.3"
  }
 },
 "nbformat": 4,
 "nbformat_minor": 2
}
