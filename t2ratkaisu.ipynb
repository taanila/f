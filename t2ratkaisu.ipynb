{
 "cells": [
  {
   "cell_type": "markdown",
   "metadata": {},
   "source": [
    "### Analyysejä analysointiosaamisen tehtävään 2"
   ]
  },
  {
   "cell_type": "code",
   "execution_count": 1,
   "metadata": {
    "scrolled": true
   },
   "outputs": [
    {
     "data": {
      "text/html": [
       "<div>\n",
       "<style scoped>\n",
       "    .dataframe tbody tr th:only-of-type {\n",
       "        vertical-align: middle;\n",
       "    }\n",
       "\n",
       "    .dataframe tbody tr th {\n",
       "        vertical-align: top;\n",
       "    }\n",
       "\n",
       "    .dataframe thead th {\n",
       "        text-align: right;\n",
       "    }\n",
       "</style>\n",
       "<table border=\"1\" class=\"dataframe\">\n",
       "  <thead>\n",
       "    <tr style=\"text-align: right;\">\n",
       "      <th></th>\n",
       "      <th>Nro</th>\n",
       "      <th>Rahaston nimi</th>\n",
       "      <th>5 vuoden tuotto (% vuodessa)</th>\n",
       "      <th>3 vuoden tuotto (% vuodessa)</th>\n",
       "      <th>1 vuoden tuotto</th>\n",
       "      <th>6 kuukauden tuotto</th>\n",
       "      <th>Hallinn. ja säilytyspalkkio (% vuodessa)</th>\n",
       "      <th>Rahastoluokka</th>\n",
       "    </tr>\n",
       "  </thead>\n",
       "  <tbody>\n",
       "    <tr>\n",
       "      <th>0</th>\n",
       "      <td>1</td>\n",
       "      <td>JPMorgan ETFs (Ireland) ICAV - Europe Research...</td>\n",
       "      <td>NaN</td>\n",
       "      <td>0.133423</td>\n",
       "      <td>0.410234</td>\n",
       "      <td>0.103591</td>\n",
       "      <td>0.0000</td>\n",
       "      <td>EQ_EUROPE</td>\n",
       "    </tr>\n",
       "    <tr>\n",
       "      <th>1</th>\n",
       "      <td>2</td>\n",
       "      <td>Brown Advisory US Flexible Equity Dollar B Acc</td>\n",
       "      <td>0.188873</td>\n",
       "      <td>0.214246</td>\n",
       "      <td>0.430709</td>\n",
       "      <td>0.121113</td>\n",
       "      <td>0.0075</td>\n",
       "      <td>EQ_NORAM</td>\n",
       "    </tr>\n",
       "    <tr>\n",
       "      <th>2</th>\n",
       "      <td>3</td>\n",
       "      <td>Brown Advisory US Mid Cap Growth Dollar C Acc</td>\n",
       "      <td>0.192408</td>\n",
       "      <td>0.224619</td>\n",
       "      <td>0.362024</td>\n",
       "      <td>0.099892</td>\n",
       "      <td>0.0050</td>\n",
       "      <td>EQ_NORAM</td>\n",
       "    </tr>\n",
       "    <tr>\n",
       "      <th>3</th>\n",
       "      <td>4</td>\n",
       "      <td>Brown Advisory US Sustainable Growth Dollar Cl...</td>\n",
       "      <td>0.256272</td>\n",
       "      <td>0.318179</td>\n",
       "      <td>0.476336</td>\n",
       "      <td>0.263922</td>\n",
       "      <td>0.0075</td>\n",
       "      <td>EQ_NORAM</td>\n",
       "    </tr>\n",
       "    <tr>\n",
       "      <th>4</th>\n",
       "      <td>5</td>\n",
       "      <td>Danske Invest SICAV Europe Small Cap Class A</td>\n",
       "      <td>0.175021</td>\n",
       "      <td>0.220996</td>\n",
       "      <td>0.532975</td>\n",
       "      <td>0.105410</td>\n",
       "      <td>0.0173</td>\n",
       "      <td>EQ_EUROPE</td>\n",
       "    </tr>\n",
       "  </tbody>\n",
       "</table>\n",
       "</div>"
      ],
      "text/plain": [
       "   Nro                                      Rahaston nimi  \\\n",
       "0    1  JPMorgan ETFs (Ireland) ICAV - Europe Research...   \n",
       "1    2     Brown Advisory US Flexible Equity Dollar B Acc   \n",
       "2    3      Brown Advisory US Mid Cap Growth Dollar C Acc   \n",
       "3    4  Brown Advisory US Sustainable Growth Dollar Cl...   \n",
       "4    5       Danske Invest SICAV Europe Small Cap Class A   \n",
       "\n",
       "   5 vuoden tuotto (% vuodessa)  3 vuoden tuotto (% vuodessa)  \\\n",
       "0                           NaN                      0.133423   \n",
       "1                      0.188873                      0.214246   \n",
       "2                      0.192408                      0.224619   \n",
       "3                      0.256272                      0.318179   \n",
       "4                      0.175021                      0.220996   \n",
       "\n",
       "   1 vuoden tuotto  6 kuukauden tuotto  \\\n",
       "0         0.410234            0.103591   \n",
       "1         0.430709            0.121113   \n",
       "2         0.362024            0.099892   \n",
       "3         0.476336            0.263922   \n",
       "4         0.532975            0.105410   \n",
       "\n",
       "   Hallinn. ja säilytyspalkkio (% vuodessa) Rahastoluokka  \n",
       "0                                    0.0000     EQ_EUROPE  \n",
       "1                                    0.0075      EQ_NORAM  \n",
       "2                                    0.0050      EQ_NORAM  \n",
       "3                                    0.0075      EQ_NORAM  \n",
       "4                                    0.0173     EQ_EUROPE  "
      ]
     },
     "execution_count": 1,
     "metadata": {},
     "output_type": "execute_result"
    }
   ],
   "source": [
    "# Kirjastojen tuonti\n",
    "import pandas as pd\n",
    "import matplotlib.pyplot as plt\n",
    "import seaborn as sns\n",
    "\n",
    "# Kaavioiden tyylimäärittely\n",
    "plt.style.use('seaborn-whitegrid')\n",
    "\n",
    "# Datan avaaminen\n",
    "df=pd.read_excel('t2aineisto.xlsx')\n",
    "df.head()"
   ]
  },
  {
   "cell_type": "code",
   "execution_count": 2,
   "metadata": {},
   "outputs": [],
   "source": [
    "# Lyhyemmät nimet muuttujille\n",
    "df = df.drop(['Nro'], axis = 1)\n",
    "df.columns=['nimi', 'tuotto 5v', 'tuotto 3v', 'tuotto 1v', 'tuotto 6kk', 'palkkio', 'rahastoluokka']"
   ]
  },
  {
   "cell_type": "code",
   "execution_count": 3,
   "metadata": {},
   "outputs": [
    {
     "data": {
      "text/plain": [
       "EQ_EUROPE         129\n",
       "EQ_NORAM           75\n",
       "EQ_EMER_GLOBAL     63\n",
       "EQ_FINLAND         43\n",
       "Name: rahastoluokka, dtype: int64"
      ]
     },
     "execution_count": 3,
     "metadata": {},
     "output_type": "execute_result"
    }
   ],
   "source": [
    "df['rahastoluokka'].value_counts()"
   ]
  },
  {
   "cell_type": "code",
   "execution_count": 4,
   "metadata": {},
   "outputs": [
    {
     "data": {
      "text/html": [
       "<div>\n",
       "<style scoped>\n",
       "    .dataframe tbody tr th:only-of-type {\n",
       "        vertical-align: middle;\n",
       "    }\n",
       "\n",
       "    .dataframe tbody tr th {\n",
       "        vertical-align: top;\n",
       "    }\n",
       "\n",
       "    .dataframe thead th {\n",
       "        text-align: right;\n",
       "    }\n",
       "</style>\n",
       "<table border=\"1\" class=\"dataframe\">\n",
       "  <thead>\n",
       "    <tr style=\"text-align: right;\">\n",
       "      <th></th>\n",
       "      <th>rahastoluokka</th>\n",
       "      <th>EQ_EMER_GLOBAL</th>\n",
       "      <th>EQ_EUROPE</th>\n",
       "      <th>EQ_FINLAND</th>\n",
       "      <th>EQ_NORAM</th>\n",
       "    </tr>\n",
       "  </thead>\n",
       "  <tbody>\n",
       "    <tr>\n",
       "      <th rowspan=\"8\" valign=\"top\">tuotto 5v</th>\n",
       "      <th>count</th>\n",
       "      <td>50.000000</td>\n",
       "      <td>94.000000</td>\n",
       "      <td>31.000000</td>\n",
       "      <td>61.000000</td>\n",
       "    </tr>\n",
       "    <tr>\n",
       "      <th>mean</th>\n",
       "      <td>0.081447</td>\n",
       "      <td>0.098862</td>\n",
       "      <td>0.140649</td>\n",
       "      <td>0.152105</td>\n",
       "    </tr>\n",
       "    <tr>\n",
       "      <th>std</th>\n",
       "      <td>0.029180</td>\n",
       "      <td>0.031439</td>\n",
       "      <td>0.029573</td>\n",
       "      <td>0.044449</td>\n",
       "    </tr>\n",
       "    <tr>\n",
       "      <th>min</th>\n",
       "      <td>0.019802</td>\n",
       "      <td>0.033557</td>\n",
       "      <td>0.106154</td>\n",
       "      <td>0.052591</td>\n",
       "    </tr>\n",
       "    <tr>\n",
       "      <th>25%</th>\n",
       "      <td>0.062799</td>\n",
       "      <td>0.077905</td>\n",
       "      <td>0.123535</td>\n",
       "      <td>0.126062</td>\n",
       "    </tr>\n",
       "    <tr>\n",
       "      <th>50%</th>\n",
       "      <td>0.080755</td>\n",
       "      <td>0.093060</td>\n",
       "      <td>0.131375</td>\n",
       "      <td>0.159170</td>\n",
       "    </tr>\n",
       "    <tr>\n",
       "      <th>75%</th>\n",
       "      <td>0.100432</td>\n",
       "      <td>0.118772</td>\n",
       "      <td>0.147459</td>\n",
       "      <td>0.170847</td>\n",
       "    </tr>\n",
       "    <tr>\n",
       "      <th>max</th>\n",
       "      <td>0.133509</td>\n",
       "      <td>0.183843</td>\n",
       "      <td>0.231281</td>\n",
       "      <td>0.256272</td>\n",
       "    </tr>\n",
       "    <tr>\n",
       "      <th rowspan=\"8\" valign=\"top\">tuotto 3v</th>\n",
       "      <th>count</th>\n",
       "      <td>54.000000</td>\n",
       "      <td>104.000000</td>\n",
       "      <td>38.000000</td>\n",
       "      <td>64.000000</td>\n",
       "    </tr>\n",
       "    <tr>\n",
       "      <th>mean</th>\n",
       "      <td>0.132386</td>\n",
       "      <td>0.130008</td>\n",
       "      <td>0.196842</td>\n",
       "      <td>0.180649</td>\n",
       "    </tr>\n",
       "    <tr>\n",
       "      <th>std</th>\n",
       "      <td>0.045896</td>\n",
       "      <td>0.045736</td>\n",
       "      <td>0.062136</td>\n",
       "      <td>0.055371</td>\n",
       "    </tr>\n",
       "    <tr>\n",
       "      <th>min</th>\n",
       "      <td>0.041438</td>\n",
       "      <td>0.041061</td>\n",
       "      <td>0.136483</td>\n",
       "      <td>0.052620</td>\n",
       "    </tr>\n",
       "    <tr>\n",
       "      <th>25%</th>\n",
       "      <td>0.102870</td>\n",
       "      <td>0.106183</td>\n",
       "      <td>0.149255</td>\n",
       "      <td>0.140690</td>\n",
       "    </tr>\n",
       "    <tr>\n",
       "      <th>50%</th>\n",
       "      <td>0.123798</td>\n",
       "      <td>0.122132</td>\n",
       "      <td>0.168038</td>\n",
       "      <td>0.196390</td>\n",
       "    </tr>\n",
       "    <tr>\n",
       "      <th>75%</th>\n",
       "      <td>0.179089</td>\n",
       "      <td>0.153509</td>\n",
       "      <td>0.215343</td>\n",
       "      <td>0.209538</td>\n",
       "    </tr>\n",
       "    <tr>\n",
       "      <th>max</th>\n",
       "      <td>0.238645</td>\n",
       "      <td>0.263844</td>\n",
       "      <td>0.349716</td>\n",
       "      <td>0.318179</td>\n",
       "    </tr>\n",
       "    <tr>\n",
       "      <th rowspan=\"8\" valign=\"top\">tuotto 1v</th>\n",
       "      <th>count</th>\n",
       "      <td>58.000000</td>\n",
       "      <td>123.000000</td>\n",
       "      <td>41.000000</td>\n",
       "      <td>75.000000</td>\n",
       "    </tr>\n",
       "    <tr>\n",
       "      <th>mean</th>\n",
       "      <td>0.231157</td>\n",
       "      <td>0.429044</td>\n",
       "      <td>0.411935</td>\n",
       "      <td>0.414222</td>\n",
       "    </tr>\n",
       "    <tr>\n",
       "      <th>std</th>\n",
       "      <td>0.132623</td>\n",
       "      <td>0.100626</td>\n",
       "      <td>0.072731</td>\n",
       "      <td>0.062414</td>\n",
       "    </tr>\n",
       "    <tr>\n",
       "      <th>min</th>\n",
       "      <td>0.068412</td>\n",
       "      <td>0.142009</td>\n",
       "      <td>0.329351</td>\n",
       "      <td>0.162475</td>\n",
       "    </tr>\n",
       "    <tr>\n",
       "      <th>25%</th>\n",
       "      <td>0.153739</td>\n",
       "      <td>0.375966</td>\n",
       "      <td>0.348666</td>\n",
       "      <td>0.388695</td>\n",
       "    </tr>\n",
       "    <tr>\n",
       "      <th>50%</th>\n",
       "      <td>0.184539</td>\n",
       "      <td>0.420813</td>\n",
       "      <td>0.384894</td>\n",
       "      <td>0.427673</td>\n",
       "    </tr>\n",
       "    <tr>\n",
       "      <th>75%</th>\n",
       "      <td>0.284958</td>\n",
       "      <td>0.467987</td>\n",
       "      <td>0.450724</td>\n",
       "      <td>0.451308</td>\n",
       "    </tr>\n",
       "    <tr>\n",
       "      <th>max</th>\n",
       "      <td>0.731927</td>\n",
       "      <td>0.893357</td>\n",
       "      <td>0.649064</td>\n",
       "      <td>0.542350</td>\n",
       "    </tr>\n",
       "    <tr>\n",
       "      <th rowspan=\"8\" valign=\"top\">tuotto 6kk</th>\n",
       "      <th>count</th>\n",
       "      <td>61.000000</td>\n",
       "      <td>124.000000</td>\n",
       "      <td>41.000000</td>\n",
       "      <td>75.000000</td>\n",
       "    </tr>\n",
       "    <tr>\n",
       "      <th>mean</th>\n",
       "      <td>0.004454</td>\n",
       "      <td>0.086323</td>\n",
       "      <td>0.048808</td>\n",
       "      <td>0.115627</td>\n",
       "    </tr>\n",
       "    <tr>\n",
       "      <th>std</th>\n",
       "      <td>0.075153</td>\n",
       "      <td>0.036316</td>\n",
       "      <td>0.026566</td>\n",
       "      <td>0.046506</td>\n",
       "    </tr>\n",
       "    <tr>\n",
       "      <th>min</th>\n",
       "      <td>-0.095683</td>\n",
       "      <td>-0.050887</td>\n",
       "      <td>-0.024100</td>\n",
       "      <td>-0.039408</td>\n",
       "    </tr>\n",
       "    <tr>\n",
       "      <th>25%</th>\n",
       "      <td>-0.036433</td>\n",
       "      <td>0.069357</td>\n",
       "      <td>0.044341</td>\n",
       "      <td>0.093683</td>\n",
       "    </tr>\n",
       "    <tr>\n",
       "      <th>50%</th>\n",
       "      <td>-0.016902</td>\n",
       "      <td>0.090212</td>\n",
       "      <td>0.057512</td>\n",
       "      <td>0.121113</td>\n",
       "    </tr>\n",
       "    <tr>\n",
       "      <th>75%</th>\n",
       "      <td>0.015757</td>\n",
       "      <td>0.103998</td>\n",
       "      <td>0.066196</td>\n",
       "      <td>0.149600</td>\n",
       "    </tr>\n",
       "    <tr>\n",
       "      <th>max</th>\n",
       "      <td>0.261910</td>\n",
       "      <td>0.183680</td>\n",
       "      <td>0.082534</td>\n",
       "      <td>0.263922</td>\n",
       "    </tr>\n",
       "    <tr>\n",
       "      <th rowspan=\"8\" valign=\"top\">palkkio</th>\n",
       "      <th>count</th>\n",
       "      <td>63.000000</td>\n",
       "      <td>129.000000</td>\n",
       "      <td>43.000000</td>\n",
       "      <td>75.000000</td>\n",
       "    </tr>\n",
       "    <tr>\n",
       "      <th>mean</th>\n",
       "      <td>0.014431</td>\n",
       "      <td>0.011517</td>\n",
       "      <td>0.011740</td>\n",
       "      <td>0.011381</td>\n",
       "    </tr>\n",
       "    <tr>\n",
       "      <th>std</th>\n",
       "      <td>0.006520</td>\n",
       "      <td>0.005744</td>\n",
       "      <td>0.005866</td>\n",
       "      <td>0.006237</td>\n",
       "    </tr>\n",
       "    <tr>\n",
       "      <th>min</th>\n",
       "      <td>0.002000</td>\n",
       "      <td>0.000000</td>\n",
       "      <td>0.001590</td>\n",
       "      <td>0.000000</td>\n",
       "    </tr>\n",
       "    <tr>\n",
       "      <th>25%</th>\n",
       "      <td>0.008750</td>\n",
       "      <td>0.007500</td>\n",
       "      <td>0.006200</td>\n",
       "      <td>0.005500</td>\n",
       "    </tr>\n",
       "    <tr>\n",
       "      <th>50%</th>\n",
       "      <td>0.015000</td>\n",
       "      <td>0.011600</td>\n",
       "      <td>0.012000</td>\n",
       "      <td>0.012000</td>\n",
       "    </tr>\n",
       "    <tr>\n",
       "      <th>75%</th>\n",
       "      <td>0.019000</td>\n",
       "      <td>0.017300</td>\n",
       "      <td>0.016500</td>\n",
       "      <td>0.018000</td>\n",
       "    </tr>\n",
       "    <tr>\n",
       "      <th>max</th>\n",
       "      <td>0.025000</td>\n",
       "      <td>0.020000</td>\n",
       "      <td>0.020000</td>\n",
       "      <td>0.020000</td>\n",
       "    </tr>\n",
       "  </tbody>\n",
       "</table>\n",
       "</div>"
      ],
      "text/plain": [
       "rahastoluokka     EQ_EMER_GLOBAL   EQ_EUROPE  EQ_FINLAND   EQ_NORAM\n",
       "tuotto 5v  count       50.000000   94.000000   31.000000  61.000000\n",
       "           mean         0.081447    0.098862    0.140649   0.152105\n",
       "           std          0.029180    0.031439    0.029573   0.044449\n",
       "           min          0.019802    0.033557    0.106154   0.052591\n",
       "           25%          0.062799    0.077905    0.123535   0.126062\n",
       "           50%          0.080755    0.093060    0.131375   0.159170\n",
       "           75%          0.100432    0.118772    0.147459   0.170847\n",
       "           max          0.133509    0.183843    0.231281   0.256272\n",
       "tuotto 3v  count       54.000000  104.000000   38.000000  64.000000\n",
       "           mean         0.132386    0.130008    0.196842   0.180649\n",
       "           std          0.045896    0.045736    0.062136   0.055371\n",
       "           min          0.041438    0.041061    0.136483   0.052620\n",
       "           25%          0.102870    0.106183    0.149255   0.140690\n",
       "           50%          0.123798    0.122132    0.168038   0.196390\n",
       "           75%          0.179089    0.153509    0.215343   0.209538\n",
       "           max          0.238645    0.263844    0.349716   0.318179\n",
       "tuotto 1v  count       58.000000  123.000000   41.000000  75.000000\n",
       "           mean         0.231157    0.429044    0.411935   0.414222\n",
       "           std          0.132623    0.100626    0.072731   0.062414\n",
       "           min          0.068412    0.142009    0.329351   0.162475\n",
       "           25%          0.153739    0.375966    0.348666   0.388695\n",
       "           50%          0.184539    0.420813    0.384894   0.427673\n",
       "           75%          0.284958    0.467987    0.450724   0.451308\n",
       "           max          0.731927    0.893357    0.649064   0.542350\n",
       "tuotto 6kk count       61.000000  124.000000   41.000000  75.000000\n",
       "           mean         0.004454    0.086323    0.048808   0.115627\n",
       "           std          0.075153    0.036316    0.026566   0.046506\n",
       "           min         -0.095683   -0.050887   -0.024100  -0.039408\n",
       "           25%         -0.036433    0.069357    0.044341   0.093683\n",
       "           50%         -0.016902    0.090212    0.057512   0.121113\n",
       "           75%          0.015757    0.103998    0.066196   0.149600\n",
       "           max          0.261910    0.183680    0.082534   0.263922\n",
       "palkkio    count       63.000000  129.000000   43.000000  75.000000\n",
       "           mean         0.014431    0.011517    0.011740   0.011381\n",
       "           std          0.006520    0.005744    0.005866   0.006237\n",
       "           min          0.002000    0.000000    0.001590   0.000000\n",
       "           25%          0.008750    0.007500    0.006200   0.005500\n",
       "           50%          0.015000    0.011600    0.012000   0.012000\n",
       "           75%          0.019000    0.017300    0.016500   0.018000\n",
       "           max          0.025000    0.020000    0.020000   0.020000"
      ]
     },
     "execution_count": 4,
     "metadata": {},
     "output_type": "execute_result"
    }
   ],
   "source": [
    "#Tilastolliset tunnusluvut rahastoluokittain\n",
    "df.groupby('rahastoluokka').describe().T"
   ]
  },
  {
   "cell_type": "code",
   "execution_count": 5,
   "metadata": {},
   "outputs": [
    {
     "data": {
      "text/plain": [
       "<AxesSubplot:xlabel='rahastoluokka', ylabel='tuotto 5v'>"
      ]
     },
     "execution_count": 5,
     "metadata": {},
     "output_type": "execute_result"
    },
    {
     "data": {
      "image/png": "[encoded data removed]",
      "text/plain": [
       "<Figure size 432x288 with 1 Axes>"
      ]
     },
     "metadata": {},
     "output_type": "display_data"
    }
   ],
   "source": [
    "sns.boxplot(x='rahastoluokka', y='tuotto 5v', data=df)"
   ]
  },
  {
   "cell_type": "code",
   "execution_count": 6,
   "metadata": {},
   "outputs": [
    {
     "data": {
      "text/plain": [
       "<AxesSubplot:xlabel='rahastoluokka', ylabel='tuotto 3v'>"
      ]
     },
     "execution_count": 6,
     "metadata": {},
     "output_type": "execute_result"
    },
    {
     "data": {
      "image/png": "[encoded data removed]",
      "text/plain": [
       "<Figure size 432x288 with 1 Axes>"
      ]
     },
     "metadata": {},
     "output_type": "display_data"
    }
   ],
   "source": [
    "sns.boxplot(x='rahastoluokka', y='tuotto 3v', data=df)"
   ]
  },
  {
   "cell_type": "code",
   "execution_count": 7,
   "metadata": {},
   "outputs": [
    {
     "data": {
      "text/plain": [
       "<AxesSubplot:xlabel='rahastoluokka', ylabel='tuotto 1v'>"
      ]
     },
     "execution_count": 7,
     "metadata": {},
     "output_type": "execute_result"
    },
    {
     "data": {
      "image/png": "[encoded data removed]",
      "text/plain": [
       "<Figure size 432x288 with 1 Axes>"
      ]
     },
     "metadata": {},
     "output_type": "display_data"
    }
   ],
   "source": [
    "sns.boxplot(x='rahastoluokka', y='tuotto 1v', data=df)"
   ]
  },
  {
   "cell_type": "code",
   "execution_count": 8,
   "metadata": {},
   "outputs": [
    {
     "data": {
      "text/plain": [
       "<AxesSubplot:xlabel='rahastoluokka', ylabel='tuotto 6kk'>"
      ]
     },
     "execution_count": 8,
     "metadata": {},
     "output_type": "execute_result"
    },
    {
     "data": {
      "image/png": "[encoded data removed]",
      "text/plain": [
       "<Figure size 432x288 with 1 Axes>"
      ]
     },
     "metadata": {},
     "output_type": "display_data"
    }
   ],
   "source": [
    "sns.boxplot(x='rahastoluokka', y='tuotto 6kk', data=df)"
   ]
  },
  {
   "cell_type": "code",
   "execution_count": 9,
   "metadata": {},
   "outputs": [
    {
     "data": {
      "text/plain": [
       "<AxesSubplot:xlabel='rahastoluokka', ylabel='palkkio'>"
      ]
     },
     "execution_count": 9,
     "metadata": {},
     "output_type": "execute_result"
    },
    {
     "data": {
      "image/png": "[encoded data removed]",
      "text/plain": [
       "<Figure size 432x288 with 1 Axes>"
      ]
     },
     "metadata": {},
     "output_type": "display_data"
    }
   ],
   "source": [
    "sns.boxplot(x='rahastoluokka', y='palkkio', data=df)"
   ]
  },
  {
   "cell_type": "code",
   "execution_count": 10,
   "metadata": {},
   "outputs": [
    {
     "data": {
      "text/html": [
       "<div>\n",
       "<style scoped>\n",
       "    .dataframe tbody tr th:only-of-type {\n",
       "        vertical-align: middle;\n",
       "    }\n",
       "\n",
       "    .dataframe tbody tr th {\n",
       "        vertical-align: top;\n",
       "    }\n",
       "\n",
       "    .dataframe thead th {\n",
       "        text-align: right;\n",
       "    }\n",
       "</style>\n",
       "<table border=\"1\" class=\"dataframe\">\n",
       "  <thead>\n",
       "    <tr style=\"text-align: right;\">\n",
       "      <th></th>\n",
       "      <th></th>\n",
       "      <th>tuotto 1v</th>\n",
       "      <th>palkkio</th>\n",
       "    </tr>\n",
       "    <tr>\n",
       "      <th>rahastoluokka</th>\n",
       "      <th></th>\n",
       "      <th></th>\n",
       "      <th></th>\n",
       "    </tr>\n",
       "  </thead>\n",
       "  <tbody>\n",
       "    <tr>\n",
       "      <th rowspan=\"2\" valign=\"top\">EQ_EMER_GLOBAL</th>\n",
       "      <th>tuotto 1v</th>\n",
       "      <td>1.000000</td>\n",
       "      <td>0.140579</td>\n",
       "    </tr>\n",
       "    <tr>\n",
       "      <th>palkkio</th>\n",
       "      <td>0.140579</td>\n",
       "      <td>1.000000</td>\n",
       "    </tr>\n",
       "    <tr>\n",
       "      <th rowspan=\"2\" valign=\"top\">EQ_EUROPE</th>\n",
       "      <th>tuotto 1v</th>\n",
       "      <td>1.000000</td>\n",
       "      <td>0.129839</td>\n",
       "    </tr>\n",
       "    <tr>\n",
       "      <th>palkkio</th>\n",
       "      <td>0.129839</td>\n",
       "      <td>1.000000</td>\n",
       "    </tr>\n",
       "    <tr>\n",
       "      <th rowspan=\"2\" valign=\"top\">EQ_FINLAND</th>\n",
       "      <th>tuotto 1v</th>\n",
       "      <td>1.000000</td>\n",
       "      <td>0.520109</td>\n",
       "    </tr>\n",
       "    <tr>\n",
       "      <th>palkkio</th>\n",
       "      <td>0.520109</td>\n",
       "      <td>1.000000</td>\n",
       "    </tr>\n",
       "    <tr>\n",
       "      <th rowspan=\"2\" valign=\"top\">EQ_NORAM</th>\n",
       "      <th>tuotto 1v</th>\n",
       "      <td>1.000000</td>\n",
       "      <td>-0.011075</td>\n",
       "    </tr>\n",
       "    <tr>\n",
       "      <th>palkkio</th>\n",
       "      <td>-0.011075</td>\n",
       "      <td>1.000000</td>\n",
       "    </tr>\n",
       "  </tbody>\n",
       "</table>\n",
       "</div>"
      ],
      "text/plain": [
       "                          tuotto 1v   palkkio\n",
       "rahastoluokka                                \n",
       "EQ_EMER_GLOBAL tuotto 1v   1.000000  0.140579\n",
       "               palkkio     0.140579  1.000000\n",
       "EQ_EUROPE      tuotto 1v   1.000000  0.129839\n",
       "               palkkio     0.129839  1.000000\n",
       "EQ_FINLAND     tuotto 1v   1.000000  0.520109\n",
       "               palkkio     0.520109  1.000000\n",
       "EQ_NORAM       tuotto 1v   1.000000 -0.011075\n",
       "               palkkio    -0.011075  1.000000"
      ]
     },
     "execution_count": 10,
     "metadata": {},
     "output_type": "execute_result"
    }
   ],
   "source": [
    "# Korrelaatiokertoimen 1v tuoton ja palkkion välille rahastoluokittain\n",
    "df.groupby('rahastoluokka')[['tuotto 1v','palkkio']].corr()"
   ]
  },
  {
   "cell_type": "code",
   "execution_count": 11,
   "metadata": {},
   "outputs": [
    {
     "name": "stdout",
     "output_type": "stream",
     "text": [
      "EQ_EUROPE korrelaatio 0.130, p-arvo 0.1523\n",
      "EQ_NORAM korrelaatio -0.011, p-arvo 0.9249\n",
      "EQ_EMER_GLOBAL korrelaatio 0.141, p-arvo 0.2925\n",
      "EQ_FINLAND korrelaatio 0.520, p-arvo 0.0005\n"
     ]
    }
   ],
   "source": [
    "# pearsonr-funktion tuonti scipy.stats-kirjastosta\n",
    "from scipy.stats import pearsonr\n",
    "\n",
    "# Korrelaatiokertoimet ja p-arvot 1v tuoton ja palkkion välille rahastoluokittain\n",
    "for luokka in pd.unique(df['rahastoluokka']):\n",
    "    df_dropna = df[df['rahastoluokka']==luokka].dropna(subset=['tuotto 1v', 'palkkio'])\n",
    "    corr, p = pearsonr(df_dropna['tuotto 1v'], df_dropna['palkkio'])\n",
    "    print(luokka, 'korrelaatio %.3f,' %corr, 'p-arvo %.4f' %p)"
   ]
  },
  {
   "cell_type": "code",
   "execution_count": 12,
   "metadata": {},
   "outputs": [
    {
     "data": {
      "image/png": "[encoded data removed]",
      "text/plain": [
       "<Figure size 864x216 with 4 Axes>"
      ]
     },
     "metadata": {},
     "output_type": "display_data"
    }
   ],
   "source": [
    "# 1v tuotot ja palkkiot pistekaavioina rahastoluokittain\n",
    "g = sns.FacetGrid(data=df, col='rahastoluokka')\n",
    "g = g.map(plt.scatter, 'palkkio', 'tuotto 1v')"
   ]
  }
 ],
 "metadata": {
  "kernelspec": {
   "display_name": "Python 3 (ipykernel)",
   "language": "python",
   "name": "python3"
  },
  "language_info": {
   "codemirror_mode": {
    "name": "ipython",
    "version": 3
   },
   "file_extension": ".py",
   "mimetype": "text/x-python",
   "name": "python",
   "nbconvert_exporter": "python",
   "pygments_lexer": "ipython3",
   "version": "3.9.7"
  }
 },
 "nbformat": 4,
 "nbformat_minor": 2
}
