{
 "cells": [
  {
   "cell_type": "markdown",
   "metadata": {},
   "source": [
    "### Analyysejä analysointiosaamisen tehtävään 2"
   ]
  },
  {
   "cell_type": "code",
   "execution_count": 1,
   "metadata": {
    "scrolled": true
   },
   "outputs": [
    {
     "data": {
      "text/html": [
       "<div>\n",
       "<style scoped>\n",
       "    .dataframe tbody tr th:only-of-type {\n",
       "        vertical-align: middle;\n",
       "    }\n",
       "\n",
       "    .dataframe tbody tr th {\n",
       "        vertical-align: top;\n",
       "    }\n",
       "\n",
       "    .dataframe thead th {\n",
       "        text-align: right;\n",
       "    }\n",
       "</style>\n",
       "<table border=\"1\" class=\"dataframe\">\n",
       "  <thead>\n",
       "    <tr style=\"text-align: right;\">\n",
       "      <th></th>\n",
       "      <th>Rahaston nimi</th>\n",
       "      <th>5 vuoden tuotto (% vuodessa)</th>\n",
       "      <th>3 vuoden tuotto (% vuodessa)</th>\n",
       "      <th>1 vuoden tuotto</th>\n",
       "      <th>6 kuukauden tuotto</th>\n",
       "      <th>Hallinn. ja säilytyspalkkio (% vuodessa)</th>\n",
       "      <th>Rahastoluokka</th>\n",
       "    </tr>\n",
       "  </thead>\n",
       "  <tbody>\n",
       "    <tr>\n",
       "      <th>0</th>\n",
       "      <td>Aktia Emerging Market Equity Select</td>\n",
       "      <td>0.057362</td>\n",
       "      <td>0.037210</td>\n",
       "      <td>-0.127854</td>\n",
       "      <td>-0.104560</td>\n",
       "      <td>0.0130</td>\n",
       "      <td>EQ_EMER_GLOBAL</td>\n",
       "    </tr>\n",
       "    <tr>\n",
       "      <th>1</th>\n",
       "      <td>Alexandria Kehittyvät Markkinat Osinko</td>\n",
       "      <td>0.038891</td>\n",
       "      <td>0.048642</td>\n",
       "      <td>-0.052433</td>\n",
       "      <td>-0.056391</td>\n",
       "      <td>0.0100</td>\n",
       "      <td>EQ_EMER_GLOBAL</td>\n",
       "    </tr>\n",
       "    <tr>\n",
       "      <th>2</th>\n",
       "      <td>Danske Invest Global Emerging Markets, EUR</td>\n",
       "      <td>0.037449</td>\n",
       "      <td>0.061599</td>\n",
       "      <td>-0.121212</td>\n",
       "      <td>-0.086301</td>\n",
       "      <td>0.0192</td>\n",
       "      <td>EQ_EMER_GLOBAL</td>\n",
       "    </tr>\n",
       "    <tr>\n",
       "      <th>3</th>\n",
       "      <td>Danske Invest Kehitt. Osakemarkkinat</td>\n",
       "      <td>0.034706</td>\n",
       "      <td>0.033012</td>\n",
       "      <td>-0.102572</td>\n",
       "      <td>-0.066973</td>\n",
       "      <td>0.0050</td>\n",
       "      <td>EQ_EMER_GLOBAL</td>\n",
       "    </tr>\n",
       "    <tr>\n",
       "      <th>4</th>\n",
       "      <td>Danske Invest SICAV Global Emerging Markets Cl...</td>\n",
       "      <td>NaN</td>\n",
       "      <td>NaN</td>\n",
       "      <td>NaN</td>\n",
       "      <td>NaN</td>\n",
       "      <td>0.0163</td>\n",
       "      <td>EQ_EMER_GLOBAL</td>\n",
       "    </tr>\n",
       "  </tbody>\n",
       "</table>\n",
       "</div>"
      ],
      "text/plain": [
       "                                       Rahaston nimi  \\\n",
       "0                Aktia Emerging Market Equity Select   \n",
       "1             Alexandria Kehittyvät Markkinat Osinko   \n",
       "2         Danske Invest Global Emerging Markets, EUR   \n",
       "3               Danske Invest Kehitt. Osakemarkkinat   \n",
       "4  Danske Invest SICAV Global Emerging Markets Cl...   \n",
       "\n",
       "   5 vuoden tuotto (% vuodessa)  3 vuoden tuotto (% vuodessa)  \\\n",
       "0                      0.057362                      0.037210   \n",
       "1                      0.038891                      0.048642   \n",
       "2                      0.037449                      0.061599   \n",
       "3                      0.034706                      0.033012   \n",
       "4                           NaN                           NaN   \n",
       "\n",
       "   1 vuoden tuotto  6 kuukauden tuotto  \\\n",
       "0        -0.127854           -0.104560   \n",
       "1        -0.052433           -0.056391   \n",
       "2        -0.121212           -0.086301   \n",
       "3        -0.102572           -0.066973   \n",
       "4              NaN                 NaN   \n",
       "\n",
       "   Hallinn. ja säilytyspalkkio (% vuodessa)   Rahastoluokka  \n",
       "0                                    0.0130  EQ_EMER_GLOBAL  \n",
       "1                                    0.0100  EQ_EMER_GLOBAL  \n",
       "2                                    0.0192  EQ_EMER_GLOBAL  \n",
       "3                                    0.0050  EQ_EMER_GLOBAL  \n",
       "4                                    0.0163  EQ_EMER_GLOBAL  "
      ]
     },
     "execution_count": 1,
     "metadata": {},
     "output_type": "execute_result"
    }
   ],
   "source": [
    "# Kirjastojen tuonti\n",
    "import pandas as pd\n",
    "import matplotlib.pyplot as plt\n",
    "import seaborn as sns\n",
    "\n",
    "# Kaavioiden tyylimäärittely\n",
    "plt.style.use('seaborn-whitegrid')\n",
    "\n",
    "# Datan avaaminen\n",
    "df=pd.read_excel('https://taanila.fi/t2aineisto.xlsx')\n",
    "df.head()"
   ]
  },
  {
   "cell_type": "code",
   "execution_count": 2,
   "metadata": {},
   "outputs": [],
   "source": [
    "# Lyhyemmät nimet muuttujille\n",
    "# df = df.drop(['Nro'], axis = 1)\n",
    "df.columns=['nimi', 'tuotto 5v', 'tuotto 3v', 'tuotto 1v', 'tuotto 6kk', 'palkkio', 'rahastoluokka']"
   ]
  },
  {
   "cell_type": "code",
   "execution_count": 3,
   "metadata": {},
   "outputs": [
    {
     "data": {
      "text/plain": [
       "EQ_EUROPE         127\n",
       "EQ_NORAM           79\n",
       "EQ_EMER_GLOBAL     61\n",
       "EQ_FINLAND         42\n",
       "Name: rahastoluokka, dtype: int64"
      ]
     },
     "execution_count": 3,
     "metadata": {},
     "output_type": "execute_result"
    }
   ],
   "source": [
    "df['rahastoluokka'].value_counts()"
   ]
  },
  {
   "cell_type": "code",
   "execution_count": 4,
   "metadata": {},
   "outputs": [
    {
     "data": {
      "text/html": [
       "<div>\n",
       "<style scoped>\n",
       "    .dataframe tbody tr th:only-of-type {\n",
       "        vertical-align: middle;\n",
       "    }\n",
       "\n",
       "    .dataframe tbody tr th {\n",
       "        vertical-align: top;\n",
       "    }\n",
       "\n",
       "    .dataframe thead th {\n",
       "        text-align: right;\n",
       "    }\n",
       "</style>\n",
       "<table border=\"1\" class=\"dataframe\">\n",
       "  <thead>\n",
       "    <tr style=\"text-align: right;\">\n",
       "      <th></th>\n",
       "      <th>rahastoluokka</th>\n",
       "      <th>EQ_EMER_GLOBAL</th>\n",
       "      <th>EQ_EUROPE</th>\n",
       "      <th>EQ_FINLAND</th>\n",
       "      <th>EQ_NORAM</th>\n",
       "    </tr>\n",
       "  </thead>\n",
       "  <tbody>\n",
       "    <tr>\n",
       "      <th rowspan=\"8\" valign=\"top\">tuotto 5v</th>\n",
       "      <th>count</th>\n",
       "      <td>47.000000</td>\n",
       "      <td>94.000000</td>\n",
       "      <td>29.000000</td>\n",
       "      <td>60.000000</td>\n",
       "    </tr>\n",
       "    <tr>\n",
       "      <th>mean</th>\n",
       "      <td>0.048130</td>\n",
       "      <td>0.062729</td>\n",
       "      <td>0.098612</td>\n",
       "      <td>0.110356</td>\n",
       "    </tr>\n",
       "    <tr>\n",
       "      <th>std</th>\n",
       "      <td>0.029579</td>\n",
       "      <td>0.022595</td>\n",
       "      <td>0.024054</td>\n",
       "      <td>0.038933</td>\n",
       "    </tr>\n",
       "    <tr>\n",
       "      <th>min</th>\n",
       "      <td>-0.025686</td>\n",
       "      <td>0.016534</td>\n",
       "      <td>0.062941</td>\n",
       "      <td>0.006679</td>\n",
       "    </tr>\n",
       "    <tr>\n",
       "      <th>25%</th>\n",
       "      <td>0.036332</td>\n",
       "      <td>0.047992</td>\n",
       "      <td>0.085674</td>\n",
       "      <td>0.083913</td>\n",
       "    </tr>\n",
       "    <tr>\n",
       "      <th>50%</th>\n",
       "      <td>0.050385</td>\n",
       "      <td>0.060669</td>\n",
       "      <td>0.094462</td>\n",
       "      <td>0.119317</td>\n",
       "    </tr>\n",
       "    <tr>\n",
       "      <th>75%</th>\n",
       "      <td>0.071424</td>\n",
       "      <td>0.069587</td>\n",
       "      <td>0.107467</td>\n",
       "      <td>0.130575</td>\n",
       "    </tr>\n",
       "    <tr>\n",
       "      <th>max</th>\n",
       "      <td>0.100181</td>\n",
       "      <td>0.119062</td>\n",
       "      <td>0.166849</td>\n",
       "      <td>0.199064</td>\n",
       "    </tr>\n",
       "    <tr>\n",
       "      <th rowspan=\"8\" valign=\"top\">tuotto 3v</th>\n",
       "      <th>count</th>\n",
       "      <td>54.000000</td>\n",
       "      <td>103.000000</td>\n",
       "      <td>36.000000</td>\n",
       "      <td>63.000000</td>\n",
       "    </tr>\n",
       "    <tr>\n",
       "      <th>mean</th>\n",
       "      <td>0.060967</td>\n",
       "      <td>0.089701</td>\n",
       "      <td>0.138950</td>\n",
       "      <td>0.154497</td>\n",
       "    </tr>\n",
       "    <tr>\n",
       "      <th>std</th>\n",
       "      <td>0.043690</td>\n",
       "      <td>0.031723</td>\n",
       "      <td>0.051954</td>\n",
       "      <td>0.044178</td>\n",
       "    </tr>\n",
       "    <tr>\n",
       "      <th>min</th>\n",
       "      <td>-0.049072</td>\n",
       "      <td>0.015886</td>\n",
       "      <td>0.091468</td>\n",
       "      <td>0.036337</td>\n",
       "    </tr>\n",
       "    <tr>\n",
       "      <th>25%</th>\n",
       "      <td>0.045977</td>\n",
       "      <td>0.069242</td>\n",
       "      <td>0.099109</td>\n",
       "      <td>0.127875</td>\n",
       "    </tr>\n",
       "    <tr>\n",
       "      <th>50%</th>\n",
       "      <td>0.059384</td>\n",
       "      <td>0.086705</td>\n",
       "      <td>0.117314</td>\n",
       "      <td>0.169466</td>\n",
       "    </tr>\n",
       "    <tr>\n",
       "      <th>75%</th>\n",
       "      <td>0.086291</td>\n",
       "      <td>0.105066</td>\n",
       "      <td>0.155818</td>\n",
       "      <td>0.186233</td>\n",
       "    </tr>\n",
       "    <tr>\n",
       "      <th>max</th>\n",
       "      <td>0.198311</td>\n",
       "      <td>0.189223</td>\n",
       "      <td>0.277455</td>\n",
       "      <td>0.228856</td>\n",
       "    </tr>\n",
       "    <tr>\n",
       "      <th rowspan=\"8\" valign=\"top\">tuotto 1v</th>\n",
       "      <th>count</th>\n",
       "      <td>56.000000</td>\n",
       "      <td>119.000000</td>\n",
       "      <td>39.000000</td>\n",
       "      <td>74.000000</td>\n",
       "    </tr>\n",
       "    <tr>\n",
       "      <th>mean</th>\n",
       "      <td>-0.062017</td>\n",
       "      <td>0.096283</td>\n",
       "      <td>0.027339</td>\n",
       "      <td>0.178748</td>\n",
       "    </tr>\n",
       "    <tr>\n",
       "      <th>std</th>\n",
       "      <td>0.106003</td>\n",
       "      <td>0.072276</td>\n",
       "      <td>0.041141</td>\n",
       "      <td>0.084460</td>\n",
       "    </tr>\n",
       "    <tr>\n",
       "      <th>min</th>\n",
       "      <td>-0.263462</td>\n",
       "      <td>-0.096212</td>\n",
       "      <td>-0.106129</td>\n",
       "      <td>-0.195382</td>\n",
       "    </tr>\n",
       "    <tr>\n",
       "      <th>25%</th>\n",
       "      <td>-0.135906</td>\n",
       "      <td>0.058458</td>\n",
       "      <td>0.013690</td>\n",
       "      <td>0.169020</td>\n",
       "    </tr>\n",
       "    <tr>\n",
       "      <th>50%</th>\n",
       "      <td>-0.057092</td>\n",
       "      <td>0.116855</td>\n",
       "      <td>0.036792</td>\n",
       "      <td>0.205593</td>\n",
       "    </tr>\n",
       "    <tr>\n",
       "      <th>75%</th>\n",
       "      <td>0.008999</td>\n",
       "      <td>0.146190</td>\n",
       "      <td>0.047801</td>\n",
       "      <td>0.228230</td>\n",
       "    </tr>\n",
       "    <tr>\n",
       "      <th>max</th>\n",
       "      <td>0.179166</td>\n",
       "      <td>0.280911</td>\n",
       "      <td>0.076825</td>\n",
       "      <td>0.309332</td>\n",
       "    </tr>\n",
       "    <tr>\n",
       "      <th rowspan=\"8\" valign=\"top\">tuotto 6kk</th>\n",
       "      <th>count</th>\n",
       "      <td>58.000000</td>\n",
       "      <td>120.000000</td>\n",
       "      <td>39.000000</td>\n",
       "      <td>77.000000</td>\n",
       "    </tr>\n",
       "    <tr>\n",
       "      <th>mean</th>\n",
       "      <td>-0.093402</td>\n",
       "      <td>-0.070102</td>\n",
       "      <td>-0.156936</td>\n",
       "      <td>-0.007719</td>\n",
       "    </tr>\n",
       "    <tr>\n",
       "      <th>std</th>\n",
       "      <td>0.090352</td>\n",
       "      <td>0.062470</td>\n",
       "      <td>0.029673</td>\n",
       "      <td>0.048863</td>\n",
       "    </tr>\n",
       "    <tr>\n",
       "      <th>min</th>\n",
       "      <td>-0.392590</td>\n",
       "      <td>-0.230623</td>\n",
       "      <td>-0.221942</td>\n",
       "      <td>-0.177733</td>\n",
       "    </tr>\n",
       "    <tr>\n",
       "      <th>25%</th>\n",
       "      <td>-0.145662</td>\n",
       "      <td>-0.101599</td>\n",
       "      <td>-0.173957</td>\n",
       "      <td>-0.019674</td>\n",
       "    </tr>\n",
       "    <tr>\n",
       "      <th>50%</th>\n",
       "      <td>-0.078318</td>\n",
       "      <td>-0.056982</td>\n",
       "      <td>-0.150924</td>\n",
       "      <td>0.002224</td>\n",
       "    </tr>\n",
       "    <tr>\n",
       "      <th>75%</th>\n",
       "      <td>-0.043814</td>\n",
       "      <td>-0.029693</td>\n",
       "      <td>-0.137943</td>\n",
       "      <td>0.015683</td>\n",
       "    </tr>\n",
       "    <tr>\n",
       "      <th>max</th>\n",
       "      <td>0.101212</td>\n",
       "      <td>0.096687</td>\n",
       "      <td>-0.065060</td>\n",
       "      <td>0.135526</td>\n",
       "    </tr>\n",
       "    <tr>\n",
       "      <th rowspan=\"8\" valign=\"top\">palkkio</th>\n",
       "      <th>count</th>\n",
       "      <td>61.000000</td>\n",
       "      <td>127.000000</td>\n",
       "      <td>42.000000</td>\n",
       "      <td>79.000000</td>\n",
       "    </tr>\n",
       "    <tr>\n",
       "      <th>mean</th>\n",
       "      <td>0.014256</td>\n",
       "      <td>0.011655</td>\n",
       "      <td>0.011599</td>\n",
       "      <td>0.011634</td>\n",
       "    </tr>\n",
       "    <tr>\n",
       "      <th>std</th>\n",
       "      <td>0.007019</td>\n",
       "      <td>0.005737</td>\n",
       "      <td>0.005926</td>\n",
       "      <td>0.006071</td>\n",
       "    </tr>\n",
       "    <tr>\n",
       "      <th>min</th>\n",
       "      <td>0.000000</td>\n",
       "      <td>0.000000</td>\n",
       "      <td>0.001590</td>\n",
       "      <td>0.000000</td>\n",
       "    </tr>\n",
       "    <tr>\n",
       "      <th>25%</th>\n",
       "      <td>0.008000</td>\n",
       "      <td>0.007500</td>\n",
       "      <td>0.006200</td>\n",
       "      <td>0.006250</td>\n",
       "    </tr>\n",
       "    <tr>\n",
       "      <th>50%</th>\n",
       "      <td>0.015000</td>\n",
       "      <td>0.011600</td>\n",
       "      <td>0.012000</td>\n",
       "      <td>0.015000</td>\n",
       "    </tr>\n",
       "    <tr>\n",
       "      <th>75%</th>\n",
       "      <td>0.019000</td>\n",
       "      <td>0.017400</td>\n",
       "      <td>0.016750</td>\n",
       "      <td>0.017750</td>\n",
       "    </tr>\n",
       "    <tr>\n",
       "      <th>max</th>\n",
       "      <td>0.025000</td>\n",
       "      <td>0.020000</td>\n",
       "      <td>0.020000</td>\n",
       "      <td>0.020000</td>\n",
       "    </tr>\n",
       "  </tbody>\n",
       "</table>\n",
       "</div>"
      ],
      "text/plain": [
       "rahastoluokka     EQ_EMER_GLOBAL   EQ_EUROPE  EQ_FINLAND   EQ_NORAM\n",
       "tuotto 5v  count       47.000000   94.000000   29.000000  60.000000\n",
       "           mean         0.048130    0.062729    0.098612   0.110356\n",
       "           std          0.029579    0.022595    0.024054   0.038933\n",
       "           min         -0.025686    0.016534    0.062941   0.006679\n",
       "           25%          0.036332    0.047992    0.085674   0.083913\n",
       "           50%          0.050385    0.060669    0.094462   0.119317\n",
       "           75%          0.071424    0.069587    0.107467   0.130575\n",
       "           max          0.100181    0.119062    0.166849   0.199064\n",
       "tuotto 3v  count       54.000000  103.000000   36.000000  63.000000\n",
       "           mean         0.060967    0.089701    0.138950   0.154497\n",
       "           std          0.043690    0.031723    0.051954   0.044178\n",
       "           min         -0.049072    0.015886    0.091468   0.036337\n",
       "           25%          0.045977    0.069242    0.099109   0.127875\n",
       "           50%          0.059384    0.086705    0.117314   0.169466\n",
       "           75%          0.086291    0.105066    0.155818   0.186233\n",
       "           max          0.198311    0.189223    0.277455   0.228856\n",
       "tuotto 1v  count       56.000000  119.000000   39.000000  74.000000\n",
       "           mean        -0.062017    0.096283    0.027339   0.178748\n",
       "           std          0.106003    0.072276    0.041141   0.084460\n",
       "           min         -0.263462   -0.096212   -0.106129  -0.195382\n",
       "           25%         -0.135906    0.058458    0.013690   0.169020\n",
       "           50%         -0.057092    0.116855    0.036792   0.205593\n",
       "           75%          0.008999    0.146190    0.047801   0.228230\n",
       "           max          0.179166    0.280911    0.076825   0.309332\n",
       "tuotto 6kk count       58.000000  120.000000   39.000000  77.000000\n",
       "           mean        -0.093402   -0.070102   -0.156936  -0.007719\n",
       "           std          0.090352    0.062470    0.029673   0.048863\n",
       "           min         -0.392590   -0.230623   -0.221942  -0.177733\n",
       "           25%         -0.145662   -0.101599   -0.173957  -0.019674\n",
       "           50%         -0.078318   -0.056982   -0.150924   0.002224\n",
       "           75%         -0.043814   -0.029693   -0.137943   0.015683\n",
       "           max          0.101212    0.096687   -0.065060   0.135526\n",
       "palkkio    count       61.000000  127.000000   42.000000  79.000000\n",
       "           mean         0.014256    0.011655    0.011599   0.011634\n",
       "           std          0.007019    0.005737    0.005926   0.006071\n",
       "           min          0.000000    0.000000    0.001590   0.000000\n",
       "           25%          0.008000    0.007500    0.006200   0.006250\n",
       "           50%          0.015000    0.011600    0.012000   0.015000\n",
       "           75%          0.019000    0.017400    0.016750   0.017750\n",
       "           max          0.025000    0.020000    0.020000   0.020000"
      ]
     },
     "execution_count": 4,
     "metadata": {},
     "output_type": "execute_result"
    }
   ],
   "source": [
    "#Tilastolliset tunnusluvut rahastoluokittain\n",
    "df.groupby('rahastoluokka').describe().T"
   ]
  },
  {
   "cell_type": "code",
   "execution_count": 5,
   "metadata": {},
   "outputs": [
    {
     "data": {
      "text/plain": [
       "<AxesSubplot:xlabel='rahastoluokka', ylabel='tuotto 5v'>"
      ]
     },
     "execution_count": 5,
     "metadata": {},
     "output_type": "execute_result"
    },
    {
     "data": {
      "image/png": "[encoded data removed]",
      "text/plain": [
       "<Figure size 432x288 with 1 Axes>"
      ]
     },
     "metadata": {},
     "output_type": "display_data"
    }
   ],
   "source": [
    "sns.boxplot(x='rahastoluokka', y='tuotto 5v', data=df)"
   ]
  },
  {
   "cell_type": "code",
   "execution_count": 6,
   "metadata": {},
   "outputs": [
    {
     "data": {
      "text/plain": [
       "<AxesSubplot:xlabel='rahastoluokka', ylabel='tuotto 3v'>"
      ]
     },
     "execution_count": 6,
     "metadata": {},
     "output_type": "execute_result"
    },
    {
     "data": {
      "image/png": "[encoded data removed]",
      "text/plain": [
       "<Figure size 432x288 with 1 Axes>"
      ]
     },
     "metadata": {},
     "output_type": "display_data"
    }
   ],
   "source": [
    "sns.boxplot(x='rahastoluokka', y='tuotto 3v', data=df)"
   ]
  },
  {
   "cell_type": "code",
   "execution_count": 7,
   "metadata": {},
   "outputs": [
    {
     "data": {
      "text/plain": [
       "<AxesSubplot:xlabel='rahastoluokka', ylabel='tuotto 1v'>"
      ]
     },
     "execution_count": 7,
     "metadata": {},
     "output_type": "execute_result"
    },
    {
     "data": {
      "image/png": "[encoded data removed]",
      "text/plain": [
       "<Figure size 432x288 with 1 Axes>"
      ]
     },
     "metadata": {},
     "output_type": "display_data"
    }
   ],
   "source": [
    "sns.boxplot(x='rahastoluokka', y='tuotto 1v', data=df)"
   ]
  },
  {
   "cell_type": "code",
   "execution_count": 8,
   "metadata": {},
   "outputs": [
    {
     "data": {
      "text/plain": [
       "<AxesSubplot:xlabel='rahastoluokka', ylabel='tuotto 6kk'>"
      ]
     },
     "execution_count": 8,
     "metadata": {},
     "output_type": "execute_result"
    },
    {
     "data": {
      "image/png": "[encoded data removed]",
      "text/plain": [
       "<Figure size 432x288 with 1 Axes>"
      ]
     },
     "metadata": {},
     "output_type": "display_data"
    }
   ],
   "source": [
    "sns.boxplot(x='rahastoluokka', y='tuotto 6kk', data=df)"
   ]
  },
  {
   "cell_type": "code",
   "execution_count": 9,
   "metadata": {},
   "outputs": [
    {
     "data": {
      "text/plain": [
       "<AxesSubplot:xlabel='rahastoluokka', ylabel='palkkio'>"
      ]
     },
     "execution_count": 9,
     "metadata": {},
     "output_type": "execute_result"
    },
    {
     "data": {
      "image/png": "[encoded data removed]",
      "text/plain": [
       "<Figure size 432x288 with 1 Axes>"
      ]
     },
     "metadata": {},
     "output_type": "display_data"
    }
   ],
   "source": [
    "sns.boxplot(x='rahastoluokka', y='palkkio', data=df)"
   ]
  },
  {
   "cell_type": "code",
   "execution_count": 10,
   "metadata": {},
   "outputs": [
    {
     "data": {
      "text/html": [
       "<div>\n",
       "<style scoped>\n",
       "    .dataframe tbody tr th:only-of-type {\n",
       "        vertical-align: middle;\n",
       "    }\n",
       "\n",
       "    .dataframe tbody tr th {\n",
       "        vertical-align: top;\n",
       "    }\n",
       "\n",
       "    .dataframe thead th {\n",
       "        text-align: right;\n",
       "    }\n",
       "</style>\n",
       "<table border=\"1\" class=\"dataframe\">\n",
       "  <thead>\n",
       "    <tr style=\"text-align: right;\">\n",
       "      <th></th>\n",
       "      <th></th>\n",
       "      <th>tuotto 1v</th>\n",
       "      <th>palkkio</th>\n",
       "    </tr>\n",
       "    <tr>\n",
       "      <th>rahastoluokka</th>\n",
       "      <th></th>\n",
       "      <th></th>\n",
       "      <th></th>\n",
       "    </tr>\n",
       "  </thead>\n",
       "  <tbody>\n",
       "    <tr>\n",
       "      <th rowspan=\"2\" valign=\"top\">EQ_EMER_GLOBAL</th>\n",
       "      <th>tuotto 1v</th>\n",
       "      <td>1.000000</td>\n",
       "      <td>0.116612</td>\n",
       "    </tr>\n",
       "    <tr>\n",
       "      <th>palkkio</th>\n",
       "      <td>0.116612</td>\n",
       "      <td>1.000000</td>\n",
       "    </tr>\n",
       "    <tr>\n",
       "      <th rowspan=\"2\" valign=\"top\">EQ_EUROPE</th>\n",
       "      <th>tuotto 1v</th>\n",
       "      <td>1.000000</td>\n",
       "      <td>-0.311735</td>\n",
       "    </tr>\n",
       "    <tr>\n",
       "      <th>palkkio</th>\n",
       "      <td>-0.311735</td>\n",
       "      <td>1.000000</td>\n",
       "    </tr>\n",
       "    <tr>\n",
       "      <th rowspan=\"2\" valign=\"top\">EQ_FINLAND</th>\n",
       "      <th>tuotto 1v</th>\n",
       "      <td>1.000000</td>\n",
       "      <td>-0.158157</td>\n",
       "    </tr>\n",
       "    <tr>\n",
       "      <th>palkkio</th>\n",
       "      <td>-0.158157</td>\n",
       "      <td>1.000000</td>\n",
       "    </tr>\n",
       "    <tr>\n",
       "      <th rowspan=\"2\" valign=\"top\">EQ_NORAM</th>\n",
       "      <th>tuotto 1v</th>\n",
       "      <td>1.000000</td>\n",
       "      <td>-0.374656</td>\n",
       "    </tr>\n",
       "    <tr>\n",
       "      <th>palkkio</th>\n",
       "      <td>-0.374656</td>\n",
       "      <td>1.000000</td>\n",
       "    </tr>\n",
       "  </tbody>\n",
       "</table>\n",
       "</div>"
      ],
      "text/plain": [
       "                          tuotto 1v   palkkio\n",
       "rahastoluokka                                \n",
       "EQ_EMER_GLOBAL tuotto 1v   1.000000  0.116612\n",
       "               palkkio     0.116612  1.000000\n",
       "EQ_EUROPE      tuotto 1v   1.000000 -0.311735\n",
       "               palkkio    -0.311735  1.000000\n",
       "EQ_FINLAND     tuotto 1v   1.000000 -0.158157\n",
       "               palkkio    -0.158157  1.000000\n",
       "EQ_NORAM       tuotto 1v   1.000000 -0.374656\n",
       "               palkkio    -0.374656  1.000000"
      ]
     },
     "execution_count": 10,
     "metadata": {},
     "output_type": "execute_result"
    }
   ],
   "source": [
    "# Korrelaatiokertoimen 1v tuoton ja palkkion välille rahastoluokittain\n",
    "df.groupby('rahastoluokka')[['tuotto 1v','palkkio']].corr()"
   ]
  },
  {
   "cell_type": "code",
   "execution_count": 11,
   "metadata": {},
   "outputs": [
    {
     "name": "stdout",
     "output_type": "stream",
     "text": [
      "EQ_EMER_GLOBAL korrelaatio 0.117, p-arvo 0.3921\n",
      "EQ_EUROPE korrelaatio -0.312, p-arvo 0.0006\n",
      "EQ_FINLAND korrelaatio -0.158, p-arvo 0.3362\n",
      "EQ_NORAM korrelaatio -0.375, p-arvo 0.0010\n"
     ]
    }
   ],
   "source": [
    "# pearsonr-funktion tuonti scipy.stats-kirjastosta\n",
    "from scipy.stats import pearsonr\n",
    "\n",
    "# Korrelaatiokertoimet ja p-arvot 1v tuoton ja palkkion välille rahastoluokittain\n",
    "for luokka in pd.unique(df['rahastoluokka']):\n",
    "    df_dropna = df[df['rahastoluokka']==luokka].dropna(subset=['tuotto 1v', 'palkkio'])\n",
    "    corr, p = pearsonr(df_dropna['tuotto 1v'], df_dropna['palkkio'])\n",
    "    print(luokka, 'korrelaatio %.3f,' %corr, 'p-arvo %.4f' %p)"
   ]
  },
  {
   "cell_type": "code",
   "execution_count": 12,
   "metadata": {},
   "outputs": [
    {
     "data": {
      "text/plain": [
       "<seaborn.axisgrid.FacetGrid at 0x299941d1040>"
      ]
     },
     "execution_count": 12,
     "metadata": {},
     "output_type": "execute_result"
    },
    {
     "data": {
      "image/png": "[encoded data removed]",
      "text/plain": [
       "<Figure size 1440x360 with 4 Axes>"
      ]
     },
     "metadata": {},
     "output_type": "display_data"
    }
   ],
   "source": [
    "sns.relplot(x='palkkio', y='tuotto 1v', col='rahastoluokka', data=df, kind='scatter')"
   ]
  },
  {
   "cell_type": "code",
   "execution_count": null,
   "metadata": {},
   "outputs": [],
   "source": []
  }
 ],
 "metadata": {
  "kernelspec": {
   "display_name": "Python 3 (ipykernel)",
   "language": "python",
   "name": "python3"
  },
  "language_info": {
   "codemirror_mode": {
    "name": "ipython",
    "version": 3
   },
   "file_extension": ".py",
   "mimetype": "text/x-python",
   "name": "python",
   "nbconvert_exporter": "python",
   "pygments_lexer": "ipython3",
   "version": "3.9.7"
  }
 },
 "nbformat": 4,
 "nbformat_minor": 2
}
