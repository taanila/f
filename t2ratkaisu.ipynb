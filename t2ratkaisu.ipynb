{
 "cells": [
  {
   "cell_type": "markdown",
   "metadata": {},
   "source": [
    "### Analyysejä analysointiosaamisen tehtävään 2"
   ]
  },
  {
   "cell_type": "code",
   "execution_count": 1,
   "metadata": {
    "scrolled": true
   },
   "outputs": [
    {
     "data": {
      "text/html": [
       "<div>\n",
       "<style scoped>\n",
       "    .dataframe tbody tr th:only-of-type {\n",
       "        vertical-align: middle;\n",
       "    }\n",
       "\n",
       "    .dataframe tbody tr th {\n",
       "        vertical-align: top;\n",
       "    }\n",
       "\n",
       "    .dataframe thead th {\n",
       "        text-align: right;\n",
       "    }\n",
       "</style>\n",
       "<table border=\"1\" class=\"dataframe\">\n",
       "  <thead>\n",
       "    <tr style=\"text-align: right;\">\n",
       "      <th></th>\n",
       "      <th>Nro</th>\n",
       "      <th>Rahaston nimi</th>\n",
       "      <th>5 vuoden tuotto (% vuodessa)</th>\n",
       "      <th>3 vuoden tuotto (% vuodessa)</th>\n",
       "      <th>1 vuoden tuotto</th>\n",
       "      <th>6 kuukauden tuotto</th>\n",
       "      <th>Hallinn. ja säilytyspalkkio (% vuodessa)</th>\n",
       "      <th>Rahastoluokka</th>\n",
       "    </tr>\n",
       "  </thead>\n",
       "  <tbody>\n",
       "    <tr>\n",
       "      <th>0</th>\n",
       "      <td>0</td>\n",
       "      <td>Aktia Capital</td>\n",
       "      <td>0.068614</td>\n",
       "      <td>0.049454</td>\n",
       "      <td>-0.023369</td>\n",
       "      <td>0.055161</td>\n",
       "      <td>0.0183</td>\n",
       "      <td>EQ_FINLAND</td>\n",
       "    </tr>\n",
       "    <tr>\n",
       "      <th>1</th>\n",
       "      <td>1</td>\n",
       "      <td>Danske Invest Suomen Parhaat K</td>\n",
       "      <td>0.073917</td>\n",
       "      <td>0.049520</td>\n",
       "      <td>-0.041219</td>\n",
       "      <td>0.001481</td>\n",
       "      <td>0.0150</td>\n",
       "      <td>EQ_FINLAND</td>\n",
       "    </tr>\n",
       "    <tr>\n",
       "      <th>2</th>\n",
       "      <td>2</td>\n",
       "      <td>Danske Invest Suomen Pienyhtiöt K</td>\n",
       "      <td>0.083878</td>\n",
       "      <td>0.052164</td>\n",
       "      <td>-0.029582</td>\n",
       "      <td>0.087820</td>\n",
       "      <td>0.0130</td>\n",
       "      <td>EQ_FINLAND</td>\n",
       "    </tr>\n",
       "    <tr>\n",
       "      <th>3</th>\n",
       "      <td>3</td>\n",
       "      <td>Danske Invest Suomi Osake</td>\n",
       "      <td>0.067301</td>\n",
       "      <td>0.054706</td>\n",
       "      <td>-0.046504</td>\n",
       "      <td>0.028249</td>\n",
       "      <td>0.0190</td>\n",
       "      <td>EQ_FINLAND</td>\n",
       "    </tr>\n",
       "    <tr>\n",
       "      <th>4</th>\n",
       "      <td>4</td>\n",
       "      <td>Danske Invest Suomi Osinko Plus  K</td>\n",
       "      <td>0.082861</td>\n",
       "      <td>0.074205</td>\n",
       "      <td>-0.065948</td>\n",
       "      <td>0.002309</td>\n",
       "      <td>0.0150</td>\n",
       "      <td>EQ_FINLAND</td>\n",
       "    </tr>\n",
       "  </tbody>\n",
       "</table>\n",
       "</div>"
      ],
      "text/plain": [
       "   Nro                       Rahaston nimi  5 vuoden tuotto (% vuodessa)  \\\n",
       "0    0                       Aktia Capital                      0.068614   \n",
       "1    1      Danske Invest Suomen Parhaat K                      0.073917   \n",
       "2    2   Danske Invest Suomen Pienyhtiöt K                      0.083878   \n",
       "3    3           Danske Invest Suomi Osake                      0.067301   \n",
       "4    4  Danske Invest Suomi Osinko Plus  K                      0.082861   \n",
       "\n",
       "   3 vuoden tuotto (% vuodessa)  1 vuoden tuotto  6 kuukauden tuotto  \\\n",
       "0                      0.049454        -0.023369            0.055161   \n",
       "1                      0.049520        -0.041219            0.001481   \n",
       "2                      0.052164        -0.029582            0.087820   \n",
       "3                      0.054706        -0.046504            0.028249   \n",
       "4                      0.074205        -0.065948            0.002309   \n",
       "\n",
       "   Hallinn. ja säilytyspalkkio (% vuodessa) Rahastoluokka  \n",
       "0                                    0.0183    EQ_FINLAND  \n",
       "1                                    0.0150    EQ_FINLAND  \n",
       "2                                    0.0130    EQ_FINLAND  \n",
       "3                                    0.0190    EQ_FINLAND  \n",
       "4                                    0.0150    EQ_FINLAND  "
      ]
     },
     "execution_count": 1,
     "metadata": {},
     "output_type": "execute_result"
    }
   ],
   "source": [
    "# Kirjastojen tuonti\n",
    "import pandas as pd\n",
    "import matplotlib.pyplot as plt\n",
    "import seaborn as sns\n",
    "%matplotlib inline\n",
    "\n",
    "# Kaavioiden tyylimäärittely\n",
    "plt.style.use('seaborn-whitegrid')\n",
    "\n",
    "# Datan avaaminen\n",
    "df=pd.read_excel('http://myy.haaga-helia.fi/~taaak/a/t2aineisto.xlsx')\n",
    "df.head()"
   ]
  },
  {
   "cell_type": "code",
   "execution_count": 2,
   "metadata": {},
   "outputs": [],
   "source": [
    "# Lyhyemmät nimet muuttujille\n",
    "df.columns=['nro', 'nimi', 'tuotto 5v', 'tuotto 3v', 'tuotto 1v', 'tuotto 6kk', 'palkkio', 'rahastoluokka']"
   ]
  },
  {
   "cell_type": "code",
   "execution_count": 3,
   "metadata": {},
   "outputs": [
    {
     "data": {
      "text/html": [
       "<div>\n",
       "<style scoped>\n",
       "    .dataframe tbody tr th:only-of-type {\n",
       "        vertical-align: middle;\n",
       "    }\n",
       "\n",
       "    .dataframe tbody tr th {\n",
       "        vertical-align: top;\n",
       "    }\n",
       "\n",
       "    .dataframe thead th {\n",
       "        text-align: right;\n",
       "    }\n",
       "</style>\n",
       "<table border=\"1\" class=\"dataframe\">\n",
       "  <thead>\n",
       "    <tr style=\"text-align: right;\">\n",
       "      <th></th>\n",
       "      <th>rahastoluokka</th>\n",
       "      <th>EQ_EMER_GLOBAL</th>\n",
       "      <th>EQ_EUROPE</th>\n",
       "      <th>EQ_FINLAND</th>\n",
       "      <th>EQ_NORAM</th>\n",
       "    </tr>\n",
       "  </thead>\n",
       "  <tbody>\n",
       "    <tr>\n",
       "      <th rowspan=\"8\" valign=\"top\">tuotto 5v</th>\n",
       "      <th>count</th>\n",
       "      <td>54.000000</td>\n",
       "      <td>99.000000</td>\n",
       "      <td>35.000000</td>\n",
       "      <td>59.000000</td>\n",
       "    </tr>\n",
       "    <tr>\n",
       "      <th>mean</th>\n",
       "      <td>0.050321</td>\n",
       "      <td>0.059431</td>\n",
       "      <td>0.083936</td>\n",
       "      <td>0.124061</td>\n",
       "    </tr>\n",
       "    <tr>\n",
       "      <th>std</th>\n",
       "      <td>0.019579</td>\n",
       "      <td>0.024113</td>\n",
       "      <td>0.019245</td>\n",
       "      <td>0.036321</td>\n",
       "    </tr>\n",
       "    <tr>\n",
       "      <th>min</th>\n",
       "      <td>0.013379</td>\n",
       "      <td>0.012114</td>\n",
       "      <td>0.052036</td>\n",
       "      <td>0.021526</td>\n",
       "    </tr>\n",
       "    <tr>\n",
       "      <th>25%</th>\n",
       "      <td>0.037955</td>\n",
       "      <td>0.043670</td>\n",
       "      <td>0.070707</td>\n",
       "      <td>0.105189</td>\n",
       "    </tr>\n",
       "    <tr>\n",
       "      <th>50%</th>\n",
       "      <td>0.049853</td>\n",
       "      <td>0.053649</td>\n",
       "      <td>0.081450</td>\n",
       "      <td>0.127536</td>\n",
       "    </tr>\n",
       "    <tr>\n",
       "      <th>75%</th>\n",
       "      <td>0.068355</td>\n",
       "      <td>0.072128</td>\n",
       "      <td>0.090515</td>\n",
       "      <td>0.140868</td>\n",
       "    </tr>\n",
       "    <tr>\n",
       "      <th>max</th>\n",
       "      <td>0.088579</td>\n",
       "      <td>0.136334</td>\n",
       "      <td>0.144963</td>\n",
       "      <td>0.215002</td>\n",
       "    </tr>\n",
       "    <tr>\n",
       "      <th rowspan=\"8\" valign=\"top\">tuotto 3v</th>\n",
       "      <th>count</th>\n",
       "      <td>60.000000</td>\n",
       "      <td>116.000000</td>\n",
       "      <td>35.000000</td>\n",
       "      <td>61.000000</td>\n",
       "    </tr>\n",
       "    <tr>\n",
       "      <th>mean</th>\n",
       "      <td>0.065246</td>\n",
       "      <td>0.063080</td>\n",
       "      <td>0.066481</td>\n",
       "      <td>0.111858</td>\n",
       "    </tr>\n",
       "    <tr>\n",
       "      <th>std</th>\n",
       "      <td>0.033474</td>\n",
       "      <td>0.025258</td>\n",
       "      <td>0.019537</td>\n",
       "      <td>0.041211</td>\n",
       "    </tr>\n",
       "    <tr>\n",
       "      <th>min</th>\n",
       "      <td>-0.001416</td>\n",
       "      <td>0.000268</td>\n",
       "      <td>0.024694</td>\n",
       "      <td>0.016681</td>\n",
       "    </tr>\n",
       "    <tr>\n",
       "      <th>25%</th>\n",
       "      <td>0.037240</td>\n",
       "      <td>0.044020</td>\n",
       "      <td>0.049855</td>\n",
       "      <td>0.085264</td>\n",
       "    </tr>\n",
       "    <tr>\n",
       "      <th>50%</th>\n",
       "      <td>0.063975</td>\n",
       "      <td>0.066392</td>\n",
       "      <td>0.068571</td>\n",
       "      <td>0.111511</td>\n",
       "    </tr>\n",
       "    <tr>\n",
       "      <th>75%</th>\n",
       "      <td>0.085109</td>\n",
       "      <td>0.076330</td>\n",
       "      <td>0.083021</td>\n",
       "      <td>0.134516</td>\n",
       "    </tr>\n",
       "    <tr>\n",
       "      <th>max</th>\n",
       "      <td>0.161082</td>\n",
       "      <td>0.134010</td>\n",
       "      <td>0.104501</td>\n",
       "      <td>0.209429</td>\n",
       "    </tr>\n",
       "    <tr>\n",
       "      <th rowspan=\"8\" valign=\"top\">tuotto 1v</th>\n",
       "      <th>count</th>\n",
       "      <td>69.000000</td>\n",
       "      <td>132.000000</td>\n",
       "      <td>45.000000</td>\n",
       "      <td>72.000000</td>\n",
       "    </tr>\n",
       "    <tr>\n",
       "      <th>mean</th>\n",
       "      <td>0.050717</td>\n",
       "      <td>-0.016233</td>\n",
       "      <td>-0.023327</td>\n",
       "      <td>0.101775</td>\n",
       "    </tr>\n",
       "    <tr>\n",
       "      <th>std</th>\n",
       "      <td>0.053464</td>\n",
       "      <td>0.055581</td>\n",
       "      <td>0.040693</td>\n",
       "      <td>0.065524</td>\n",
       "    </tr>\n",
       "    <tr>\n",
       "      <th>min</th>\n",
       "      <td>-0.064842</td>\n",
       "      <td>-0.190671</td>\n",
       "      <td>-0.092637</td>\n",
       "      <td>-0.143285</td>\n",
       "    </tr>\n",
       "    <tr>\n",
       "      <th>25%</th>\n",
       "      <td>0.024701</td>\n",
       "      <td>-0.052797</td>\n",
       "      <td>-0.041921</td>\n",
       "      <td>0.076456</td>\n",
       "    </tr>\n",
       "    <tr>\n",
       "      <th>50%</th>\n",
       "      <td>0.052977</td>\n",
       "      <td>-0.008090</td>\n",
       "      <td>-0.027831</td>\n",
       "      <td>0.109760</td>\n",
       "    </tr>\n",
       "    <tr>\n",
       "      <th>75%</th>\n",
       "      <td>0.075644</td>\n",
       "      <td>0.014223</td>\n",
       "      <td>-0.014397</td>\n",
       "      <td>0.134582</td>\n",
       "    </tr>\n",
       "    <tr>\n",
       "      <th>max</th>\n",
       "      <td>0.234533</td>\n",
       "      <td>0.157397</td>\n",
       "      <td>0.086818</td>\n",
       "      <td>0.244189</td>\n",
       "    </tr>\n",
       "    <tr>\n",
       "      <th rowspan=\"8\" valign=\"top\">tuotto 6kk</th>\n",
       "      <th>count</th>\n",
       "      <td>72.000000</td>\n",
       "      <td>137.000000</td>\n",
       "      <td>45.000000</td>\n",
       "      <td>74.000000</td>\n",
       "    </tr>\n",
       "    <tr>\n",
       "      <th>mean</th>\n",
       "      <td>0.067378</td>\n",
       "      <td>0.088385</td>\n",
       "      <td>0.046186</td>\n",
       "      <td>0.139767</td>\n",
       "    </tr>\n",
       "    <tr>\n",
       "      <th>std</th>\n",
       "      <td>0.039127</td>\n",
       "      <td>0.047197</td>\n",
       "      <td>0.032296</td>\n",
       "      <td>0.045372</td>\n",
       "    </tr>\n",
       "    <tr>\n",
       "      <th>min</th>\n",
       "      <td>-0.056049</td>\n",
       "      <td>-0.020918</td>\n",
       "      <td>-0.003631</td>\n",
       "      <td>-0.011460</td>\n",
       "    </tr>\n",
       "    <tr>\n",
       "      <th>25%</th>\n",
       "      <td>0.050962</td>\n",
       "      <td>0.058114</td>\n",
       "      <td>0.028409</td>\n",
       "      <td>0.117298</td>\n",
       "    </tr>\n",
       "    <tr>\n",
       "      <th>50%</th>\n",
       "      <td>0.065901</td>\n",
       "      <td>0.089834</td>\n",
       "      <td>0.037841</td>\n",
       "      <td>0.143867</td>\n",
       "    </tr>\n",
       "    <tr>\n",
       "      <th>75%</th>\n",
       "      <td>0.087723</td>\n",
       "      <td>0.112759</td>\n",
       "      <td>0.055070</td>\n",
       "      <td>0.165562</td>\n",
       "    </tr>\n",
       "    <tr>\n",
       "      <th>max</th>\n",
       "      <td>0.183478</td>\n",
       "      <td>0.250450</td>\n",
       "      <td>0.161246</td>\n",
       "      <td>0.252861</td>\n",
       "    </tr>\n",
       "    <tr>\n",
       "      <th rowspan=\"8\" valign=\"top\">palkkio</th>\n",
       "      <th>count</th>\n",
       "      <td>72.000000</td>\n",
       "      <td>141.000000</td>\n",
       "      <td>45.000000</td>\n",
       "      <td>74.000000</td>\n",
       "    </tr>\n",
       "    <tr>\n",
       "      <th>mean</th>\n",
       "      <td>0.015214</td>\n",
       "      <td>0.012126</td>\n",
       "      <td>0.012755</td>\n",
       "      <td>0.012659</td>\n",
       "    </tr>\n",
       "    <tr>\n",
       "      <th>std</th>\n",
       "      <td>0.005991</td>\n",
       "      <td>0.005438</td>\n",
       "      <td>0.005957</td>\n",
       "      <td>0.005746</td>\n",
       "    </tr>\n",
       "    <tr>\n",
       "      <th>min</th>\n",
       "      <td>0.002000</td>\n",
       "      <td>0.000000</td>\n",
       "      <td>0.001590</td>\n",
       "      <td>0.000000</td>\n",
       "    </tr>\n",
       "    <tr>\n",
       "      <th>25%</th>\n",
       "      <td>0.010000</td>\n",
       "      <td>0.008000</td>\n",
       "      <td>0.007800</td>\n",
       "      <td>0.007625</td>\n",
       "    </tr>\n",
       "    <tr>\n",
       "      <th>50%</th>\n",
       "      <td>0.016000</td>\n",
       "      <td>0.012000</td>\n",
       "      <td>0.015000</td>\n",
       "      <td>0.015000</td>\n",
       "    </tr>\n",
       "    <tr>\n",
       "      <th>75%</th>\n",
       "      <td>0.019000</td>\n",
       "      <td>0.017500</td>\n",
       "      <td>0.018000</td>\n",
       "      <td>0.018000</td>\n",
       "    </tr>\n",
       "    <tr>\n",
       "      <th>max</th>\n",
       "      <td>0.025000</td>\n",
       "      <td>0.020000</td>\n",
       "      <td>0.020000</td>\n",
       "      <td>0.022000</td>\n",
       "    </tr>\n",
       "  </tbody>\n",
       "</table>\n",
       "</div>"
      ],
      "text/plain": [
       "rahastoluokka     EQ_EMER_GLOBAL   EQ_EUROPE  EQ_FINLAND   EQ_NORAM\n",
       "tuotto 5v  count       54.000000   99.000000   35.000000  59.000000\n",
       "           mean         0.050321    0.059431    0.083936   0.124061\n",
       "           std          0.019579    0.024113    0.019245   0.036321\n",
       "           min          0.013379    0.012114    0.052036   0.021526\n",
       "           25%          0.037955    0.043670    0.070707   0.105189\n",
       "           50%          0.049853    0.053649    0.081450   0.127536\n",
       "           75%          0.068355    0.072128    0.090515   0.140868\n",
       "           max          0.088579    0.136334    0.144963   0.215002\n",
       "tuotto 3v  count       60.000000  116.000000   35.000000  61.000000\n",
       "           mean         0.065246    0.063080    0.066481   0.111858\n",
       "           std          0.033474    0.025258    0.019537   0.041211\n",
       "           min         -0.001416    0.000268    0.024694   0.016681\n",
       "           25%          0.037240    0.044020    0.049855   0.085264\n",
       "           50%          0.063975    0.066392    0.068571   0.111511\n",
       "           75%          0.085109    0.076330    0.083021   0.134516\n",
       "           max          0.161082    0.134010    0.104501   0.209429\n",
       "tuotto 1v  count       69.000000  132.000000   45.000000  72.000000\n",
       "           mean         0.050717   -0.016233   -0.023327   0.101775\n",
       "           std          0.053464    0.055581    0.040693   0.065524\n",
       "           min         -0.064842   -0.190671   -0.092637  -0.143285\n",
       "           25%          0.024701   -0.052797   -0.041921   0.076456\n",
       "           50%          0.052977   -0.008090   -0.027831   0.109760\n",
       "           75%          0.075644    0.014223   -0.014397   0.134582\n",
       "           max          0.234533    0.157397    0.086818   0.244189\n",
       "tuotto 6kk count       72.000000  137.000000   45.000000  74.000000\n",
       "           mean         0.067378    0.088385    0.046186   0.139767\n",
       "           std          0.039127    0.047197    0.032296   0.045372\n",
       "           min         -0.056049   -0.020918   -0.003631  -0.011460\n",
       "           25%          0.050962    0.058114    0.028409   0.117298\n",
       "           50%          0.065901    0.089834    0.037841   0.143867\n",
       "           75%          0.087723    0.112759    0.055070   0.165562\n",
       "           max          0.183478    0.250450    0.161246   0.252861\n",
       "palkkio    count       72.000000  141.000000   45.000000  74.000000\n",
       "           mean         0.015214    0.012126    0.012755   0.012659\n",
       "           std          0.005991    0.005438    0.005957   0.005746\n",
       "           min          0.002000    0.000000    0.001590   0.000000\n",
       "           25%          0.010000    0.008000    0.007800   0.007625\n",
       "           50%          0.016000    0.012000    0.015000   0.015000\n",
       "           75%          0.019000    0.017500    0.018000   0.018000\n",
       "           max          0.025000    0.020000    0.020000   0.022000"
      ]
     },
     "execution_count": 3,
     "metadata": {},
     "output_type": "execute_result"
    }
   ],
   "source": [
    "#Tilastolliset tunnusluvut rahastoluokittain\n",
    "df.drop('nro', axis=1).groupby('rahastoluokka').describe().T"
   ]
  },
  {
   "cell_type": "code",
   "execution_count": 4,
   "metadata": {},
   "outputs": [
    {
     "data": {
      "text/plain": [
       "<matplotlib.axes._subplots.AxesSubplot at 0x26d57994080>"
      ]
     },
     "execution_count": 4,
     "metadata": {},
     "output_type": "execute_result"
    },
    {
     "data": {
      "image/png": "[encoded data removed]",
      "text/plain": [
       "<Figure size 432x288 with 1 Axes>"
      ]
     },
     "metadata": {
      "needs_background": "light"
     },
     "output_type": "display_data"
    }
   ],
   "source": [
    "sns.boxplot(x='rahastoluokka', y='tuotto 5v', data=df)"
   ]
  },
  {
   "cell_type": "code",
   "execution_count": 5,
   "metadata": {},
   "outputs": [
    {
     "data": {
      "text/plain": [
       "<matplotlib.axes._subplots.AxesSubplot at 0x26d5b7245f8>"
      ]
     },
     "execution_count": 5,
     "metadata": {},
     "output_type": "execute_result"
    },
    {
     "data": {
      "image/png": "[encoded data removed]",
      "text/plain": [
       "<Figure size 432x288 with 1 Axes>"
      ]
     },
     "metadata": {
      "needs_background": "light"
     },
     "output_type": "display_data"
    }
   ],
   "source": [
    "sns.boxplot(x='rahastoluokka', y='tuotto 3v', data=df)"
   ]
  },
  {
   "cell_type": "code",
   "execution_count": 6,
   "metadata": {},
   "outputs": [
    {
     "data": {
      "text/plain": [
       "<matplotlib.axes._subplots.AxesSubplot at 0x26d5b7db128>"
      ]
     },
     "execution_count": 6,
     "metadata": {},
     "output_type": "execute_result"
    },
    {
     "data": {
      "image/png": "[encoded data removed]",
      "text/plain": [
       "<Figure size 432x288 with 1 Axes>"
      ]
     },
     "metadata": {
      "needs_background": "light"
     },
     "output_type": "display_data"
    }
   ],
   "source": [
    "sns.boxplot(x='rahastoluokka', y='tuotto 1v', data=df)"
   ]
  },
  {
   "cell_type": "code",
   "execution_count": 7,
   "metadata": {},
   "outputs": [
    {
     "data": {
      "text/plain": [
       "<matplotlib.axes._subplots.AxesSubplot at 0x26d5b8375f8>"
      ]
     },
     "execution_count": 7,
     "metadata": {},
     "output_type": "execute_result"
    },
    {
     "data": {
      "image/png": "[encoded data removed]",
      "text/plain": [
       "<Figure size 432x288 with 1 Axes>"
      ]
     },
     "metadata": {
      "needs_background": "light"
     },
     "output_type": "display_data"
    }
   ],
   "source": [
    "sns.boxplot(x='rahastoluokka', y='tuotto 6kk', data=df)"
   ]
  },
  {
   "cell_type": "code",
   "execution_count": 8,
   "metadata": {},
   "outputs": [
    {
     "data": {
      "text/plain": [
       "<matplotlib.axes._subplots.AxesSubplot at 0x26d5b8c6be0>"
      ]
     },
     "execution_count": 8,
     "metadata": {},
     "output_type": "execute_result"
    },
    {
     "data": {
      "image/png": "[encoded data removed]",
      "text/plain": [
       "<Figure size 432x288 with 1 Axes>"
      ]
     },
     "metadata": {
      "needs_background": "light"
     },
     "output_type": "display_data"
    }
   ],
   "source": [
    "sns.boxplot(x='rahastoluokka', y='palkkio', data=df)"
   ]
  },
  {
   "cell_type": "code",
   "execution_count": 9,
   "metadata": {},
   "outputs": [
    {
     "name": "stdout",
     "output_type": "stream",
     "text": [
      "EQ_FINLAND korrelaatio -0.100, p-arvo 0.515\n",
      "EQ_EUROPE korrelaatio -0.232, p-arvo 0.008\n",
      "EQ_NORAM korrelaatio -0.271, p-arvo 0.021\n",
      "EQ_EMER_GLOBAL korrelaatio 0.154, p-arvo 0.205\n"
     ]
    }
   ],
   "source": [
    "# pearsonr-funktion tuonti scipy.stats-kirjastosta\n",
    "from scipy.stats import pearsonr\n",
    "\n",
    "# Korrelaatiokertoimet ja p-arvot 1v tuoton ja palkkion välille rahastoluokittain\n",
    "for luokka in pd.unique(df['rahastoluokka']):\n",
    "    df_dropna = df[df['rahastoluokka']==luokka].dropna(subset=['tuotto 1v', 'palkkio'])\n",
    "    corr, p = pearsonr(df_dropna['tuotto 1v'], df_dropna['palkkio'])\n",
    "    print(luokka, 'korrelaatio %.3f,' %corr, 'p-arvo %.3f' %p)"
   ]
  },
  {
   "cell_type": "code",
   "execution_count": 10,
   "metadata": {},
   "outputs": [
    {
     "data": {
      "image/png": "[encoded data removed]",
      "text/plain": [
       "<Figure size 864x216 with 4 Axes>"
      ]
     },
     "metadata": {
      "needs_background": "light"
     },
     "output_type": "display_data"
    }
   ],
   "source": [
    "# 1v tuotot ja palkkiot pistekaavioina rahastoluokittain\n",
    "g = sns.FacetGrid(data=df, col='rahastoluokka')\n",
    "g = g.map(plt.scatter, 'palkkio', 'tuotto 1v')"
   ]
  }
 ],
 "metadata": {
  "kernelspec": {
   "display_name": "Python 3",
   "language": "python",
   "name": "python3"
  },
  "language_info": {
   "codemirror_mode": {
    "name": "ipython",
    "version": 3
   },
   "file_extension": ".py",
   "mimetype": "text/x-python",
   "name": "python",
   "nbconvert_exporter": "python",
   "pygments_lexer": "ipython3",
   "version": "3.7.2"
  }
 },
 "nbformat": 4,
 "nbformat_minor": 2
}
