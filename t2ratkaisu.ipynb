{
 "cells": [
  {
   "cell_type": "markdown",
   "metadata": {},
   "source": [
    "### Analyysejä analysointiosaamisen tehtävään 2"
   ]
  },
  {
   "cell_type": "code",
   "execution_count": 1,
   "metadata": {
    "scrolled": true
   },
   "outputs": [
    {
     "data": {
      "text/html": [
       "<div>\n",
       "<style scoped>\n",
       "    .dataframe tbody tr th:only-of-type {\n",
       "        vertical-align: middle;\n",
       "    }\n",
       "\n",
       "    .dataframe tbody tr th {\n",
       "        vertical-align: top;\n",
       "    }\n",
       "\n",
       "    .dataframe thead th {\n",
       "        text-align: right;\n",
       "    }\n",
       "</style>\n",
       "<table border=\"1\" class=\"dataframe\">\n",
       "  <thead>\n",
       "    <tr style=\"text-align: right;\">\n",
       "      <th></th>\n",
       "      <th>Nro</th>\n",
       "      <th>Rahaston nimi</th>\n",
       "      <th>5 vuoden tuotto (% vuodessa)</th>\n",
       "      <th>3 vuoden tuotto (% vuodessa)</th>\n",
       "      <th>1 vuoden tuotto</th>\n",
       "      <th>6 kuukauden tuotto</th>\n",
       "      <th>Hallinn. ja säilytyspalkkio (% vuodessa)</th>\n",
       "      <th>Rahastoluokka</th>\n",
       "    </tr>\n",
       "  </thead>\n",
       "  <tbody>\n",
       "    <tr>\n",
       "      <th>0</th>\n",
       "      <td>222</td>\n",
       "      <td>Aktia Emerging Market Equity Select</td>\n",
       "      <td>0.093034</td>\n",
       "      <td>0.107643</td>\n",
       "      <td>0.008703</td>\n",
       "      <td>-0.064983</td>\n",
       "      <td>0.0130</td>\n",
       "      <td>EQ_EMER_GLOBAL</td>\n",
       "    </tr>\n",
       "    <tr>\n",
       "      <th>1</th>\n",
       "      <td>223</td>\n",
       "      <td>Alexandria Kehittyvät Markkinat Osinko</td>\n",
       "      <td>0.064957</td>\n",
       "      <td>0.094749</td>\n",
       "      <td>0.047500</td>\n",
       "      <td>-0.048491</td>\n",
       "      <td>0.0100</td>\n",
       "      <td>EQ_EMER_GLOBAL</td>\n",
       "    </tr>\n",
       "    <tr>\n",
       "      <th>2</th>\n",
       "      <td>224</td>\n",
       "      <td>Danske Invest Global Emerging Markets, EUR</td>\n",
       "      <td>0.061523</td>\n",
       "      <td>0.116151</td>\n",
       "      <td>-0.000703</td>\n",
       "      <td>-0.092534</td>\n",
       "      <td>0.0192</td>\n",
       "      <td>EQ_EMER_GLOBAL</td>\n",
       "    </tr>\n",
       "    <tr>\n",
       "      <th>3</th>\n",
       "      <td>225</td>\n",
       "      <td>Danske Invest Kehitt. Osakemarkkinat</td>\n",
       "      <td>0.063977</td>\n",
       "      <td>0.091641</td>\n",
       "      <td>0.012923</td>\n",
       "      <td>-0.071588</td>\n",
       "      <td>0.0050</td>\n",
       "      <td>EQ_EMER_GLOBAL</td>\n",
       "    </tr>\n",
       "    <tr>\n",
       "      <th>4</th>\n",
       "      <td>226</td>\n",
       "      <td>Danske Invest SICAV Global Emerging Markets Cl...</td>\n",
       "      <td>NaN</td>\n",
       "      <td>NaN</td>\n",
       "      <td>NaN</td>\n",
       "      <td>NaN</td>\n",
       "      <td>0.0163</td>\n",
       "      <td>EQ_EMER_GLOBAL</td>\n",
       "    </tr>\n",
       "  </tbody>\n",
       "</table>\n",
       "</div>"
      ],
      "text/plain": [
       "   Nro                                      Rahaston nimi  \\\n",
       "0  222                Aktia Emerging Market Equity Select   \n",
       "1  223             Alexandria Kehittyvät Markkinat Osinko   \n",
       "2  224         Danske Invest Global Emerging Markets, EUR   \n",
       "3  225               Danske Invest Kehitt. Osakemarkkinat   \n",
       "4  226  Danske Invest SICAV Global Emerging Markets Cl...   \n",
       "\n",
       "   5 vuoden tuotto (% vuodessa)  3 vuoden tuotto (% vuodessa)  \\\n",
       "0                      0.093034                      0.107643   \n",
       "1                      0.064957                      0.094749   \n",
       "2                      0.061523                      0.116151   \n",
       "3                      0.063977                      0.091641   \n",
       "4                           NaN                           NaN   \n",
       "\n",
       "   1 vuoden tuotto  6 kuukauden tuotto  \\\n",
       "0         0.008703           -0.064983   \n",
       "1         0.047500           -0.048491   \n",
       "2        -0.000703           -0.092534   \n",
       "3         0.012923           -0.071588   \n",
       "4              NaN                 NaN   \n",
       "\n",
       "   Hallinn. ja säilytyspalkkio (% vuodessa)   Rahastoluokka  \n",
       "0                                    0.0130  EQ_EMER_GLOBAL  \n",
       "1                                    0.0100  EQ_EMER_GLOBAL  \n",
       "2                                    0.0192  EQ_EMER_GLOBAL  \n",
       "3                                    0.0050  EQ_EMER_GLOBAL  \n",
       "4                                    0.0163  EQ_EMER_GLOBAL  "
      ]
     },
     "execution_count": 1,
     "metadata": {},
     "output_type": "execute_result"
    }
   ],
   "source": [
    "# Kirjastojen tuonti\n",
    "import pandas as pd\n",
    "import matplotlib.pyplot as plt\n",
    "import seaborn as sns\n",
    "\n",
    "# Kaavioiden tyylimäärittely\n",
    "plt.style.use('seaborn-whitegrid')\n",
    "\n",
    "# Datan avaaminen\n",
    "df=pd.read_excel('https://taanila.fi/t2aineisto.xlsx')\n",
    "df.head()"
   ]
  },
  {
   "cell_type": "code",
   "execution_count": 2,
   "metadata": {},
   "outputs": [],
   "source": [
    "# Lyhyemmät nimet muuttujille\n",
    "df = df.drop(['Nro'], axis = 1)\n",
    "df.columns=['nimi', 'tuotto 5v', 'tuotto 3v', 'tuotto 1v', 'tuotto 6kk', 'palkkio', 'rahastoluokka']"
   ]
  },
  {
   "cell_type": "code",
   "execution_count": 3,
   "metadata": {},
   "outputs": [
    {
     "data": {
      "text/plain": [
       "EQ_EUROPE         127\n",
       "EQ_NORAM           80\n",
       "EQ_EMER_GLOBAL     62\n",
       "EQ_FINLAND         42\n",
       "Name: rahastoluokka, dtype: int64"
      ]
     },
     "execution_count": 3,
     "metadata": {},
     "output_type": "execute_result"
    }
   ],
   "source": [
    "df['rahastoluokka'].value_counts()"
   ]
  },
  {
   "cell_type": "code",
   "execution_count": 4,
   "metadata": {},
   "outputs": [
    {
     "data": {
      "text/html": [
       "<div>\n",
       "<style scoped>\n",
       "    .dataframe tbody tr th:only-of-type {\n",
       "        vertical-align: middle;\n",
       "    }\n",
       "\n",
       "    .dataframe tbody tr th {\n",
       "        vertical-align: top;\n",
       "    }\n",
       "\n",
       "    .dataframe thead th {\n",
       "        text-align: right;\n",
       "    }\n",
       "</style>\n",
       "<table border=\"1\" class=\"dataframe\">\n",
       "  <thead>\n",
       "    <tr style=\"text-align: right;\">\n",
       "      <th></th>\n",
       "      <th>rahastoluokka</th>\n",
       "      <th>EQ_EMER_GLOBAL</th>\n",
       "      <th>EQ_EUROPE</th>\n",
       "      <th>EQ_FINLAND</th>\n",
       "      <th>EQ_NORAM</th>\n",
       "    </tr>\n",
       "  </thead>\n",
       "  <tbody>\n",
       "    <tr>\n",
       "      <th rowspan=\"8\" valign=\"top\">tuotto 5v</th>\n",
       "      <th>count</th>\n",
       "      <td>49.000000</td>\n",
       "      <td>94.000000</td>\n",
       "      <td>29.000000</td>\n",
       "      <td>61.000000</td>\n",
       "    </tr>\n",
       "    <tr>\n",
       "      <th>mean</th>\n",
       "      <td>0.080142</td>\n",
       "      <td>0.091004</td>\n",
       "      <td>0.131805</td>\n",
       "      <td>0.140824</td>\n",
       "    </tr>\n",
       "    <tr>\n",
       "      <th>std</th>\n",
       "      <td>0.028914</td>\n",
       "      <td>0.032111</td>\n",
       "      <td>0.028777</td>\n",
       "      <td>0.047417</td>\n",
       "    </tr>\n",
       "    <tr>\n",
       "      <th>min</th>\n",
       "      <td>0.012438</td>\n",
       "      <td>0.019611</td>\n",
       "      <td>0.100188</td>\n",
       "      <td>0.024572</td>\n",
       "    </tr>\n",
       "    <tr>\n",
       "      <th>25%</th>\n",
       "      <td>0.064957</td>\n",
       "      <td>0.071744</td>\n",
       "      <td>0.113892</td>\n",
       "      <td>0.111180</td>\n",
       "    </tr>\n",
       "    <tr>\n",
       "      <th>50%</th>\n",
       "      <td>0.080395</td>\n",
       "      <td>0.086309</td>\n",
       "      <td>0.126872</td>\n",
       "      <td>0.151414</td>\n",
       "    </tr>\n",
       "    <tr>\n",
       "      <th>75%</th>\n",
       "      <td>0.096487</td>\n",
       "      <td>0.112543</td>\n",
       "      <td>0.139578</td>\n",
       "      <td>0.162807</td>\n",
       "    </tr>\n",
       "    <tr>\n",
       "      <th>max</th>\n",
       "      <td>0.123591</td>\n",
       "      <td>0.176654</td>\n",
       "      <td>0.224830</td>\n",
       "      <td>0.256680</td>\n",
       "    </tr>\n",
       "    <tr>\n",
       "      <th rowspan=\"8\" valign=\"top\">tuotto 3v</th>\n",
       "      <th>count</th>\n",
       "      <td>56.000000</td>\n",
       "      <td>102.000000</td>\n",
       "      <td>36.000000</td>\n",
       "      <td>64.000000</td>\n",
       "    </tr>\n",
       "    <tr>\n",
       "      <th>mean</th>\n",
       "      <td>0.125961</td>\n",
       "      <td>0.168016</td>\n",
       "      <td>0.236988</td>\n",
       "      <td>0.237841</td>\n",
       "    </tr>\n",
       "    <tr>\n",
       "      <th>std</th>\n",
       "      <td>0.044219</td>\n",
       "      <td>0.047800</td>\n",
       "      <td>0.062480</td>\n",
       "      <td>0.055742</td>\n",
       "    </tr>\n",
       "    <tr>\n",
       "      <th>min</th>\n",
       "      <td>0.040982</td>\n",
       "      <td>0.049709</td>\n",
       "      <td>0.183592</td>\n",
       "      <td>0.100948</td>\n",
       "    </tr>\n",
       "    <tr>\n",
       "      <th>25%</th>\n",
       "      <td>0.102336</td>\n",
       "      <td>0.142066</td>\n",
       "      <td>0.189185</td>\n",
       "      <td>0.198277</td>\n",
       "    </tr>\n",
       "    <tr>\n",
       "      <th>50%</th>\n",
       "      <td>0.120005</td>\n",
       "      <td>0.156888</td>\n",
       "      <td>0.208887</td>\n",
       "      <td>0.253485</td>\n",
       "    </tr>\n",
       "    <tr>\n",
       "      <th>75%</th>\n",
       "      <td>0.150326</td>\n",
       "      <td>0.196001</td>\n",
       "      <td>0.254142</td>\n",
       "      <td>0.269428</td>\n",
       "    </tr>\n",
       "    <tr>\n",
       "      <th>max</th>\n",
       "      <td>0.259487</td>\n",
       "      <td>0.295889</td>\n",
       "      <td>0.399760</td>\n",
       "      <td>0.362627</td>\n",
       "    </tr>\n",
       "    <tr>\n",
       "      <th rowspan=\"8\" valign=\"top\">tuotto 1v</th>\n",
       "      <th>count</th>\n",
       "      <td>58.000000</td>\n",
       "      <td>120.000000</td>\n",
       "      <td>39.000000</td>\n",
       "      <td>75.000000</td>\n",
       "    </tr>\n",
       "    <tr>\n",
       "      <th>mean</th>\n",
       "      <td>0.081725</td>\n",
       "      <td>0.236817</td>\n",
       "      <td>0.244176</td>\n",
       "      <td>0.333917</td>\n",
       "    </tr>\n",
       "    <tr>\n",
       "      <th>std</th>\n",
       "      <td>0.108519</td>\n",
       "      <td>0.066610</td>\n",
       "      <td>0.044763</td>\n",
       "      <td>0.072507</td>\n",
       "    </tr>\n",
       "    <tr>\n",
       "      <th>min</th>\n",
       "      <td>-0.112432</td>\n",
       "      <td>0.015477</td>\n",
       "      <td>0.165341</td>\n",
       "      <td>0.010013</td>\n",
       "    </tr>\n",
       "    <tr>\n",
       "      <th>25%</th>\n",
       "      <td>0.009103</td>\n",
       "      <td>0.205462</td>\n",
       "      <td>0.222374</td>\n",
       "      <td>0.316814</td>\n",
       "    </tr>\n",
       "    <tr>\n",
       "      <th>50%</th>\n",
       "      <td>0.045362</td>\n",
       "      <td>0.246955</td>\n",
       "      <td>0.234573</td>\n",
       "      <td>0.358098</td>\n",
       "    </tr>\n",
       "    <tr>\n",
       "      <th>75%</th>\n",
       "      <td>0.152396</td>\n",
       "      <td>0.270655</td>\n",
       "      <td>0.269064</td>\n",
       "      <td>0.380166</td>\n",
       "    </tr>\n",
       "    <tr>\n",
       "      <th>max</th>\n",
       "      <td>0.382945</td>\n",
       "      <td>0.443677</td>\n",
       "      <td>0.359879</td>\n",
       "      <td>0.408627</td>\n",
       "    </tr>\n",
       "    <tr>\n",
       "      <th rowspan=\"8\" valign=\"top\">tuotto 6kk</th>\n",
       "      <th>count</th>\n",
       "      <td>60.000000</td>\n",
       "      <td>120.000000</td>\n",
       "      <td>39.000000</td>\n",
       "      <td>75.000000</td>\n",
       "    </tr>\n",
       "    <tr>\n",
       "      <th>mean</th>\n",
       "      <td>-0.042391</td>\n",
       "      <td>0.074256</td>\n",
       "      <td>0.042092</td>\n",
       "      <td>0.130787</td>\n",
       "    </tr>\n",
       "    <tr>\n",
       "      <th>std</th>\n",
       "      <td>0.066728</td>\n",
       "      <td>0.032295</td>\n",
       "      <td>0.031026</td>\n",
       "      <td>0.044232</td>\n",
       "    </tr>\n",
       "    <tr>\n",
       "      <th>min</th>\n",
       "      <td>-0.158738</td>\n",
       "      <td>-0.036867</td>\n",
       "      <td>-0.040041</td>\n",
       "      <td>-0.024170</td>\n",
       "    </tr>\n",
       "    <tr>\n",
       "      <th>25%</th>\n",
       "      <td>-0.084650</td>\n",
       "      <td>0.054387</td>\n",
       "      <td>0.037716</td>\n",
       "      <td>0.119859</td>\n",
       "    </tr>\n",
       "    <tr>\n",
       "      <th>50%</th>\n",
       "      <td>-0.061081</td>\n",
       "      <td>0.078856</td>\n",
       "      <td>0.043148</td>\n",
       "      <td>0.139951</td>\n",
       "    </tr>\n",
       "    <tr>\n",
       "      <th>75%</th>\n",
       "      <td>-0.008703</td>\n",
       "      <td>0.091248</td>\n",
       "      <td>0.053382</td>\n",
       "      <td>0.159536</td>\n",
       "    </tr>\n",
       "    <tr>\n",
       "      <th>max</th>\n",
       "      <td>0.119000</td>\n",
       "      <td>0.201161</td>\n",
       "      <td>0.114659</td>\n",
       "      <td>0.198647</td>\n",
       "    </tr>\n",
       "    <tr>\n",
       "      <th rowspan=\"8\" valign=\"top\">palkkio</th>\n",
       "      <th>count</th>\n",
       "      <td>62.000000</td>\n",
       "      <td>127.000000</td>\n",
       "      <td>42.000000</td>\n",
       "      <td>80.000000</td>\n",
       "    </tr>\n",
       "    <tr>\n",
       "      <th>mean</th>\n",
       "      <td>0.014437</td>\n",
       "      <td>0.011558</td>\n",
       "      <td>0.011599</td>\n",
       "      <td>0.011539</td>\n",
       "    </tr>\n",
       "    <tr>\n",
       "      <th>std</th>\n",
       "      <td>0.006746</td>\n",
       "      <td>0.005762</td>\n",
       "      <td>0.005926</td>\n",
       "      <td>0.006093</td>\n",
       "    </tr>\n",
       "    <tr>\n",
       "      <th>min</th>\n",
       "      <td>0.000000</td>\n",
       "      <td>0.000000</td>\n",
       "      <td>0.001590</td>\n",
       "      <td>0.000000</td>\n",
       "    </tr>\n",
       "    <tr>\n",
       "      <th>25%</th>\n",
       "      <td>0.008125</td>\n",
       "      <td>0.007500</td>\n",
       "      <td>0.006200</td>\n",
       "      <td>0.006000</td>\n",
       "    </tr>\n",
       "    <tr>\n",
       "      <th>50%</th>\n",
       "      <td>0.015000</td>\n",
       "      <td>0.011600</td>\n",
       "      <td>0.012000</td>\n",
       "      <td>0.013500</td>\n",
       "    </tr>\n",
       "    <tr>\n",
       "      <th>75%</th>\n",
       "      <td>0.019000</td>\n",
       "      <td>0.017400</td>\n",
       "      <td>0.016750</td>\n",
       "      <td>0.017625</td>\n",
       "    </tr>\n",
       "    <tr>\n",
       "      <th>max</th>\n",
       "      <td>0.025000</td>\n",
       "      <td>0.020000</td>\n",
       "      <td>0.020000</td>\n",
       "      <td>0.020000</td>\n",
       "    </tr>\n",
       "  </tbody>\n",
       "</table>\n",
       "</div>"
      ],
      "text/plain": [
       "rahastoluokka     EQ_EMER_GLOBAL   EQ_EUROPE  EQ_FINLAND   EQ_NORAM\n",
       "tuotto 5v  count       49.000000   94.000000   29.000000  61.000000\n",
       "           mean         0.080142    0.091004    0.131805   0.140824\n",
       "           std          0.028914    0.032111    0.028777   0.047417\n",
       "           min          0.012438    0.019611    0.100188   0.024572\n",
       "           25%          0.064957    0.071744    0.113892   0.111180\n",
       "           50%          0.080395    0.086309    0.126872   0.151414\n",
       "           75%          0.096487    0.112543    0.139578   0.162807\n",
       "           max          0.123591    0.176654    0.224830   0.256680\n",
       "tuotto 3v  count       56.000000  102.000000   36.000000  64.000000\n",
       "           mean         0.125961    0.168016    0.236988   0.237841\n",
       "           std          0.044219    0.047800    0.062480   0.055742\n",
       "           min          0.040982    0.049709    0.183592   0.100948\n",
       "           25%          0.102336    0.142066    0.189185   0.198277\n",
       "           50%          0.120005    0.156888    0.208887   0.253485\n",
       "           75%          0.150326    0.196001    0.254142   0.269428\n",
       "           max          0.259487    0.295889    0.399760   0.362627\n",
       "tuotto 1v  count       58.000000  120.000000   39.000000  75.000000\n",
       "           mean         0.081725    0.236817    0.244176   0.333917\n",
       "           std          0.108519    0.066610    0.044763   0.072507\n",
       "           min         -0.112432    0.015477    0.165341   0.010013\n",
       "           25%          0.009103    0.205462    0.222374   0.316814\n",
       "           50%          0.045362    0.246955    0.234573   0.358098\n",
       "           75%          0.152396    0.270655    0.269064   0.380166\n",
       "           max          0.382945    0.443677    0.359879   0.408627\n",
       "tuotto 6kk count       60.000000  120.000000   39.000000  75.000000\n",
       "           mean        -0.042391    0.074256    0.042092   0.130787\n",
       "           std          0.066728    0.032295    0.031026   0.044232\n",
       "           min         -0.158738   -0.036867   -0.040041  -0.024170\n",
       "           25%         -0.084650    0.054387    0.037716   0.119859\n",
       "           50%         -0.061081    0.078856    0.043148   0.139951\n",
       "           75%         -0.008703    0.091248    0.053382   0.159536\n",
       "           max          0.119000    0.201161    0.114659   0.198647\n",
       "palkkio    count       62.000000  127.000000   42.000000  80.000000\n",
       "           mean         0.014437    0.011558    0.011599   0.011539\n",
       "           std          0.006746    0.005762    0.005926   0.006093\n",
       "           min          0.000000    0.000000    0.001590   0.000000\n",
       "           25%          0.008125    0.007500    0.006200   0.006000\n",
       "           50%          0.015000    0.011600    0.012000   0.013500\n",
       "           75%          0.019000    0.017400    0.016750   0.017625\n",
       "           max          0.025000    0.020000    0.020000   0.020000"
      ]
     },
     "execution_count": 4,
     "metadata": {},
     "output_type": "execute_result"
    }
   ],
   "source": [
    "#Tilastolliset tunnusluvut rahastoluokittain\n",
    "df.groupby('rahastoluokka').describe().T"
   ]
  },
  {
   "cell_type": "code",
   "execution_count": 5,
   "metadata": {},
   "outputs": [
    {
     "data": {
      "text/plain": [
       "<AxesSubplot:xlabel='rahastoluokka', ylabel='tuotto 5v'>"
      ]
     },
     "execution_count": 5,
     "metadata": {},
     "output_type": "execute_result"
    },
    {
     "data": {
      "image/png": "[encoded data removed]",
      "text/plain": [
       "<Figure size 432x288 with 1 Axes>"
      ]
     },
     "metadata": {},
     "output_type": "display_data"
    }
   ],
   "source": [
    "sns.boxplot(x='rahastoluokka', y='tuotto 5v', data=df)"
   ]
  },
  {
   "cell_type": "code",
   "execution_count": 6,
   "metadata": {},
   "outputs": [
    {
     "data": {
      "text/plain": [
       "<AxesSubplot:xlabel='rahastoluokka', ylabel='tuotto 3v'>"
      ]
     },
     "execution_count": 6,
     "metadata": {},
     "output_type": "execute_result"
    },
    {
     "data": {
      "image/png": "[encoded data removed]",
      "text/plain": [
       "<Figure size 432x288 with 1 Axes>"
      ]
     },
     "metadata": {},
     "output_type": "display_data"
    }
   ],
   "source": [
    "sns.boxplot(x='rahastoluokka', y='tuotto 3v', data=df)"
   ]
  },
  {
   "cell_type": "code",
   "execution_count": 7,
   "metadata": {},
   "outputs": [
    {
     "data": {
      "text/plain": [
       "<AxesSubplot:xlabel='rahastoluokka', ylabel='tuotto 1v'>"
      ]
     },
     "execution_count": 7,
     "metadata": {},
     "output_type": "execute_result"
    },
    {
     "data": {
      "image/png": "[encoded data removed]",
      "text/plain": [
       "<Figure size 432x288 with 1 Axes>"
      ]
     },
     "metadata": {},
     "output_type": "display_data"
    }
   ],
   "source": [
    "sns.boxplot(x='rahastoluokka', y='tuotto 1v', data=df)"
   ]
  },
  {
   "cell_type": "code",
   "execution_count": 8,
   "metadata": {},
   "outputs": [
    {
     "data": {
      "text/plain": [
       "<AxesSubplot:xlabel='rahastoluokka', ylabel='tuotto 6kk'>"
      ]
     },
     "execution_count": 8,
     "metadata": {},
     "output_type": "execute_result"
    },
    {
     "data": {
      "image/png": "[encoded data removed]",
      "text/plain": [
       "<Figure size 432x288 with 1 Axes>"
      ]
     },
     "metadata": {},
     "output_type": "display_data"
    }
   ],
   "source": [
    "sns.boxplot(x='rahastoluokka', y='tuotto 6kk', data=df)"
   ]
  },
  {
   "cell_type": "code",
   "execution_count": 9,
   "metadata": {},
   "outputs": [
    {
     "data": {
      "text/plain": [
       "<AxesSubplot:xlabel='rahastoluokka', ylabel='palkkio'>"
      ]
     },
     "execution_count": 9,
     "metadata": {},
     "output_type": "execute_result"
    },
    {
     "data": {
      "image/png": "[encoded data removed]",
      "text/plain": [
       "<Figure size 432x288 with 1 Axes>"
      ]
     },
     "metadata": {},
     "output_type": "display_data"
    }
   ],
   "source": [
    "sns.boxplot(x='rahastoluokka', y='palkkio', data=df)"
   ]
  },
  {
   "cell_type": "code",
   "execution_count": 10,
   "metadata": {},
   "outputs": [
    {
     "data": {
      "text/html": [
       "<div>\n",
       "<style scoped>\n",
       "    .dataframe tbody tr th:only-of-type {\n",
       "        vertical-align: middle;\n",
       "    }\n",
       "\n",
       "    .dataframe tbody tr th {\n",
       "        vertical-align: top;\n",
       "    }\n",
       "\n",
       "    .dataframe thead th {\n",
       "        text-align: right;\n",
       "    }\n",
       "</style>\n",
       "<table border=\"1\" class=\"dataframe\">\n",
       "  <thead>\n",
       "    <tr style=\"text-align: right;\">\n",
       "      <th></th>\n",
       "      <th></th>\n",
       "      <th>tuotto 1v</th>\n",
       "      <th>palkkio</th>\n",
       "    </tr>\n",
       "    <tr>\n",
       "      <th>rahastoluokka</th>\n",
       "      <th></th>\n",
       "      <th></th>\n",
       "      <th></th>\n",
       "    </tr>\n",
       "  </thead>\n",
       "  <tbody>\n",
       "    <tr>\n",
       "      <th rowspan=\"2\" valign=\"top\">EQ_EMER_GLOBAL</th>\n",
       "      <th>tuotto 1v</th>\n",
       "      <td>1.000000</td>\n",
       "      <td>0.083761</td>\n",
       "    </tr>\n",
       "    <tr>\n",
       "      <th>palkkio</th>\n",
       "      <td>0.083761</td>\n",
       "      <td>1.000000</td>\n",
       "    </tr>\n",
       "    <tr>\n",
       "      <th rowspan=\"2\" valign=\"top\">EQ_EUROPE</th>\n",
       "      <th>tuotto 1v</th>\n",
       "      <td>1.000000</td>\n",
       "      <td>-0.002943</td>\n",
       "    </tr>\n",
       "    <tr>\n",
       "      <th>palkkio</th>\n",
       "      <td>-0.002943</td>\n",
       "      <td>1.000000</td>\n",
       "    </tr>\n",
       "    <tr>\n",
       "      <th rowspan=\"2\" valign=\"top\">EQ_FINLAND</th>\n",
       "      <th>tuotto 1v</th>\n",
       "      <td>1.000000</td>\n",
       "      <td>0.086227</td>\n",
       "    </tr>\n",
       "    <tr>\n",
       "      <th>palkkio</th>\n",
       "      <td>0.086227</td>\n",
       "      <td>1.000000</td>\n",
       "    </tr>\n",
       "    <tr>\n",
       "      <th rowspan=\"2\" valign=\"top\">EQ_NORAM</th>\n",
       "      <th>tuotto 1v</th>\n",
       "      <td>1.000000</td>\n",
       "      <td>-0.280336</td>\n",
       "    </tr>\n",
       "    <tr>\n",
       "      <th>palkkio</th>\n",
       "      <td>-0.280336</td>\n",
       "      <td>1.000000</td>\n",
       "    </tr>\n",
       "  </tbody>\n",
       "</table>\n",
       "</div>"
      ],
      "text/plain": [
       "                          tuotto 1v   palkkio\n",
       "rahastoluokka                                \n",
       "EQ_EMER_GLOBAL tuotto 1v   1.000000  0.083761\n",
       "               palkkio     0.083761  1.000000\n",
       "EQ_EUROPE      tuotto 1v   1.000000 -0.002943\n",
       "               palkkio    -0.002943  1.000000\n",
       "EQ_FINLAND     tuotto 1v   1.000000  0.086227\n",
       "               palkkio     0.086227  1.000000\n",
       "EQ_NORAM       tuotto 1v   1.000000 -0.280336\n",
       "               palkkio    -0.280336  1.000000"
      ]
     },
     "execution_count": 10,
     "metadata": {},
     "output_type": "execute_result"
    }
   ],
   "source": [
    "# Korrelaatiokertoimen 1v tuoton ja palkkion välille rahastoluokittain\n",
    "df.groupby('rahastoluokka')[['tuotto 1v','palkkio']].corr()"
   ]
  },
  {
   "cell_type": "code",
   "execution_count": 11,
   "metadata": {},
   "outputs": [
    {
     "name": "stdout",
     "output_type": "stream",
     "text": [
      "EQ_EMER_GLOBAL korrelaatio 0.084, p-arvo 0.5319\n",
      "EQ_EUROPE korrelaatio -0.003, p-arvo 0.9746\n",
      "EQ_FINLAND korrelaatio 0.086, p-arvo 0.6017\n",
      "EQ_NORAM korrelaatio -0.280, p-arvo 0.0148\n"
     ]
    }
   ],
   "source": [
    "# pearsonr-funktion tuonti scipy.stats-kirjastosta\n",
    "from scipy.stats import pearsonr\n",
    "\n",
    "# Korrelaatiokertoimet ja p-arvot 1v tuoton ja palkkion välille rahastoluokittain\n",
    "for luokka in pd.unique(df['rahastoluokka']):\n",
    "    df_dropna = df[df['rahastoluokka']==luokka].dropna(subset=['tuotto 1v', 'palkkio'])\n",
    "    corr, p = pearsonr(df_dropna['tuotto 1v'], df_dropna['palkkio'])\n",
    "    print(luokka, 'korrelaatio %.3f,' %corr, 'p-arvo %.4f' %p)"
   ]
  },
  {
   "cell_type": "code",
   "execution_count": 12,
   "metadata": {},
   "outputs": [
    {
     "name": "stdout",
     "output_type": "stream",
     "text": [
      "<class 'pandas.core.frame.DataFrame'>\n",
      "RangeIndex: 311 entries, 0 to 310\n",
      "Data columns (total 7 columns):\n",
      " #   Column         Non-Null Count  Dtype  \n",
      "---  ------         --------------  -----  \n",
      " 0   nimi           311 non-null    object \n",
      " 1   tuotto 5v      233 non-null    float64\n",
      " 2   tuotto 3v      258 non-null    float64\n",
      " 3   tuotto 1v      292 non-null    float64\n",
      " 4   tuotto 6kk     294 non-null    float64\n",
      " 5   palkkio        311 non-null    float64\n",
      " 6   rahastoluokka  311 non-null    object \n",
      "dtypes: float64(5), object(2)\n",
      "memory usage: 17.1+ KB\n"
     ]
    }
   ],
   "source": [
    "df.info()"
   ]
  },
  {
   "cell_type": "code",
   "execution_count": 25,
   "metadata": {},
   "outputs": [
    {
     "data": {
      "image/png": "[encoded data removed]",
      "text/plain": [
       "<Figure size 864x216 with 4 Axes>"
      ]
     },
     "metadata": {},
     "output_type": "display_data"
    }
   ],
   "source": [
    "# 1v tuotot ja palkkiot pistekaavioina rahastoluokittain\n",
    "g = sns.FacetGrid(data=df, col='rahastoluokka')\n",
    "g = g.map(plt.scatter, 'palkkio', 'tuotto 1v')"
   ]
  },
  {
   "cell_type": "code",
   "execution_count": 27,
   "metadata": {},
   "outputs": [
    {
     "data": {
      "text/plain": [
       "<seaborn.axisgrid.FacetGrid at 0x2351d24f640>"
      ]
     },
     "execution_count": 27,
     "metadata": {},
     "output_type": "execute_result"
    },
    {
     "data": {
      "image/png": "[encoded data removed]",
      "text/plain": [
       "<Figure size 1440x360 with 4 Axes>"
      ]
     },
     "metadata": {},
     "output_type": "display_data"
    }
   ],
   "source": [
    "sns.relplot(x = 'palkkio', y = 'tuotto 1v', col = 'rahastoluokka', data = df, kind = 'scatter')"
   ]
  }
 ],
 "metadata": {
  "kernelspec": {
   "display_name": "Python 3 (ipykernel)",
   "language": "python",
   "name": "python3"
  },
  "language_info": {
   "codemirror_mode": {
    "name": "ipython",
    "version": 3
   },
   "file_extension": ".py",
   "mimetype": "text/x-python",
   "name": "python",
   "nbconvert_exporter": "python",
   "pygments_lexer": "ipython3",
   "version": "3.9.7"
  }
 },
 "nbformat": 4,
 "nbformat_minor": 2
}
