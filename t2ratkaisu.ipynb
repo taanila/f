{
 "cells": [
  {
   "cell_type": "markdown",
   "metadata": {},
   "source": [
    "### Analyysejä analysointiosaamisen tehtävään 2"
   ]
  },
  {
   "cell_type": "code",
   "execution_count": 2,
   "metadata": {
    "scrolled": true
   },
   "outputs": [
    {
     "data": {
      "text/html": [
       "<div>\n",
       "<style scoped>\n",
       "    .dataframe tbody tr th:only-of-type {\n",
       "        vertical-align: middle;\n",
       "    }\n",
       "\n",
       "    .dataframe tbody tr th {\n",
       "        vertical-align: top;\n",
       "    }\n",
       "\n",
       "    .dataframe thead th {\n",
       "        text-align: right;\n",
       "    }\n",
       "</style>\n",
       "<table border=\"1\" class=\"dataframe\">\n",
       "  <thead>\n",
       "    <tr style=\"text-align: right;\">\n",
       "      <th></th>\n",
       "      <th>Rahaston nimi</th>\n",
       "      <th>5 vuoden tuotto (% vuodessa)</th>\n",
       "      <th>3 vuoden tuotto (% vuodessa)</th>\n",
       "      <th>1 vuoden tuotto</th>\n",
       "      <th>6 kuukauden tuotto</th>\n",
       "      <th>Hallinn. ja säilytyspalkkio (% vuodessa)</th>\n",
       "      <th>Rahastoluokka</th>\n",
       "    </tr>\n",
       "  </thead>\n",
       "  <tbody>\n",
       "    <tr>\n",
       "      <th>0</th>\n",
       "      <td>Aktia Capital</td>\n",
       "      <td>0.057994</td>\n",
       "      <td>0.036465</td>\n",
       "      <td>0.119639</td>\n",
       "      <td>0.000460</td>\n",
       "      <td>0.0183</td>\n",
       "      <td>EQ_FINLAND</td>\n",
       "    </tr>\n",
       "    <tr>\n",
       "      <th>1</th>\n",
       "      <td>Danske Invest Suomen Pienyhtiöt K</td>\n",
       "      <td>0.080784</td>\n",
       "      <td>0.047014</td>\n",
       "      <td>0.214640</td>\n",
       "      <td>0.026255</td>\n",
       "      <td>0.0130</td>\n",
       "      <td>EQ_FINLAND</td>\n",
       "    </tr>\n",
       "    <tr>\n",
       "      <th>2</th>\n",
       "      <td>Danske Invest Suomi Osake</td>\n",
       "      <td>0.043333</td>\n",
       "      <td>0.025153</td>\n",
       "      <td>0.069277</td>\n",
       "      <td>-0.021402</td>\n",
       "      <td>0.0140</td>\n",
       "      <td>EQ_FINLAND</td>\n",
       "    </tr>\n",
       "    <tr>\n",
       "      <th>3</th>\n",
       "      <td>Danske Invest Suomi Osake I K</td>\n",
       "      <td>0.052653</td>\n",
       "      <td>0.029280</td>\n",
       "      <td>0.077320</td>\n",
       "      <td>-0.019227</td>\n",
       "      <td>0.0095</td>\n",
       "      <td>EQ_FINLAND</td>\n",
       "    </tr>\n",
       "    <tr>\n",
       "      <th>4</th>\n",
       "      <td>Danske Invest Suomi Osake I T</td>\n",
       "      <td>NaN</td>\n",
       "      <td>NaN</td>\n",
       "      <td>NaN</td>\n",
       "      <td>-0.066823</td>\n",
       "      <td>0.0095</td>\n",
       "      <td>EQ_FINLAND</td>\n",
       "    </tr>\n",
       "  </tbody>\n",
       "</table>\n",
       "</div>"
      ],
      "text/plain": [
       "                       Rahaston nimi  5 vuoden tuotto (% vuodessa)  \\\n",
       "0                      Aktia Capital                      0.057994   \n",
       "1  Danske Invest Suomen Pienyhtiöt K                      0.080784   \n",
       "2          Danske Invest Suomi Osake                      0.043333   \n",
       "3      Danske Invest Suomi Osake I K                      0.052653   \n",
       "4      Danske Invest Suomi Osake I T                           NaN   \n",
       "\n",
       "   3 vuoden tuotto (% vuodessa)  1 vuoden tuotto  6 kuukauden tuotto  \\\n",
       "0                      0.036465         0.119639            0.000460   \n",
       "1                      0.047014         0.214640            0.026255   \n",
       "2                      0.025153         0.069277           -0.021402   \n",
       "3                      0.029280         0.077320           -0.019227   \n",
       "4                           NaN              NaN           -0.066823   \n",
       "\n",
       "   Hallinn. ja säilytyspalkkio (% vuodessa) Rahastoluokka  \n",
       "0                                    0.0183    EQ_FINLAND  \n",
       "1                                    0.0130    EQ_FINLAND  \n",
       "2                                    0.0140    EQ_FINLAND  \n",
       "3                                    0.0095    EQ_FINLAND  \n",
       "4                                    0.0095    EQ_FINLAND  "
      ]
     },
     "execution_count": 2,
     "metadata": {},
     "output_type": "execute_result"
    }
   ],
   "source": [
    "# Kirjastojen tuonti\n",
    "import pandas as pd\n",
    "import matplotlib.pyplot as plt\n",
    "import seaborn as sns\n",
    "%matplotlib inline\n",
    "\n",
    "# Kaavioiden tyylimäärittely\n",
    "plt.style.use('seaborn-whitegrid')\n",
    "\n",
    "# Datan avaaminen\n",
    "df=pd.read_excel('https://myy.haaga-helia.fi/~taaak/a/t2aineisto.xlsx')\n",
    "df.head()"
   ]
  },
  {
   "cell_type": "code",
   "execution_count": 3,
   "metadata": {},
   "outputs": [],
   "source": [
    "# Lyhyemmät nimet muuttujille\n",
    "df.columns=['nimi', 'tuotto 5v', 'tuotto 3v', 'tuotto 1v', 'tuotto 6kk', 'palkkio', 'rahastoluokka']"
   ]
  },
  {
   "cell_type": "code",
   "execution_count": 4,
   "metadata": {},
   "outputs": [
    {
     "data": {
      "text/html": [
       "<div>\n",
       "<style scoped>\n",
       "    .dataframe tbody tr th:only-of-type {\n",
       "        vertical-align: middle;\n",
       "    }\n",
       "\n",
       "    .dataframe tbody tr th {\n",
       "        vertical-align: top;\n",
       "    }\n",
       "\n",
       "    .dataframe thead th {\n",
       "        text-align: right;\n",
       "    }\n",
       "</style>\n",
       "<table border=\"1\" class=\"dataframe\">\n",
       "  <thead>\n",
       "    <tr style=\"text-align: right;\">\n",
       "      <th></th>\n",
       "      <th>rahastoluokka</th>\n",
       "      <th>EQ_EMER_GLOBAL</th>\n",
       "      <th>EQ_EUROPE</th>\n",
       "      <th>EQ_FINLAND</th>\n",
       "      <th>EQ_NORAM</th>\n",
       "    </tr>\n",
       "  </thead>\n",
       "  <tbody>\n",
       "    <tr>\n",
       "      <th rowspan=\"8\" valign=\"top\">tuotto 5v</th>\n",
       "      <th>count</th>\n",
       "      <td>47.000000</td>\n",
       "      <td>98.000000</td>\n",
       "      <td>33.000000</td>\n",
       "      <td>56.000000</td>\n",
       "    </tr>\n",
       "    <tr>\n",
       "      <th>mean</th>\n",
       "      <td>0.030764</td>\n",
       "      <td>0.007988</td>\n",
       "      <td>0.068681</td>\n",
       "      <td>0.067235</td>\n",
       "    </tr>\n",
       "    <tr>\n",
       "      <th>std</th>\n",
       "      <td>0.039559</td>\n",
       "      <td>0.032605</td>\n",
       "      <td>0.022043</td>\n",
       "      <td>0.041024</td>\n",
       "    </tr>\n",
       "    <tr>\n",
       "      <th>min</th>\n",
       "      <td>-0.066296</td>\n",
       "      <td>-0.096064</td>\n",
       "      <td>0.033769</td>\n",
       "      <td>-0.026373</td>\n",
       "    </tr>\n",
       "    <tr>\n",
       "      <th>25%</th>\n",
       "      <td>0.014328</td>\n",
       "      <td>-0.007594</td>\n",
       "      <td>0.054329</td>\n",
       "      <td>0.034767</td>\n",
       "    </tr>\n",
       "    <tr>\n",
       "      <th>50%</th>\n",
       "      <td>0.034583</td>\n",
       "      <td>0.004205</td>\n",
       "      <td>0.068281</td>\n",
       "      <td>0.072898</td>\n",
       "    </tr>\n",
       "    <tr>\n",
       "      <th>75%</th>\n",
       "      <td>0.060830</td>\n",
       "      <td>0.031267</td>\n",
       "      <td>0.075807</td>\n",
       "      <td>0.088219</td>\n",
       "    </tr>\n",
       "    <tr>\n",
       "      <th>max</th>\n",
       "      <td>0.088375</td>\n",
       "      <td>0.087708</td>\n",
       "      <td>0.132362</td>\n",
       "      <td>0.165811</td>\n",
       "    </tr>\n",
       "    <tr>\n",
       "      <th rowspan=\"8\" valign=\"top\">tuotto 3v</th>\n",
       "      <th>count</th>\n",
       "      <td>53.000000</td>\n",
       "      <td>106.000000</td>\n",
       "      <td>33.000000</td>\n",
       "      <td>66.000000</td>\n",
       "    </tr>\n",
       "    <tr>\n",
       "      <th>mean</th>\n",
       "      <td>0.012624</td>\n",
       "      <td>-0.002724</td>\n",
       "      <td>0.040567</td>\n",
       "      <td>0.083473</td>\n",
       "    </tr>\n",
       "    <tr>\n",
       "      <th>std</th>\n",
       "      <td>0.044993</td>\n",
       "      <td>0.047392</td>\n",
       "      <td>0.028129</td>\n",
       "      <td>0.064939</td>\n",
       "    </tr>\n",
       "    <tr>\n",
       "      <th>min</th>\n",
       "      <td>-0.093900</td>\n",
       "      <td>-0.170996</td>\n",
       "      <td>-0.022747</td>\n",
       "      <td>-0.092008</td>\n",
       "    </tr>\n",
       "    <tr>\n",
       "      <th>25%</th>\n",
       "      <td>-0.008411</td>\n",
       "      <td>-0.024849</td>\n",
       "      <td>0.027685</td>\n",
       "      <td>0.034227</td>\n",
       "    </tr>\n",
       "    <tr>\n",
       "      <th>50%</th>\n",
       "      <td>0.021968</td>\n",
       "      <td>0.000800</td>\n",
       "      <td>0.042255</td>\n",
       "      <td>0.095420</td>\n",
       "    </tr>\n",
       "    <tr>\n",
       "      <th>75%</th>\n",
       "      <td>0.042582</td>\n",
       "      <td>0.019518</td>\n",
       "      <td>0.052296</td>\n",
       "      <td>0.111689</td>\n",
       "    </tr>\n",
       "    <tr>\n",
       "      <th>max</th>\n",
       "      <td>0.085515</td>\n",
       "      <td>0.143038</td>\n",
       "      <td>0.132613</td>\n",
       "      <td>0.248994</td>\n",
       "    </tr>\n",
       "    <tr>\n",
       "      <th rowspan=\"8\" valign=\"top\">tuotto 1v</th>\n",
       "      <th>count</th>\n",
       "      <td>60.000000</td>\n",
       "      <td>119.000000</td>\n",
       "      <td>40.000000</td>\n",
       "      <td>68.000000</td>\n",
       "    </tr>\n",
       "    <tr>\n",
       "      <th>mean</th>\n",
       "      <td>-0.048479</td>\n",
       "      <td>-0.040883</td>\n",
       "      <td>0.107079</td>\n",
       "      <td>0.010460</td>\n",
       "    </tr>\n",
       "    <tr>\n",
       "      <th>std</th>\n",
       "      <td>0.113752</td>\n",
       "      <td>0.096190</td>\n",
       "      <td>0.063922</td>\n",
       "      <td>0.101700</td>\n",
       "    </tr>\n",
       "    <tr>\n",
       "      <th>min</th>\n",
       "      <td>-0.313447</td>\n",
       "      <td>-0.337299</td>\n",
       "      <td>0.005820</td>\n",
       "      <td>-0.201586</td>\n",
       "    </tr>\n",
       "    <tr>\n",
       "      <th>25%</th>\n",
       "      <td>-0.094815</td>\n",
       "      <td>-0.073571</td>\n",
       "      <td>0.074801</td>\n",
       "      <td>-0.049464</td>\n",
       "    </tr>\n",
       "    <tr>\n",
       "      <th>50%</th>\n",
       "      <td>-0.040281</td>\n",
       "      <td>-0.044360</td>\n",
       "      <td>0.085331</td>\n",
       "      <td>0.022750</td>\n",
       "    </tr>\n",
       "    <tr>\n",
       "      <th>75%</th>\n",
       "      <td>0.021405</td>\n",
       "      <td>-0.001199</td>\n",
       "      <td>0.129700</td>\n",
       "      <td>0.075400</td>\n",
       "    </tr>\n",
       "    <tr>\n",
       "      <th>max</th>\n",
       "      <td>0.220075</td>\n",
       "      <td>0.234200</td>\n",
       "      <td>0.301775</td>\n",
       "      <td>0.290749</td>\n",
       "    </tr>\n",
       "    <tr>\n",
       "      <th rowspan=\"8\" valign=\"top\">tuotto 6kk</th>\n",
       "      <th>count</th>\n",
       "      <td>60.000000</td>\n",
       "      <td>120.000000</td>\n",
       "      <td>42.000000</td>\n",
       "      <td>71.000000</td>\n",
       "    </tr>\n",
       "    <tr>\n",
       "      <th>mean</th>\n",
       "      <td>-0.078669</td>\n",
       "      <td>-0.109502</td>\n",
       "      <td>-0.028753</td>\n",
       "      <td>-0.063478</td>\n",
       "    </tr>\n",
       "    <tr>\n",
       "      <th>std</th>\n",
       "      <td>0.086207</td>\n",
       "      <td>0.074518</td>\n",
       "      <td>0.027808</td>\n",
       "      <td>0.076023</td>\n",
       "    </tr>\n",
       "    <tr>\n",
       "      <th>min</th>\n",
       "      <td>-0.287205</td>\n",
       "      <td>-0.316984</td>\n",
       "      <td>-0.120842</td>\n",
       "      <td>-0.219701</td>\n",
       "    </tr>\n",
       "    <tr>\n",
       "      <th>25%</th>\n",
       "      <td>-0.098278</td>\n",
       "      <td>-0.135472</td>\n",
       "      <td>-0.044504</td>\n",
       "      <td>-0.108832</td>\n",
       "    </tr>\n",
       "    <tr>\n",
       "      <th>50%</th>\n",
       "      <td>-0.063498</td>\n",
       "      <td>-0.111723</td>\n",
       "      <td>-0.024965</td>\n",
       "      <td>-0.050492</td>\n",
       "    </tr>\n",
       "    <tr>\n",
       "      <th>75%</th>\n",
       "      <td>-0.033650</td>\n",
       "      <td>-0.070482</td>\n",
       "      <td>-0.017676</td>\n",
       "      <td>-0.026234</td>\n",
       "    </tr>\n",
       "    <tr>\n",
       "      <th>max</th>\n",
       "      <td>0.111272</td>\n",
       "      <td>0.146513</td>\n",
       "      <td>0.035040</td>\n",
       "      <td>0.166818</td>\n",
       "    </tr>\n",
       "    <tr>\n",
       "      <th rowspan=\"8\" valign=\"top\">palkkio</th>\n",
       "      <th>count</th>\n",
       "      <td>62.000000</td>\n",
       "      <td>124.000000</td>\n",
       "      <td>42.000000</td>\n",
       "      <td>78.000000</td>\n",
       "    </tr>\n",
       "    <tr>\n",
       "      <th>mean</th>\n",
       "      <td>0.014727</td>\n",
       "      <td>0.012083</td>\n",
       "      <td>0.012033</td>\n",
       "      <td>0.011463</td>\n",
       "    </tr>\n",
       "    <tr>\n",
       "      <th>std</th>\n",
       "      <td>0.006255</td>\n",
       "      <td>0.005691</td>\n",
       "      <td>0.005809</td>\n",
       "      <td>0.006049</td>\n",
       "    </tr>\n",
       "    <tr>\n",
       "      <th>min</th>\n",
       "      <td>0.002000</td>\n",
       "      <td>0.000000</td>\n",
       "      <td>0.001590</td>\n",
       "      <td>0.000000</td>\n",
       "    </tr>\n",
       "    <tr>\n",
       "      <th>25%</th>\n",
       "      <td>0.009500</td>\n",
       "      <td>0.008000</td>\n",
       "      <td>0.006525</td>\n",
       "      <td>0.006125</td>\n",
       "    </tr>\n",
       "    <tr>\n",
       "      <th>50%</th>\n",
       "      <td>0.015000</td>\n",
       "      <td>0.012000</td>\n",
       "      <td>0.013000</td>\n",
       "      <td>0.011000</td>\n",
       "    </tr>\n",
       "    <tr>\n",
       "      <th>75%</th>\n",
       "      <td>0.019000</td>\n",
       "      <td>0.018000</td>\n",
       "      <td>0.017500</td>\n",
       "      <td>0.017375</td>\n",
       "    </tr>\n",
       "    <tr>\n",
       "      <th>max</th>\n",
       "      <td>0.025000</td>\n",
       "      <td>0.020000</td>\n",
       "      <td>0.020000</td>\n",
       "      <td>0.020000</td>\n",
       "    </tr>\n",
       "  </tbody>\n",
       "</table>\n",
       "</div>"
      ],
      "text/plain": [
       "rahastoluokka     EQ_EMER_GLOBAL   EQ_EUROPE  EQ_FINLAND   EQ_NORAM\n",
       "tuotto 5v  count       47.000000   98.000000   33.000000  56.000000\n",
       "           mean         0.030764    0.007988    0.068681   0.067235\n",
       "           std          0.039559    0.032605    0.022043   0.041024\n",
       "           min         -0.066296   -0.096064    0.033769  -0.026373\n",
       "           25%          0.014328   -0.007594    0.054329   0.034767\n",
       "           50%          0.034583    0.004205    0.068281   0.072898\n",
       "           75%          0.060830    0.031267    0.075807   0.088219\n",
       "           max          0.088375    0.087708    0.132362   0.165811\n",
       "tuotto 3v  count       53.000000  106.000000   33.000000  66.000000\n",
       "           mean         0.012624   -0.002724    0.040567   0.083473\n",
       "           std          0.044993    0.047392    0.028129   0.064939\n",
       "           min         -0.093900   -0.170996   -0.022747  -0.092008\n",
       "           25%         -0.008411   -0.024849    0.027685   0.034227\n",
       "           50%          0.021968    0.000800    0.042255   0.095420\n",
       "           75%          0.042582    0.019518    0.052296   0.111689\n",
       "           max          0.085515    0.143038    0.132613   0.248994\n",
       "tuotto 1v  count       60.000000  119.000000   40.000000  68.000000\n",
       "           mean        -0.048479   -0.040883    0.107079   0.010460\n",
       "           std          0.113752    0.096190    0.063922   0.101700\n",
       "           min         -0.313447   -0.337299    0.005820  -0.201586\n",
       "           25%         -0.094815   -0.073571    0.074801  -0.049464\n",
       "           50%         -0.040281   -0.044360    0.085331   0.022750\n",
       "           75%          0.021405   -0.001199    0.129700   0.075400\n",
       "           max          0.220075    0.234200    0.301775   0.290749\n",
       "tuotto 6kk count       60.000000  120.000000   42.000000  71.000000\n",
       "           mean        -0.078669   -0.109502   -0.028753  -0.063478\n",
       "           std          0.086207    0.074518    0.027808   0.076023\n",
       "           min         -0.287205   -0.316984   -0.120842  -0.219701\n",
       "           25%         -0.098278   -0.135472   -0.044504  -0.108832\n",
       "           50%         -0.063498   -0.111723   -0.024965  -0.050492\n",
       "           75%         -0.033650   -0.070482   -0.017676  -0.026234\n",
       "           max          0.111272    0.146513    0.035040   0.166818\n",
       "palkkio    count       62.000000  124.000000   42.000000  78.000000\n",
       "           mean         0.014727    0.012083    0.012033   0.011463\n",
       "           std          0.006255    0.005691    0.005809   0.006049\n",
       "           min          0.002000    0.000000    0.001590   0.000000\n",
       "           25%          0.009500    0.008000    0.006525   0.006125\n",
       "           50%          0.015000    0.012000    0.013000   0.011000\n",
       "           75%          0.019000    0.018000    0.017500   0.017375\n",
       "           max          0.025000    0.020000    0.020000   0.020000"
      ]
     },
     "execution_count": 4,
     "metadata": {},
     "output_type": "execute_result"
    }
   ],
   "source": [
    "#Tilastolliset tunnusluvut rahastoluokittain\n",
    "df.groupby('rahastoluokka').describe().T"
   ]
  },
  {
   "cell_type": "code",
   "execution_count": 5,
   "metadata": {},
   "outputs": [
    {
     "data": {
      "text/plain": [
       "<matplotlib.axes._subplots.AxesSubplot at 0x1a470985cd0>"
      ]
     },
     "execution_count": 5,
     "metadata": {},
     "output_type": "execute_result"
    },
    {
     "data": {
      "image/png": "[encoded data removed]",
      "text/plain": [
       "<Figure size 432x288 with 1 Axes>"
      ]
     },
     "metadata": {},
     "output_type": "display_data"
    }
   ],
   "source": [
    "sns.boxplot(x='rahastoluokka', y='tuotto 5v', data=df)"
   ]
  },
  {
   "cell_type": "code",
   "execution_count": 6,
   "metadata": {},
   "outputs": [
    {
     "data": {
      "text/plain": [
       "<matplotlib.axes._subplots.AxesSubplot at 0x1a46b8e5bb0>"
      ]
     },
     "execution_count": 6,
     "metadata": {},
     "output_type": "execute_result"
    },
    {
     "data": {
      "image/png": "[encoded data removed]",
      "text/plain": [
       "<Figure size 432x288 with 1 Axes>"
      ]
     },
     "metadata": {},
     "output_type": "display_data"
    }
   ],
   "source": [
    "sns.boxplot(x='rahastoluokka', y='tuotto 3v', data=df)"
   ]
  },
  {
   "cell_type": "code",
   "execution_count": 7,
   "metadata": {},
   "outputs": [
    {
     "data": {
      "text/plain": [
       "<matplotlib.axes._subplots.AxesSubplot at 0x1a47074e670>"
      ]
     },
     "execution_count": 7,
     "metadata": {},
     "output_type": "execute_result"
    },
    {
     "data": {
      "image/png": "[encoded data removed]",
      "text/plain": [
       "<Figure size 432x288 with 1 Axes>"
      ]
     },
     "metadata": {},
     "output_type": "display_data"
    }
   ],
   "source": [
    "sns.boxplot(x='rahastoluokka', y='tuotto 1v', data=df)"
   ]
  },
  {
   "cell_type": "code",
   "execution_count": 8,
   "metadata": {},
   "outputs": [
    {
     "data": {
      "text/plain": [
       "<matplotlib.axes._subplots.AxesSubplot at 0x1a471250400>"
      ]
     },
     "execution_count": 8,
     "metadata": {},
     "output_type": "execute_result"
    },
    {
     "data": {
      "image/png": "[encoded data removed]",
      "text/plain": [
       "<Figure size 432x288 with 1 Axes>"
      ]
     },
     "metadata": {},
     "output_type": "display_data"
    }
   ],
   "source": [
    "sns.boxplot(x='rahastoluokka', y='tuotto 6kk', data=df)"
   ]
  },
  {
   "cell_type": "code",
   "execution_count": 9,
   "metadata": {},
   "outputs": [
    {
     "data": {
      "text/plain": [
       "<matplotlib.axes._subplots.AxesSubplot at 0x1a4712d8e80>"
      ]
     },
     "execution_count": 9,
     "metadata": {},
     "output_type": "execute_result"
    },
    {
     "data": {
      "image/png": "[encoded data removed]",
      "text/plain": [
       "<Figure size 432x288 with 1 Axes>"
      ]
     },
     "metadata": {},
     "output_type": "display_data"
    }
   ],
   "source": [
    "sns.boxplot(x='rahastoluokka', y='palkkio', data=df)"
   ]
  },
  {
   "cell_type": "code",
   "execution_count": 10,
   "metadata": {},
   "outputs": [
    {
     "data": {
      "text/html": [
       "<div>\n",
       "<style scoped>\n",
       "    .dataframe tbody tr th:only-of-type {\n",
       "        vertical-align: middle;\n",
       "    }\n",
       "\n",
       "    .dataframe tbody tr th {\n",
       "        vertical-align: top;\n",
       "    }\n",
       "\n",
       "    .dataframe thead th {\n",
       "        text-align: right;\n",
       "    }\n",
       "</style>\n",
       "<table border=\"1\" class=\"dataframe\">\n",
       "  <thead>\n",
       "    <tr style=\"text-align: right;\">\n",
       "      <th></th>\n",
       "      <th></th>\n",
       "      <th>tuotto 1v</th>\n",
       "      <th>palkkio</th>\n",
       "    </tr>\n",
       "    <tr>\n",
       "      <th>rahastoluokka</th>\n",
       "      <th></th>\n",
       "      <th></th>\n",
       "      <th></th>\n",
       "    </tr>\n",
       "  </thead>\n",
       "  <tbody>\n",
       "    <tr>\n",
       "      <th rowspan=\"2\" valign=\"top\">EQ_EMER_GLOBAL</th>\n",
       "      <th>tuotto 1v</th>\n",
       "      <td>1.000000</td>\n",
       "      <td>-0.198664</td>\n",
       "    </tr>\n",
       "    <tr>\n",
       "      <th>palkkio</th>\n",
       "      <td>-0.198664</td>\n",
       "      <td>1.000000</td>\n",
       "    </tr>\n",
       "    <tr>\n",
       "      <th rowspan=\"2\" valign=\"top\">EQ_EUROPE</th>\n",
       "      <th>tuotto 1v</th>\n",
       "      <td>1.000000</td>\n",
       "      <td>0.117043</td>\n",
       "    </tr>\n",
       "    <tr>\n",
       "      <th>palkkio</th>\n",
       "      <td>0.117043</td>\n",
       "      <td>1.000000</td>\n",
       "    </tr>\n",
       "    <tr>\n",
       "      <th rowspan=\"2\" valign=\"top\">EQ_FINLAND</th>\n",
       "      <th>tuotto 1v</th>\n",
       "      <td>1.000000</td>\n",
       "      <td>0.386081</td>\n",
       "    </tr>\n",
       "    <tr>\n",
       "      <th>palkkio</th>\n",
       "      <td>0.386081</td>\n",
       "      <td>1.000000</td>\n",
       "    </tr>\n",
       "    <tr>\n",
       "      <th rowspan=\"2\" valign=\"top\">EQ_NORAM</th>\n",
       "      <th>tuotto 1v</th>\n",
       "      <td>1.000000</td>\n",
       "      <td>-0.069800</td>\n",
       "    </tr>\n",
       "    <tr>\n",
       "      <th>palkkio</th>\n",
       "      <td>-0.069800</td>\n",
       "      <td>1.000000</td>\n",
       "    </tr>\n",
       "  </tbody>\n",
       "</table>\n",
       "</div>"
      ],
      "text/plain": [
       "                          tuotto 1v   palkkio\n",
       "rahastoluokka                                \n",
       "EQ_EMER_GLOBAL tuotto 1v   1.000000 -0.198664\n",
       "               palkkio    -0.198664  1.000000\n",
       "EQ_EUROPE      tuotto 1v   1.000000  0.117043\n",
       "               palkkio     0.117043  1.000000\n",
       "EQ_FINLAND     tuotto 1v   1.000000  0.386081\n",
       "               palkkio     0.386081  1.000000\n",
       "EQ_NORAM       tuotto 1v   1.000000 -0.069800\n",
       "               palkkio    -0.069800  1.000000"
      ]
     },
     "execution_count": 10,
     "metadata": {},
     "output_type": "execute_result"
    }
   ],
   "source": [
    "# Korrelaatiokertoimen 1v tuoton ja palkkion välille rahastoluokittain\n",
    "df.groupby('rahastoluokka')[['tuotto 1v','palkkio']].corr()"
   ]
  },
  {
   "cell_type": "code",
   "execution_count": 11,
   "metadata": {},
   "outputs": [
    {
     "name": "stdout",
     "output_type": "stream",
     "text": [
      "EQ_FINLAND korrelaatio 0.386, p-arvo 0.014\n",
      "EQ_EUROPE korrelaatio 0.117, p-arvo 0.205\n",
      "EQ_NORAM korrelaatio -0.070, p-arvo 0.572\n",
      "EQ_EMER_GLOBAL korrelaatio -0.199, p-arvo 0.128\n"
     ]
    }
   ],
   "source": [
    "# pearsonr-funktion tuonti scipy.stats-kirjastosta\n",
    "from scipy.stats import pearsonr\n",
    "\n",
    "# Korrelaatiokertoimet ja p-arvot 1v tuoton ja palkkion välille rahastoluokittain\n",
    "for luokka in pd.unique(df['rahastoluokka']):\n",
    "    df_dropna = df[df['rahastoluokka']==luokka].dropna(subset=['tuotto 1v', 'palkkio'])\n",
    "    corr, p = pearsonr(df_dropna['tuotto 1v'], df_dropna['palkkio'])\n",
    "    print(luokka, 'korrelaatio %.3f,' %corr, 'p-arvo %.3f' %p)"
   ]
  },
  {
   "cell_type": "code",
   "execution_count": 12,
   "metadata": {},
   "outputs": [
    {
     "data": {
      "image/png": "[encoded data removed]",
      "text/plain": [
       "<Figure size 864x216 with 4 Axes>"
      ]
     },
     "metadata": {},
     "output_type": "display_data"
    }
   ],
   "source": [
    "# 1v tuotot ja palkkiot pistekaavioina rahastoluokittain\n",
    "g = sns.FacetGrid(data=df, col='rahastoluokka')\n",
    "g = g.map(plt.scatter, 'palkkio', 'tuotto 1v')"
   ]
  }
 ],
 "metadata": {
  "kernelspec": {
   "display_name": "Python 3",
   "language": "python",
   "name": "python3"
  },
  "language_info": {
   "codemirror_mode": {
    "name": "ipython",
    "version": 3
   },
   "file_extension": ".py",
   "mimetype": "text/x-python",
   "name": "python",
   "nbconvert_exporter": "python",
   "pygments_lexer": "ipython3",
   "version": "3.8.3"
  }
 },
 "nbformat": 4,
 "nbformat_minor": 2
}
